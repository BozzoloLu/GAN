{
 "cells": [
  {
   "cell_type": "code",
   "execution_count": 1,
   "metadata": {},
   "outputs": [
    {
     "name": "stderr",
     "output_type": "stream",
     "text": [
      "2022-11-18 14:34:00.617732: W tensorflow/stream_executor/platform/default/dso_loader.cc:64] Could not load dynamic library 'libcudart.so.11.0'; dlerror: libcudart.so.11.0: cannot open shared object file: No such file or directory\n",
      "2022-11-18 14:34:00.617774: I tensorflow/stream_executor/cuda/cudart_stub.cc:29] Ignore above cudart dlerror if you do not have a GPU set up on your machine.\n"
     ]
    }
   ],
   "source": [
    "# Library imports\n",
    "import math\n",
    "import random\n",
    "import numpy as np\n",
    "import pandas as pd\n",
    "import matplotlib.pyplot as plt\n",
    "import matplotlib.gridspec as gridspec\n",
    "import pennylane as qml\n",
    "from sklearn import datasets\n",
    "import tensorflow as tf\n",
    "\n",
    "# Pytorch imports\n",
    "import torch\n",
    "import torch.nn as nn\n",
    "import torch.optim as optim\n",
    "import torchvision.transforms as transforms\n",
    "from torch.utils.data import Dataset, DataLoader\n",
    "from torchvision import models\n",
    "from torchsummary import summary\n",
    "\n",
    "import time\n",
    "from alive_progress import alive_bar\n",
    "\n",
    "# Set the random seed for reproducibility\n",
    "seed = 42\n",
    "torch.manual_seed(seed)\n",
    "np.random.seed(seed)\n",
    "random.seed(seed)"
   ]
  },
  {
   "cell_type": "markdown",
   "metadata": {},
   "source": [
    "### Classical data"
   ]
  },
  {
   "cell_type": "code",
   "execution_count": 2,
   "metadata": {},
   "outputs": [],
   "source": [
    "# class DigitsDataset(Dataset):\n",
    "#     \"\"\"Pytorch dataloader for the Optical Recognition of Handwritten Digits Data Set\"\"\"\n",
    "\n",
    "#     def __init__(self, csv_file, label, transform=None):\n",
    "#         \"\"\"\n",
    "#         Args:\n",
    "#             csv_file (string): Path to the csv file with annotations.\n",
    "#             root_dir (string): Directory with all the images.\n",
    "#             transform (callable, optional): Optional transform to be applied\n",
    "#                 on a sample.\n",
    "#         \"\"\"\n",
    "#         self.csv_file = csv_file\n",
    "#         self.label = label\n",
    "#         self.transform = transform\n",
    "#         self.df = self.filter_by_label(label)\n",
    "\n",
    "#     def filter_by_label(self, label):\n",
    "#         # Use pandas to return a dataframe of only zeros\n",
    "#         df = pd.read_csv(self.csv_file)\n",
    "#         df = df.loc[df.iloc[:, -1] == label]\n",
    "#         return df\n",
    "\n",
    "#     def __len__(self):\n",
    "#         return len(self.df)\n",
    "\n",
    "#     def __getitem__(self, idx):\n",
    "#         if torch.is_tensor(idx):\n",
    "#             idx = idx.tolist()\n",
    "\n",
    "#         image = self.df.iloc[idx, :-1] / 16\n",
    "#         image = np.array(image)\n",
    "#         image = image.astype(np.float32).reshape(8, 8)\n",
    "\n",
    "#         if self.transform:\n",
    "#             image = self.transform(image)\n",
    "\n",
    "#         # Return image and label\n",
    "#         return image, self.label"
   ]
  },
  {
   "cell_type": "code",
   "execution_count": 3,
   "metadata": {},
   "outputs": [],
   "source": [
    "# image_size = 8  # Height / width of the square images\n",
    "# batch_size = 1\n",
    "\n",
    "# transform = transforms.Compose([transforms.ToTensor()])\n",
    "# dataset = DigitsDataset(csv_file=\"optdigits.tra\", transform=transform, label = 0)\n",
    "# dataloader = torch.utils.data.DataLoader(dataset, batch_size=batch_size, shuffle=True, drop_last=True)\n",
    "\n",
    "# for element in dataloader:\n",
    "#    print(element)"
   ]
  },
  {
   "cell_type": "code",
   "execution_count": 4,
   "metadata": {},
   "outputs": [],
   "source": [
    "# plt.figure(figsize=(8,2))\n",
    "\n",
    "# for i in range(8):\n",
    "#     image = dataset[i][0].reshape(image_size,image_size)\n",
    "#     plt.subplot(1,8,i+1)\n",
    "#     plt.axis('off')\n",
    "#     plt.imshow(image.numpy(), cmap='gray')\n",
    "    \n",
    "# plt.show()"
   ]
  },
  {
   "cell_type": "code",
   "execution_count": 5,
   "metadata": {},
   "outputs": [
    {
     "data": {
      "text/plain": [
       "(1797, 8, 8)"
      ]
     },
     "execution_count": 5,
     "metadata": {},
     "output_type": "execute_result"
    }
   ],
   "source": [
    "# Load the digits dataset\n",
    "digits = datasets.load_digits()\n",
    "\n",
    "x_train = digits.data\n",
    "y_train = digits.target\n",
    "\n",
    "x_train = x_train.reshape(len(x_train), 8, 8)\n",
    "x_train.shape"
   ]
  },
  {
   "cell_type": "code",
   "execution_count": 6,
   "metadata": {},
   "outputs": [],
   "source": [
    "def resize_data(x, y, label, image_size):\n",
    "\n",
    "    arr = []\n",
    "\n",
    "    for t, l in zip(x, y):\n",
    "        if l in label:\n",
    "            t = torch.tensor(t, dtype = torch.float32).reshape(image_size, image_size)\n",
    "            t = t/16\n",
    "            arr.append((t, l))\n",
    "    return arr\n",
    "\n",
    "rd = resize_data(x_train, y_train, label = (0, ), image_size = 8)\n",
    "#rd"
   ]
  },
  {
   "cell_type": "code",
   "execution_count": 7,
   "metadata": {},
   "outputs": [],
   "source": [
    "image_size = 8  # Height / width of the square images\n",
    "batch_size = 1\n",
    "dataloader = torch.utils.data.DataLoader(rd, batch_size=batch_size, shuffle=True, drop_last=True)\n",
    "\n",
    "#for element in dataloader1:\n",
    "#   print(element)"
   ]
  },
  {
   "cell_type": "code",
   "execution_count": 8,
   "metadata": {},
   "outputs": [
    {
     "data": {
      "image/png": "[encoded data removed]",
      "text/plain": [
       "<Figure size 576x144 with 10 Axes>"
      ]
     },
     "metadata": {
      "needs_background": "light"
     },
     "output_type": "display_data"
    }
   ],
   "source": [
    "plt.figure(figsize=(8,2))\n",
    "\n",
    "for i in range(10):\n",
    "    image = rd[i][0].reshape(image_size,image_size)\n",
    "    plt.subplot(1,10,i+1)\n",
    "    plt.axis('off')\n",
    "    plt.imshow(image.numpy(), cmap='gray')\n",
    "    \n",
    "plt.show() "
   ]
  },
  {
   "cell_type": "markdown",
   "metadata": {},
   "source": [
    "### Generator Network"
   ]
  },
  {
   "cell_type": "code",
   "execution_count": 9,
   "metadata": {},
   "outputs": [],
   "source": [
    "device = torch.device(\"cpu\")"
   ]
  },
  {
   "cell_type": "code",
   "execution_count": 10,
   "metadata": {},
   "outputs": [],
   "source": [
    "# class Generator(nn.Module):\n",
    "\n",
    "#     def __init__(self, z_dim):\n",
    "\n",
    "#         super(Generator, self).__init__()\n",
    "#         self.z_dim = z_dim\n",
    "#         #self.gen_init_layer_size = gen_init_layer_size\n",
    "\n",
    "#         self.convt_1 = nn.ConvTranspose2d(self.z_dim, 16 * 8, 2, 1, 0, bias=False)\n",
    "#         self.batch_norm_1 = nn.BatchNorm2d(16 * 8)\n",
    "#         self.relu_1 = nn.ReLU(True)\n",
    "#         self.convt_2 = nn.ConvTranspose2d(16 * 8, 16 * 4, 2, 2, 0, bias=False)\n",
    "#         self.batch_norm_2 = nn.BatchNorm2d(16 * 4)\n",
    "#         self.relu_2 = nn.ReLU(True)\n",
    "#         self.convt_3 = nn.ConvTranspose2d(16 * 4, 1, 2, 2, 0, bias=False)                                    \n",
    "\n",
    "#     def forward(self, x):\n",
    "\n",
    "#         x = self.convt_1(x)        \n",
    "#         x = self.batch_norm_1(x)\n",
    "#         x = self.relu_1(x)\n",
    "#         print(x.shape)\n",
    "#         # state size. (ngf*8) x 4 x 4\n",
    "#         x = self.convt_2(x)\n",
    "#         x = self.batch_norm_2(x)\n",
    "#         x = self.relu_2(x)\n",
    "#         print(x.shape)\n",
    "#         x = self.convt_3(x)\n",
    "#         print(x.shape)\n",
    "        \n",
    "#         return x"
   ]
  },
  {
   "cell_type": "code",
   "execution_count": 11,
   "metadata": {},
   "outputs": [],
   "source": [
    "class Generator(nn.Module):\n",
    "\n",
    "    def __init__(self, z_dim):\n",
    "        super(Generator, self).__init__()\n",
    "        self.z_dim = z_dim\n",
    "\n",
    "        self.dense_layer = nn.Linear(self.z_dim, 64)\n",
    "        self.activation = nn.Sigmoid()\n",
    "\n",
    "    def forward(self, x):\n",
    "        return self.activation(self.dense_layer(x))"
   ]
  },
  {
   "cell_type": "code",
   "execution_count": 12,
   "metadata": {},
   "outputs": [],
   "source": [
    "z_dim = 100\n",
    "batch_size = 3\n",
    "gen_init_layer_size = 2*2*16\n",
    "ngf = 8\n",
    "\n",
    "input = torch.rand(1, z_dim) \n",
    "gen = Generator(z_dim)\n",
    "test_images = gen(input).view(1,1,8,8).detach()\n"
   ]
  },
  {
   "cell_type": "code",
   "execution_count": 13,
   "metadata": {},
   "outputs": [
    {
     "data": {
      "image/png": "[encoded data removed]",
      "text/plain": [
       "<Figure size 432x288 with 1 Axes>"
      ]
     },
     "metadata": {
      "needs_background": "light"
     },
     "output_type": "display_data"
    }
   ],
   "source": [
    "images = torch.squeeze(test_images, dim=1)\n",
    "for j, im in enumerate(images):\n",
    "    plt.imshow(im.numpy(), cmap=\"gray\")\n",
    "    \n",
    "plt.show()"
   ]
  },
  {
   "cell_type": "code",
   "execution_count": 14,
   "metadata": {},
   "outputs": [
    {
     "name": "stdout",
     "output_type": "stream",
     "text": [
      "----------------------------------------------------------------\n",
      "        Layer (type)               Output Shape         Param #\n",
      "================================================================\n",
      "            Linear-1                [-1, 1, 64]           6,464\n",
      "           Sigmoid-2                [-1, 1, 64]               0\n",
      "================================================================\n",
      "Total params: 6,464\n",
      "Trainable params: 6,464\n",
      "Non-trainable params: 0\n",
      "----------------------------------------------------------------\n",
      "Input size (MB): 0.00\n",
      "Forward/backward pass size (MB): 0.00\n",
      "Params size (MB): 0.02\n",
      "Estimated Total Size (MB): 0.03\n",
      "----------------------------------------------------------------\n"
     ]
    }
   ],
   "source": [
    "summary(gen, input_size=(1, z_dim))"
   ]
  },
  {
   "cell_type": "code",
   "execution_count": null,
   "metadata": {},
   "outputs": [],
   "source": []
  },
  {
   "cell_type": "markdown",
   "metadata": {},
   "source": [
    "### Discriminator Network"
   ]
  },
  {
   "cell_type": "code",
   "execution_count": 15,
   "metadata": {},
   "outputs": [],
   "source": [
    "class Discriminator(nn.Module):\n",
    "\n",
    "    def __init__(self, image_size):\n",
    "        super().__init__()\n",
    "\n",
    "        self.image_size = image_size\n",
    "\n",
    "        self.model = nn.Sequential(\n",
    "                                    # Inputs to first hidden layer (num_input_features -> 64)\n",
    "                                    nn.Linear(self.image_size * self.image_size, 64),\n",
    "                                    nn.ReLU(),\n",
    "                                    # First hidden layer (64 -> 16)\n",
    "                                    nn.Linear(64, 16),\n",
    "                                    nn.ReLU(),\n",
    "                                    # Second hidden layer (16 -> output)\n",
    "                                    nn.Linear(16, 1),\n",
    "                                    nn.Sigmoid(),\n",
    "                                    )\n",
    "\n",
    "    def forward(self, x):\n",
    "        return self.model(x)"
   ]
  },
  {
   "cell_type": "code",
   "execution_count": 16,
   "metadata": {},
   "outputs": [],
   "source": [
    "# Testing discriminator network\n",
    "\n",
    "real_data = rd[0][0]\n",
    "fake_data = test_images\n",
    "\n",
    "disc = Discriminator(image_size = 8)\n",
    "\n",
    "#outD_real = disc(real_data).view(-1)\n",
    "#outD_fake = disc(fake_data).view(-1)"
   ]
  },
  {
   "cell_type": "code",
   "execution_count": 17,
   "metadata": {},
   "outputs": [],
   "source": [
    "#summary(disc, input_size=(64))"
   ]
  },
  {
   "cell_type": "markdown",
   "metadata": {},
   "source": [
    "### Training class"
   ]
  },
  {
   "cell_type": "code",
   "execution_count": 18,
   "metadata": {},
   "outputs": [],
   "source": [
    "class GAN():\n",
    "    def __init__(self, dataloader, gen_net, disc_net, z_dim, image_size, batch_size, lrG, lrD, gen_loss, disc_loss):\n",
    "\n",
    "        self.dataloader = dataloader\n",
    "        self.gen_net = gen_net\n",
    "        self.disc_net = disc_net\n",
    "        self.z_dim = z_dim\n",
    "        self.image_size = image_size\n",
    "        self.batch_size = batch_size\n",
    "        self.lrG = lrG\n",
    "        self.lrD = lrD\n",
    "        self.gen_loss = gen_loss\n",
    "        self.disc_loss = disc_loss\n",
    "\n",
    "        # Optimisers\n",
    "        self.optD = optim.SGD(self.disc_net.parameters(), lr=self.lrD)\n",
    "        self.optG = optim.SGD(self.gen_net.parameters(), lr=self.lrG)\n",
    "\n",
    "        self.real_labels = torch.full((self.batch_size,), 1.0, dtype=torch.float, device=device)\n",
    "        self.fake_labels = torch.full((self.batch_size,), 0.0, dtype=torch.float, device=device)        \n",
    "\n",
    "        # Collect images for plotting later        \n",
    "\n",
    "    def generated_and_save_images(self, results):\n",
    "\n",
    "        fig = plt.figure(figsize=(20, 10))\n",
    "        outer = gridspec.GridSpec(5, 2, wspace=0.1)\n",
    "\n",
    "        for i, images in enumerate(results):\n",
    "            inner = gridspec.GridSpecFromSubplotSpec(1, images.size(0), subplot_spec=outer[i])\n",
    "            \n",
    "            images = torch.squeeze(images, dim=1)\n",
    "            for j, im in enumerate(images):\n",
    "\n",
    "                ax = plt.Subplot(fig, inner[j])\n",
    "                ax.imshow(im.numpy(), cmap=\"gray\")\n",
    "                ax.set_xticks([])\n",
    "                ax.set_yticks([])\n",
    "                if j==0:\n",
    "                    ax.set_title(f'Iteration {50+i*50}', loc='left', color = 'White')\n",
    "                fig.add_subplot(ax)\n",
    "\n",
    "        plt.show()\n",
    "\n",
    "    def train_step(self, data):\n",
    "\n",
    "        # Data for training the discriminator\n",
    "        data = data.reshape(-1, self.image_size * self.image_size)\n",
    "        real_data = data.to(device)\n",
    "        #print('real', real_data.shape)\n",
    "\n",
    "        # Noise following a uniform distribution in range [0,pi/2)\n",
    "        noise = torch.rand(self.batch_size, self.z_dim, device=device) #* math.pi / 2\n",
    "        fake_data = self.gen_net(noise)\n",
    "        #print(fake_data.shape)\n",
    "\n",
    "        # Training the discriminator\n",
    "        self.disc_net.zero_grad()\n",
    "        outD_real = self.disc_net(real_data).view(-1)\n",
    "        outD_fake = self.disc_net(fake_data.detach()).view(-1)\n",
    "\n",
    "        errD_real = self.disc_loss(outD_real, self.real_labels)\n",
    "        errD_fake = self.disc_loss(outD_fake, self.fake_labels)\n",
    "        # Propagate gradients\n",
    "        errD_real.backward()\n",
    "        errD_fake.backward()\n",
    "\n",
    "        errD = errD_real + errD_fake\n",
    "        self.optD.step()\n",
    "\n",
    "        # Training the generator\n",
    "        self.gen_net.zero_grad()\n",
    "        outD_fake = self.disc_net(fake_data).view(-1)\n",
    "        errG = self.gen_loss(outD_fake, self.real_labels)\n",
    "        errG.backward()\n",
    "        self.optG.step()\n",
    "\n",
    "        return errG, errD\n",
    "\n",
    "\n",
    "    def learn(self, epochs):\n",
    "\n",
    "        # Fixed noise allows us to visually track the generated images throughout training\n",
    "        self.fixed_noise = torch.rand(8, self.z_dim, device=device) * math.pi / 2\n",
    "\n",
    "        # Iteration counter\n",
    "        epoch = 0   \n",
    "\n",
    "        loss_g, loss_d = [], []     \n",
    "\n",
    "        results = []\n",
    "\n",
    "        with alive_bar(epochs, force_tty = True) as bar:\n",
    "\n",
    "            while True:            \n",
    "                    \n",
    "                for _, (data, _) in enumerate(self.dataloader):\n",
    "\n",
    "                    lg, ld = self.train_step(data)                \n",
    "                    \n",
    "                    epoch += 1\n",
    "\n",
    "                    time.sleep(0.05)\n",
    "                    bar()\n",
    "\n",
    "                    # Show loss values         \n",
    "                    if epoch % 10 == 0:\n",
    "                        #print(f'Iteration: {epoch}, Generator Loss: {lg:0.3f}, Discriminator Loss: {ld:0.3f}')\n",
    "                        test_images = self.gen_net(self.fixed_noise).view(8,1,self.image_size,self.image_size).cpu().detach()\n",
    "                        \n",
    "                        # Save images every 50 iterations\n",
    "                        if epoch % 50 == 0:\n",
    "                            results.append(test_images)  \n",
    "                            #self.generated_and_save_images(results)                  \n",
    "                    \n",
    "                    loss_g.append(lg.detach().numpy())\n",
    "                    loss_d.append(ld.detach().numpy())\n",
    "\n",
    "                    if epoch == epochs:\n",
    "                        break\n",
    "                if epoch == epochs:\n",
    "                    break  \n",
    "                        \n",
    "        plt.figure(figsize=(17, 9))\n",
    "        plt.plot(np.arange(epochs), loss_g, color = 'Red', label = 'Generator Loss')\n",
    "        plt.plot(np.arange(epochs), loss_d, color = 'Blue', label = 'Discriminator Loss')\n",
    "        plt.xlabel('Epochs')\n",
    "        plt.ylabel('Loss')\n",
    "        plt.legend(loc = 'upper right')\n",
    "        plt.show()"
   ]
  },
  {
   "cell_type": "code",
   "execution_count": 19,
   "metadata": {},
   "outputs": [],
   "source": [
    "z_dim = 100\n",
    "image_size = 8\n",
    "batch_size = 1\n",
    "loss = nn.BCELoss()\n",
    "lrG = 0.3\n",
    "lrD = 0.01\n",
    "epochs = 500"
   ]
  },
  {
   "cell_type": "code",
   "execution_count": 20,
   "metadata": {},
   "outputs": [
    {
     "name": "stdout",
     "output_type": "stream",
     "text": [
      "|████████████████████████████████████████| 500/500 [100%] in 25.9s (19.28/s)                                            \n"
     ]
    },
    {
     "data": {
      "image/png": "[encoded data removed]",
      "text/plain": [
       "<Figure size 1224x648 with 1 Axes>"
      ]
     },
     "metadata": {
      "needs_background": "light"
     },
     "output_type": "display_data"
    }
   ],
   "source": [
    "gen_net = Generator(z_dim = z_dim).to(device)\n",
    "disc_net = Discriminator(image_size).to(device)\n",
    "\n",
    "gan = GAN(dataloader = dataloader, gen_net = gen_net, disc_net = disc_net, z_dim = z_dim, image_size = image_size, \n",
    "            batch_size = batch_size, lrG = lrG, lrD = lrD, gen_loss = loss, disc_loss = loss)\n",
    "\n",
    "\n",
    "gan.learn(epochs)"
   ]
  },
  {
   "cell_type": "code",
   "execution_count": null,
   "metadata": {},
   "outputs": [],
   "source": []
  }
 ],
 "metadata": {
  "kernelspec": {
   "display_name": "Python 3.9.12 ('base')",
   "language": "python",
   "name": "python3"
  },
  "language_info": {
   "codemirror_mode": {
    "name": "ipython",
    "version": 3
   },
   "file_extension": ".py",
   "mimetype": "text/x-python",
   "name": "python",
   "nbconvert_exporter": "python",
   "pygments_lexer": "ipython3",
   "version": "3.9.12"
  },
  "orig_nbformat": 4,
  "vscode": {
   "interpreter": {
    "hash": "41b44beeb6ae1f78ee853589a4fc9a204ef8b2c5ec7d95e779faecfadf9e001f"
   }
  }
 },
 "nbformat": 4,
 "nbformat_minor": 2
}
