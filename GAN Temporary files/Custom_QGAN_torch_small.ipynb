{
 "cells": [
  {
   "cell_type": "code",
   "execution_count": 1,
   "metadata": {},
   "outputs": [
    {
     "name": "stderr",
     "output_type": "stream",
     "text": [
      "2022-12-15 14:33:22.564777: W tensorflow/stream_executor/platform/default/dso_loader.cc:64] Could not load dynamic library 'libcudart.so.11.0'; dlerror: libcudart.so.11.0: cannot open shared object file: No such file or directory\n",
      "2022-12-15 14:33:22.564823: I tensorflow/stream_executor/cuda/cudart_stub.cc:29] Ignore above cudart dlerror if you do not have a GPU set up on your machine.\n"
     ]
    }
   ],
   "source": [
    "# Library imports\n",
    "import math\n",
    "import random\n",
    "import numpy as np\n",
    "import pandas as pd\n",
    "import matplotlib.pyplot as plt\n",
    "import matplotlib.gridspec as gridspec\n",
    "import pennylane as qml\n",
    "from sklearn import datasets\n",
    "import tensorflow as tf\n",
    "from numpy import cov\n",
    "from numpy import trace\n",
    "from numpy import iscomplexobj\n",
    "from scipy.linalg import sqrtm\n",
    "\n",
    "# Pytorch imports\n",
    "import torch\n",
    "import torch.nn as nn\n",
    "import torch.optim as optim\n",
    "import torchvision\n",
    "import torchvision.transforms as transforms\n",
    "from torch.utils.data import Dataset, DataLoader\n",
    "from torchsummary import summary\n",
    "\n",
    "import time\n",
    "import datetime\n",
    "from alive_progress import alive_bar\n",
    "\n",
    "# Set the random seed for reproducibility\n",
    "seed = 42\n",
    "torch.manual_seed(seed)\n",
    "np.random.seed(seed)\n",
    "random.seed(seed)"
   ]
  },
  {
   "cell_type": "code",
   "execution_count": 2,
   "metadata": {},
   "outputs": [
    {
     "name": "stderr",
     "output_type": "stream",
     "text": [
      "2022-12-15 14:33:24.208357: W tensorflow/stream_executor/platform/default/dso_loader.cc:64] Could not load dynamic library 'libcuda.so.1'; dlerror: libcuda.so.1: cannot open shared object file: No such file or directory\n",
      "2022-12-15 14:33:24.208388: W tensorflow/stream_executor/cuda/cuda_driver.cc:269] failed call to cuInit: UNKNOWN ERROR (303)\n",
      "2022-12-15 14:33:24.208399: I tensorflow/stream_executor/cuda/cuda_diagnostics.cc:156] kernel driver does not appear to be running on this host (vt-bozzololu): /proc/driver/nvidia/version does not exist\n",
      "2022-12-15 14:33:24.208565: I tensorflow/core/platform/cpu_feature_guard.cc:151] This TensorFlow binary is optimized with oneAPI Deep Neural Network Library (oneDNN) to use the following CPU instructions in performance-critical operations:  AVX2 AVX512F FMA\n",
      "To enable them in other operations, rebuild TensorFlow with the appropriate compiler flags.\n"
     ]
    }
   ],
   "source": [
    "current_time = datetime.datetime.now().strftime(\"%Y%m%d-%H%M%S\")\n",
    "save_path = 'torch_results/QGAN/QGAN_linear/' + current_time + '/'\n",
    "summary_writer = tf.summary.create_file_writer(save_path)"
   ]
  },
  {
   "cell_type": "markdown",
   "metadata": {},
   "source": [
    "### Classical data"
   ]
  },
  {
   "cell_type": "code",
   "execution_count": 3,
   "metadata": {},
   "outputs": [
    {
     "data": {
      "text/plain": [
       "(1797, 8, 8)"
      ]
     },
     "execution_count": 3,
     "metadata": {},
     "output_type": "execute_result"
    }
   ],
   "source": [
    "# Load the digits dataset\n",
    "digits = datasets.load_digits()\n",
    "\n",
    "x_train = digits.data\n",
    "y_train = digits.target\n",
    "\n",
    "x_train = x_train.reshape(len(x_train), 8, 8)\n",
    "x_train.shape"
   ]
  },
  {
   "cell_type": "code",
   "execution_count": 4,
   "metadata": {},
   "outputs": [],
   "source": [
    "def resize_data(x, y, label, image_size):\n",
    "\n",
    "    arr = []\n",
    "    arr_input = []\n",
    "\n",
    "    for t, l in zip(x, y):\n",
    "        if l in label:\n",
    "            t = torch.tensor(t, dtype = torch.float32).reshape(image_size, image_size)\n",
    "            t = t/16\n",
    "            arr.append((t, l))\n",
    "            arr_input.append(t)\n",
    "    return arr, arr_input\n",
    "\n",
    "rd, inp = resize_data(x_train, y_train, label = (0, 1), image_size = 8)\n",
    "#rd"
   ]
  },
  {
   "cell_type": "code",
   "execution_count": 5,
   "metadata": {},
   "outputs": [],
   "source": [
    "image_size = 8  # Height / width of the square images\n",
    "batch_size = 1\n",
    "\n",
    "dataloader = torch.utils.data.DataLoader(rd, batch_size=batch_size, shuffle=True, drop_last=True)\n",
    "\n",
    "#for element in dataloader1:\n",
    "#   print(element)"
   ]
  },
  {
   "cell_type": "code",
   "execution_count": 6,
   "metadata": {},
   "outputs": [
    {
     "data": {
      "image/png": "[encoded data removed]",
      "text/plain": [
       "<Figure size 576x144 with 8 Axes>"
      ]
     },
     "metadata": {
      "needs_background": "light"
     },
     "output_type": "display_data"
    }
   ],
   "source": [
    "plt.figure(figsize=(8,2))\n",
    "\n",
    "for i in range(8):\n",
    "    image = rd[i][0].reshape(image_size,image_size)\n",
    "    plt.subplot(1,8,i+1)\n",
    "    plt.axis('off')\n",
    "    plt.imshow(image.numpy(), cmap='gray')\n",
    "    \n",
    "plt.show() "
   ]
  },
  {
   "cell_type": "code",
   "execution_count": 7,
   "metadata": {},
   "outputs": [],
   "source": [
    "torch.save(inp, save_path + 'real.pt')"
   ]
  },
  {
   "cell_type": "markdown",
   "metadata": {},
   "source": [
    "### Quantum Generator"
   ]
  },
  {
   "cell_type": "code",
   "execution_count": 8,
   "metadata": {},
   "outputs": [],
   "source": [
    "# Quantum variables\n",
    "n_qubits = 5  \n",
    "ancillary_qubits = 1 \n",
    "gen_n_layers = 10  \n",
    "n_generators = 4  \n",
    "image_size = 8"
   ]
  },
  {
   "cell_type": "code",
   "execution_count": 9,
   "metadata": {},
   "outputs": [],
   "source": [
    "# Quantum simulator\n",
    "dev = qml.device(\"default.qubit\", wires=n_qubits)\n",
    "device = torch.device(\"cpu\")\n",
    "#device = torch.device(\"cuda:0\" if torch.cuda.is_available() else \"cpu\")"
   ]
  },
  {
   "cell_type": "code",
   "execution_count": 10,
   "metadata": {},
   "outputs": [],
   "source": [
    "@qml.qnode(dev, interface=\"torch\", diff_method=\"parameter-shift\")\n",
    "def quantum_generator_circuit(noise, gen_weights):\n",
    "\n",
    "    gen_weights = gen_weights.reshape(gen_n_layers, n_qubits)\n",
    "\n",
    "    # Encoding layer\n",
    "    for i in range(n_qubits):\n",
    "        qml.RY(noise[i], wires=i)\n",
    "\n",
    "    # PQC layers\n",
    "    for i in range(gen_n_layers):\n",
    "\n",
    "        # Rotation gates\n",
    "        for y in range(n_qubits):\n",
    "            qml.RY(gen_weights[i][y], wires=y)\n",
    "\n",
    "        # Entangling gates\n",
    "        for y in range(n_qubits - 1):\n",
    "            qml.CZ(wires=[y, y + 1])\n",
    "\n",
    "    # Returning probability of each computational basis state\n",
    "    return qml.probs(wires=list(range(n_qubits)))"
   ]
  },
  {
   "cell_type": "code",
   "execution_count": 11,
   "metadata": {},
   "outputs": [
    {
     "data": {
      "text/plain": [
       "tensor([4.2397e-02, 3.5979e-02, 3.4634e-03, 1.4266e-01, 3.1627e-02, 4.0358e-02,\n",
       "        3.1109e-04, 5.8988e-02, 3.2269e-02, 3.7452e-04, 2.7994e-02, 3.9425e-03,\n",
       "        2.5781e-03, 7.6845e-02, 1.9407e-02, 5.7346e-02, 7.4954e-02, 7.3313e-04,\n",
       "        1.6158e-02, 1.1300e-01, 2.6262e-02, 4.3200e-03, 6.1058e-05, 7.4613e-03,\n",
       "        3.7146e-03, 1.5575e-04, 1.0969e-03, 1.2609e-02, 4.6322e-03, 3.3996e-02,\n",
       "        1.3058e-04, 1.2418e-01], dtype=torch.float64)"
      ]
     },
     "execution_count": 11,
     "metadata": {},
     "output_type": "execute_result"
    }
   ],
   "source": [
    "# Testing generator circuit\n",
    "\n",
    "noise = torch.rand(n_qubits, device=device) * math.pi / 2\n",
    "gen_weights = torch.rand(gen_n_layers, n_qubits, device=device) * math.pi / 2\n",
    "\n",
    "qgc = quantum_generator_circuit(noise, gen_weights)\n",
    "qgc "
   ]
  },
  {
   "cell_type": "code",
   "execution_count": 12,
   "metadata": {},
   "outputs": [
    {
     "data": {
      "image/png": "[encoded data removed]",
      "text/plain": [
       "<Figure size 2592x432 with 1 Axes>"
      ]
     },
     "metadata": {},
     "output_type": "display_data"
    }
   ],
   "source": [
    "# Showing generator circuit\n",
    "fig, ax = qml.draw_mpl(quantum_generator_circuit)(noise, gen_weights)\n",
    "plt.show()"
   ]
  },
  {
   "cell_type": "code",
   "execution_count": 13,
   "metadata": {},
   "outputs": [],
   "source": [
    "def partial_measure(noise, weights):\n",
    "    probs = quantum_generator_circuit(noise, weights)\n",
    "    partial_meas = probs[: (2 ** (n_qubits - ancillary_qubits))]\n",
    "    partial_meas /= torch.sum(probs)\n",
    "\n",
    "    # Post-Processing\n",
    "    probsgiven = partial_meas / torch.max(partial_meas)\n",
    "    return probsgiven"
   ]
  },
  {
   "cell_type": "code",
   "execution_count": 14,
   "metadata": {},
   "outputs": [],
   "source": [
    "class QuantumGenerator(nn.Module):\n",
    "\n",
    "    def __init__(self, n_qubits, ancillary_qubits, gen_n_layers, n_generators, q_delta=1):\n",
    "\n",
    "        self.n_qubits = n_qubits\n",
    "        self.ancillary_qubits = ancillary_qubits\n",
    "        self.gen_n_layers = gen_n_layers\n",
    "        self.n_generators = n_generators\n",
    "\n",
    "        super().__init__()\n",
    "\n",
    "        self.q_params = nn.ParameterList([nn.Parameter(q_delta * torch.rand(self.gen_n_layers * self.n_qubits), \n",
    "                                          requires_grad=True)for _ in range(self.n_generators)])\n",
    "\n",
    "    def forward(self, x):\n",
    "        \n",
    "        patch_size = 2 ** (n_qubits - ancillary_qubits)\n",
    "\n",
    "        images = torch.Tensor(x.size(0), 0).to(device)\n",
    "\n",
    "        # Iterate over all sub-generators\n",
    "        for params in self.q_params:\n",
    "\n",
    "            \n",
    "            patches = torch.Tensor(0, patch_size).to(device)\n",
    "            for elem in x:\n",
    "\n",
    "                probs = quantum_generator_circuit(elem, params)\n",
    "                partial_meas = probs[: (2 ** (n_qubits - ancillary_qubits))]\n",
    "                partial_meas /= torch.sum(probs)\n",
    "\n",
    "            \n",
    "                out = partial_meas / torch.max(partial_meas)\n",
    "                out = out.float().unsqueeze(0)\n",
    "                patches = torch.cat((patches, out))\n",
    "\n",
    "            # define the image\n",
    "            images = torch.cat((images, patches), 1)\n",
    "\n",
    "        return images"
   ]
  },
  {
   "cell_type": "code",
   "execution_count": 15,
   "metadata": {},
   "outputs": [
    {
     "data": {
      "text/plain": [
       "torch.Size([1, 1, 8, 8])"
      ]
     },
     "execution_count": 15,
     "metadata": {},
     "output_type": "execute_result"
    }
   ],
   "source": [
    "# Testing quantum generator\n",
    "fixed_noise = torch.rand(1, n_qubits, device=device) #* np.pi / 2\n",
    "\n",
    "generator = QuantumGenerator(n_qubits = 5, ancillary_qubits = ancillary_qubits, \n",
    "                                  gen_n_layers = gen_n_layers, n_generators = 4).to(device)\n",
    "test_images = generator(fixed_noise).view(1,1,8,8).cpu().detach()\n",
    "test_images.shape"
   ]
  },
  {
   "cell_type": "code",
   "execution_count": 16,
   "metadata": {},
   "outputs": [
    {
     "data": {
      "image/png": "[encoded data removed]",
      "text/plain": [
       "<Figure size 432x288 with 1 Axes>"
      ]
     },
     "metadata": {
      "needs_background": "light"
     },
     "output_type": "display_data"
    }
   ],
   "source": [
    "images = torch.squeeze(test_images, dim=1)\n",
    "for j, im in enumerate(images):\n",
    "    plt.imshow(im.numpy(), cmap=\"gray\")\n",
    "    \n",
    "plt.show()"
   ]
  },
  {
   "cell_type": "code",
   "execution_count": 17,
   "metadata": {},
   "outputs": [
    {
     "data": {
      "text/plain": [
       "<bound method Module.parameters of QuantumGenerator(\n",
       "  (q_params): ParameterList(\n",
       "      (0): Parameter containing: [torch.FloatTensor of size 50]\n",
       "      (1): Parameter containing: [torch.FloatTensor of size 50]\n",
       "      (2): Parameter containing: [torch.FloatTensor of size 50]\n",
       "      (3): Parameter containing: [torch.FloatTensor of size 50]\n",
       "  )\n",
       ")>"
      ]
     },
     "execution_count": 17,
     "metadata": {},
     "output_type": "execute_result"
    }
   ],
   "source": [
    "generator.parameters"
   ]
  },
  {
   "cell_type": "code",
   "execution_count": null,
   "metadata": {},
   "outputs": [],
   "source": []
  },
  {
   "cell_type": "markdown",
   "metadata": {},
   "source": [
    "### Discriminator Network"
   ]
  },
  {
   "cell_type": "code",
   "execution_count": 18,
   "metadata": {},
   "outputs": [],
   "source": [
    "class Discriminator(nn.Module):\n",
    "\n",
    "    def __init__(self, image_size):\n",
    "        super().__init__()\n",
    "\n",
    "        self.image_size = image_size\n",
    "\n",
    "        self.model = nn.Sequential(\n",
    "                                    # Inputs to first hidden layer (num_input_features -> 64)\n",
    "                                    nn.Linear(self.image_size * self.image_size, 64),\n",
    "                                    nn.ReLU(),\n",
    "                                    # First hidden layer (64 -> 16)\n",
    "                                    nn.Linear(64, 16),\n",
    "                                    nn.ReLU(),\n",
    "                                    # Second hidden layer (16 -> output)\n",
    "                                    nn.Linear(16, 1),\n",
    "                                    nn.Sigmoid(),\n",
    "                                    )\n",
    "\n",
    "    def forward(self, x):\n",
    "        return self.model(x)"
   ]
  },
  {
   "cell_type": "code",
   "execution_count": 19,
   "metadata": {},
   "outputs": [],
   "source": [
    "# Testing discriminator network\n",
    "\n",
    "real_data = rd[0][0]\n",
    "fake_data = test_images\n",
    "\n",
    "disc = Discriminator(image_size)"
   ]
  },
  {
   "cell_type": "code",
   "execution_count": 20,
   "metadata": {},
   "outputs": [
    {
     "name": "stdout",
     "output_type": "stream",
     "text": [
      "----------------------------------------------------------------\n",
      "        Layer (type)               Output Shape         Param #\n",
      "================================================================\n",
      "            Linear-1                   [-1, 64]           4,160\n",
      "              ReLU-2                   [-1, 64]               0\n",
      "            Linear-3                   [-1, 16]           1,040\n",
      "              ReLU-4                   [-1, 16]               0\n",
      "            Linear-5                    [-1, 1]              17\n",
      "           Sigmoid-6                    [-1, 1]               0\n",
      "================================================================\n",
      "Total params: 5,217\n",
      "Trainable params: 5,217\n",
      "Non-trainable params: 0\n",
      "----------------------------------------------------------------\n",
      "Input size (MB): 0.00\n",
      "Forward/backward pass size (MB): 0.00\n",
      "Params size (MB): 0.02\n",
      "Estimated Total Size (MB): 0.02\n",
      "----------------------------------------------------------------\n"
     ]
    }
   ],
   "source": [
    "summary(disc, input_size=(64,))"
   ]
  },
  {
   "cell_type": "markdown",
   "metadata": {},
   "source": [
    "### Training class"
   ]
  },
  {
   "cell_type": "code",
   "execution_count": 21,
   "metadata": {},
   "outputs": [],
   "source": [
    "class QGAN():\n",
    "    def __init__(self, dataloader, gen_net, disc_net, n_qubits, image_size, batch_size, lrG, lrD, gen_loss, disc_loss):\n",
    "\n",
    "        self.dataloader = dataloader\n",
    "        self.gen_net = gen_net\n",
    "        self.disc_net = disc_net\n",
    "        self.n_qubits = n_qubits\n",
    "        self.image_size = image_size\n",
    "        self.batch_size = batch_size\n",
    "        self.lrG = lrG\n",
    "        self.lrD = lrD\n",
    "        self.gen_loss = gen_loss\n",
    "        self.disc_loss = disc_loss\n",
    "\n",
    "        # Optimisers\n",
    "        self.optD = optim.SGD(self.disc_net.parameters(), lr=self.lrD)\n",
    "        self.optG = optim.SGD(self.gen_net.parameters(), lr=self.lrG)\n",
    "\n",
    "        self.real_labels = torch.full((self.batch_size,), 1.0, dtype=torch.float, device=device)\n",
    "        self.fake_labels = torch.full((self.batch_size,), 0.0, dtype=torch.float, device=device)  \n",
    "\n",
    "        self.loss_g, self.loss_d = [], []  \n",
    "        #self.total_fid = []                       \n",
    "\n",
    "    # def generated_and_save_images(self, results):\n",
    "\n",
    "    #     fig = plt.figure(figsize=(20, 10))\n",
    "    #     outer = gridspec.GridSpec(5, 2, wspace=0.1)\n",
    "\n",
    "    #     for i, images in enumerate(results):\n",
    "    #         inner = gridspec.GridSpecFromSubplotSpec(1, images.size(0), subplot_spec=outer[i])\n",
    "            \n",
    "    #         images = torch.squeeze(images, dim=1)\n",
    "    #         for j, im in enumerate(images):\n",
    "\n",
    "    #             ax = plt.Subplot(fig, inner[j])\n",
    "    #             ax.imshow(im.numpy(), cmap=\"gray\")\n",
    "    #             ax.set_xticks([])\n",
    "    #             ax.set_yticks([])\n",
    "    #             if j==0:\n",
    "    #                 ax.set_title(f'Iteration {50+i*50}', loc='left', color = 'White')\n",
    "    #             fig.add_subplot(ax)\n",
    "\n",
    "    #     plt.show()\n",
    "\n",
    "    # def calculate_fid(self, dist1, dist2):\n",
    "\n",
    "    #     # calculate mean and covariance statistics\n",
    "    #     mu1, sigma1 = dist1.mean(axis=0), cov(dist1, rowvar=False)\n",
    "    #     mu2, sigma2 = dist2.mean(axis=0), cov(dist2, rowvar=False)\n",
    "        \n",
    "    #     # calculate sum squared difference between means\n",
    "    #     ssdiff = torch.sum((mu1 - mu2)**2.0)\n",
    "    #     # calculate sqrt of product between cov\n",
    "    #     covmean = sqrtm(sigma1.dot(sigma2))\n",
    "\n",
    "    #     # check and correct imaginary numbers from sqrt\n",
    "    #     if iscomplexobj(covmean):\n",
    "    #         covmean = covmean.real\n",
    "            \n",
    "    #     # calculate score\n",
    "    #     fid = ssdiff + trace(sigma1 + sigma2 - 2.0 * covmean)\n",
    "    #     return fid\n",
    "\n",
    "    def train_step(self, data):\n",
    "\n",
    "        data = data.reshape(-1, self.image_size * self.image_size)\n",
    "        real_data = data.to(device)\n",
    "\n",
    "        noise = torch.rand(self.batch_size, self.n_qubits, device=device) \n",
    "        fake_data = self.gen_net(noise)\n",
    "\n",
    "        # Discriminator training\n",
    "        self.disc_net.zero_grad()\n",
    "        outD_real = self.disc_net(real_data).view(-1)\n",
    "        outD_fake = self.disc_net(fake_data.detach()).view(-1)\n",
    "\n",
    "        errD_real = self.disc_loss(outD_real, self.real_labels)\n",
    "        errD_fake = self.disc_loss(outD_fake, self.fake_labels)\n",
    "     \n",
    "        errD_real.backward()\n",
    "        errD_fake.backward()\n",
    "\n",
    "        errD = errD_real + errD_fake\n",
    "        self.optD.step()\n",
    "\n",
    "        # Generator training\n",
    "        self.gen_net.zero_grad()\n",
    "        outD_fake = self.disc_net(fake_data).view(-1)\n",
    "        errG = self.gen_loss(outD_fake, self.real_labels)\n",
    "\n",
    "        errG.backward()\n",
    "        self.optG.step()\n",
    "\n",
    "        return errG, errD\n",
    "\n",
    "\n",
    "    def learn(self, epochs):\n",
    "\n",
    "        \n",
    "        self.fixed_noise = torch.rand(8, self.n_qubits, device=device) \n",
    "\n",
    "        \n",
    "        epoch = 0      \n",
    "\n",
    "        results = []\n",
    "\n",
    "        with alive_bar(epochs, force_tty = True) as bar:\n",
    "\n",
    "            while True:\n",
    "                \n",
    "                for _, (data, _) in enumerate(self.dataloader):\n",
    "\n",
    "                    lg, ld = self.train_step(data)                \n",
    "                    \n",
    "                    epoch += 1\n",
    "\n",
    "                    #time.sleep(0.05) \n",
    "                    bar()                   \n",
    "\n",
    "                    # Show loss values         \n",
    "                    if epoch % 10 == 0:\n",
    "                        #print(f'Iteration: {epoch}, Generator Loss: {lg:0.3f}, Discriminator Loss: {ld:0.3f}')\n",
    "                        test_images = self.gen_net(self.fixed_noise).view(8,1,self.image_size,self.image_size).cpu().detach()\n",
    "                        torch.save(self.gen_net, save_path + f'q_gen_epoch_{epoch}')\n",
    "                        #torch.save(self.gen_net.state_dict(), save_path + f'q_gen_epoch_{epoch}')\n",
    "                        \n",
    "                        # Save images every 50 iterations\n",
    "                        if epoch % 50 == 0:\n",
    "                            results.append(test_images)  \n",
    "                            torch.save(results, save_path + 'synthetic.pt')     \n",
    "                            #fid = self.calculate_fid(data[0], results[0][0][0])  \n",
    "                            #self.total_fid.append(fid.item())                               \n",
    "                    \n",
    "                    self.loss_g.append(lg.detach().numpy())\n",
    "                    self.loss_d.append(ld.detach().numpy())      \n",
    "\n",
    "                    if epoch == epochs:\n",
    "                        break\n",
    "                if epoch == epochs:\n",
    "                    break                  \n",
    "                           \n",
    "            #torch.save(loss_g, save_path + 'gen_loss.pt') \n",
    "            #torch.save(loss_d, save_path + 'disc_loss.pt')\n",
    "            #torch.save(self.total_fid, save_path + 'fid.pt')  \n",
    "        \n",
    "        #self.generated_and_save_images(results)\n",
    "        # plt.figure(figsize=(11, 7))\n",
    "        # plt.plot(np.arange(epochs), self.loss_g, color = 'Red', label = 'Generator Loss\\n120 parameters')\n",
    "        # plt.plot(np.arange(epochs), self.loss_d, color = 'Blue', label = 'Discriminator Loss\\n5217 parameters')\n",
    "        # plt.xlabel('Epochs', fontsize = 16)\n",
    "        # plt.ylabel('Loss', fontsize = 16)\n",
    "        # plt.legend(loc = 'upper right', fontsize = 16)\n",
    "        # plt.show()"
   ]
  },
  {
   "cell_type": "code",
   "execution_count": 22,
   "metadata": {},
   "outputs": [],
   "source": [
    "n_qubits = 5\n",
    "ancillary_qubits = 1\n",
    "gen_n_layers = 8\n",
    "n_generators = 4\n",
    "image_size = 8\n",
    "batch_size = 1\n",
    "loss = nn.BCELoss()\n",
    "lrG = 0.3\n",
    "lrD = 0.01\n",
    "epochs = 1500"
   ]
  },
  {
   "cell_type": "code",
   "execution_count": 23,
   "metadata": {},
   "outputs": [
    {
     "name": "stdout",
     "output_type": "stream",
     "text": [
      "|████████████████████████████████████████| 1500/1500 [100%] in 39:26.2 (0.63/s)                                         \n"
     ]
    },
    {
     "data": {
      "image/png": "[encoded data removed]",
      "text/plain": [
       "<Figure size 792x504 with 1 Axes>"
      ]
     },
     "metadata": {
      "needs_background": "light"
     },
     "output_type": "display_data"
    }
   ],
   "source": [
    "gen_net = QuantumGenerator(n_qubits = n_qubits, ancillary_qubits = ancillary_qubits, \n",
    "                           gen_n_layers = gen_n_layers, n_generators = n_generators).to(device)\n",
    "disc_net = Discriminator(image_size).to(device)\n",
    "\n",
    "runs = 1\n",
    "\n",
    "loss_g_mean = []\n",
    "loss_d_mean = []\n",
    "#fid_mean = []\n",
    "\n",
    "for run in range(runs): \n",
    "\n",
    "    qgan = QGAN(dataloader = dataloader, gen_net = gen_net, disc_net = disc_net, n_qubits = n_qubits, image_size = image_size, \n",
    "            batch_size = batch_size, lrG = lrG, lrD = lrD, gen_loss = loss, disc_loss = loss)\n",
    "\n",
    "    qgan.learn(epochs)\n",
    "\n",
    "    loss_g_mean.append(qgan.loss_g)\n",
    "    loss_d_mean.append(qgan.loss_d)\n",
    "    #fid_mean.append(qgan.total_fid)\n",
    "    \n",
    "    torch.save(loss_g_mean, save_path + 'gen_loss.pt') \n",
    "    torch.save(loss_d_mean, save_path + 'disc_loss.pt') \n",
    "   #torch.save(fid_mean, save_path + 'fid.pt')"
   ]
  },
  {
   "cell_type": "code",
   "execution_count": 25,
   "metadata": {},
   "outputs": [
    {
     "data": {
      "image/png": "[encoded data removed]",
      "text/plain": [
       "<Figure size 432x288 with 1 Axes>"
      ]
     },
     "metadata": {
      "needs_background": "light"
     },
     "output_type": "display_data"
    },
    {
     "data": {
      "text/plain": [
       "torch.Size([1, 8, 8])"
      ]
     },
     "execution_count": 25,
     "metadata": {},
     "output_type": "execute_result"
    }
   ],
   "source": [
    "#model = QGAN(dataloader = dataloader, gen_net = gen_net, disc_net = disc_net, z_dim = 5, image_size = image_size, \n",
    "#                batch_size = batch_size, lrG = lrG, lrD = lrD, gen_loss = loss, disc_loss = loss)\n",
    "#model.gen_net.load_state_dict(torch.load('torch_results/QGAN/QGAN_linear/20221215-143324/qgen_epoch_1500'))\n",
    "#model.gen_net.eval()\n",
    "\n",
    "QGAN_imgs = []\n",
    "for i in range(360):      \n",
    "    fixed_noise = torch.rand(1, 5)  \n",
    "    image = qgan.gen_net(fixed_noise).view(1,8,8).cpu().detach()\n",
    "    QGAN_imgs.append(image)\n",
    "\n",
    "torch.save(QGAN_imgs, save_path + 'qgan_inference_data.pt') \n",
    "\n",
    "plt.imshow(QGAN_imgs[11][0], cmap=\"gray\")\n",
    "    \n",
    "plt.show()\n",
    "QGAN_imgs[0].shape"
   ]
  },
  {
   "cell_type": "code",
   "execution_count": null,
   "metadata": {},
   "outputs": [],
   "source": []
  }
 ],
 "metadata": {
  "kernelspec": {
   "display_name": "Python 3.9.12 ('base')",
   "language": "python",
   "name": "python3"
  },
  "language_info": {
   "codemirror_mode": {
    "name": "ipython",
    "version": 3
   },
   "file_extension": ".py",
   "mimetype": "text/x-python",
   "name": "python",
   "nbconvert_exporter": "python",
   "pygments_lexer": "ipython3",
   "version": "3.9.12 (main, Apr  5 2022, 06:56:58) \n[GCC 7.5.0]"
  },
  "orig_nbformat": 4,
  "vscode": {
   "interpreter": {
    "hash": "41b44beeb6ae1f78ee853589a4fc9a204ef8b2c5ec7d95e779faecfadf9e001f"
   }
  }
 },
 "nbformat": 4,
 "nbformat_minor": 2
}
