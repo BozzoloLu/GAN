{
 "cells": [
  {
   "cell_type": "code",
   "execution_count": 1,
   "metadata": {},
   "outputs": [
    {
     "name": "stderr",
     "output_type": "stream",
     "text": [
      "2022-12-21 14:36:45.272448: W tensorflow/stream_executor/platform/default/dso_loader.cc:64] Could not load dynamic library 'libcudart.so.11.0'; dlerror: libcudart.so.11.0: cannot open shared object file: No such file or directory\n",
      "2022-12-21 14:36:45.272511: I tensorflow/stream_executor/cuda/cudart_stub.cc:29] Ignore above cudart dlerror if you do not have a GPU set up on your machine.\n"
     ]
    }
   ],
   "source": [
    "import numpy as np\n",
    "import tensorflow as tf\n",
    "#import tensorflow_quantum as tfq\n",
    "from tensorflow.keras import Model\n",
    "from tensorflow.keras.models import Sequential\n",
    "from tensorflow.keras.layers import Input, Dense, Conv2DTranspose, Conv2D, Layer, Reshape, Dropout, LeakyReLU, BatchNormalization, Flatten\n",
    "from keras.initializers import RandomNormal\n",
    "from sklearn import datasets\n",
    "import sympy\n",
    "\n",
    "# visualization tools\n",
    "%matplotlib inline\n",
    "import matplotlib.pyplot as plt\n",
    "#from cirq.contrib.svg import SVGCircuit\n",
    "\n",
    "from IPython import display\n",
    "import glob\n",
    "from PIL import Image\n",
    "from tqdm import tqdm\n",
    "import datetime\n",
    "\n",
    "# mlflow tools\n",
    "import mlflow\n",
    "from mlflow.tracking import MlflowClient\n",
    "\n"
   ]
  },
  {
   "cell_type": "code",
   "execution_count": 2,
   "metadata": {},
   "outputs": [],
   "source": [
    "%load_ext tensorboard"
   ]
  },
  {
   "cell_type": "markdown",
   "metadata": {},
   "source": [
    "## Parameters"
   ]
  },
  {
   "cell_type": "code",
   "execution_count": 3,
   "metadata": {},
   "outputs": [
    {
     "name": "stderr",
     "output_type": "stream",
     "text": [
      "2022-12-21 14:36:49.057882: W tensorflow/stream_executor/platform/default/dso_loader.cc:64] Could not load dynamic library 'libcuda.so.1'; dlerror: libcuda.so.1: cannot open shared object file: No such file or directory\n",
      "2022-12-21 14:36:49.057928: W tensorflow/stream_executor/cuda/cuda_driver.cc:269] failed call to cuInit: UNKNOWN ERROR (303)\n",
      "2022-12-21 14:36:49.057947: I tensorflow/stream_executor/cuda/cuda_diagnostics.cc:156] kernel driver does not appear to be running on this host (vt-bozzololu): /proc/driver/nvidia/version does not exist\n",
      "2022-12-21 14:36:49.058259: I tensorflow/core/platform/cpu_feature_guard.cc:151] This TensorFlow binary is optimized with oneAPI Deep Neural Network Library (oneDNN) to use the following CPU instructions in performance-critical operations:  AVX2 AVX512F FMA\n",
      "To enable them in other operations, rebuild TensorFlow with the appropriate compiler flags.\n"
     ]
    }
   ],
   "source": [
    "current_time = datetime.datetime.now().strftime(\"%Y%m%d-%H%M%S\")\n",
    "log_dir = 'logs/GAN/' + current_time + '/'\n",
    "summary_writer = tf.summary.create_file_writer(log_dir)\n",
    "\n",
    "gen_init_layer_size = (2, 2, 16)\n",
    "disc_input_shape = (8, 8, 1) # discriminator input shape\n",
    "z_dim = 10  # random noise dimension\n",
    "\n",
    "buffer_size = 60000\n",
    "batch_size = 256"
   ]
  },
  {
   "cell_type": "markdown",
   "metadata": {},
   "source": [
    "### Dataset"
   ]
  },
  {
   "cell_type": "code",
   "execution_count": 4,
   "metadata": {},
   "outputs": [
    {
     "data": {
      "text/plain": [
       "(1797, 8, 8)"
      ]
     },
     "execution_count": 4,
     "metadata": {},
     "output_type": "execute_result"
    }
   ],
   "source": [
    "# Load the digits dataset\n",
    "digits = datasets.load_digits()\n",
    "\n",
    "x_train = digits.data\n",
    "y_train = digits.target\n",
    "\n",
    "x_train = x_train.reshape(len(x_train), 8, 8)\n",
    "x_train.shape"
   ]
  },
  {
   "cell_type": "code",
   "execution_count": 5,
   "metadata": {},
   "outputs": [
    {
     "data": {
      "image/png": "[encoded data removed]",
      "text/plain": [
       "<Figure size 432x432 with 16 Axes>"
      ]
     },
     "metadata": {
      "needs_background": "light"
     },
     "output_type": "display_data"
    }
   ],
   "source": [
    "plt.figure(figsize=(6, 6))\n",
    "\n",
    "for i, image in enumerate(digits.images[:16], 1):\n",
    "    try:\n",
    "        plt.subplot(4, 4, i)\n",
    "        plt.imshow(image, cmap='gray')\n",
    "    except ValueError:\n",
    "        break "
   ]
  },
  {
   "cell_type": "code",
   "execution_count": 6,
   "metadata": {},
   "outputs": [
    {
     "data": {
      "text/plain": [
       "((360, 8, 8), 16.0)"
      ]
     },
     "execution_count": 6,
     "metadata": {},
     "output_type": "execute_result"
    }
   ],
   "source": [
    "x = np.array([t for t, l in zip(x_train, y_train) if l in (0, 1)])\n",
    "\n",
    "x.shape, x.max()"
   ]
  },
  {
   "cell_type": "code",
   "execution_count": 7,
   "metadata": {},
   "outputs": [
    {
     "data": {
      "image/png": "[encoded data removed]",
      "text/plain": [
       "<Figure size 432x288 with 16 Axes>"
      ]
     },
     "metadata": {
      "needs_background": "light"
     },
     "output_type": "display_data"
    }
   ],
   "source": [
    "for i, image in enumerate(x[:16], 1):\n",
    "    try:\n",
    "        plt.subplot(4, 4, i)\n",
    "        plt.imshow(image, cmap='gray')\n",
    "    except ValueError:\n",
    "        break "
   ]
  },
  {
   "cell_type": "code",
   "execution_count": 8,
   "metadata": {},
   "outputs": [],
   "source": [
    "x = x.reshape(x.shape[0], 8, 8, 1).astype('float32')\n",
    "x = (x - 8) / 8\n",
    "#x"
   ]
  },
  {
   "cell_type": "markdown",
   "metadata": {},
   "source": [
    "### Classical GAN"
   ]
  },
  {
   "cell_type": "code",
   "execution_count": 10,
   "metadata": {},
   "outputs": [
    {
     "data": {
      "text/plain": [
       "\"\\nclass generator():\\n\\n    def __init__(self, gen_init_layer_size, z_dim):\\n\\n        super(generator, self).__init__()\\n        self.gen_init_layer_size = gen_init_layer_size\\n        self.z_dim = z_dim\\n        self.gen_weight = RandomNormal(mean=0., stddev=1.0)\\n        self.input = Input(shape=self.z_dim)\\n        \\n\\n    def build_gen(self):\\n\\n        x = Dense(np.prod(self.gen_init_layer_size), use_bias = False, \\n                          input_shape=(self.z_dim,), kernel_initializer = self.gen_weight)(self.input)\\n        x = BatchNormalization()(x)\\n        x = LeakyReLU()(x)\\n        x = Reshape((self.gen_init_layer_size[0], self.gen_init_layer_size[1], self.gen_init_layer_size[2]))(x)        \\n        x = Conv2DTranspose(128, (5, 5), strides = (1, 1), padding = 'same', use_bias = False)(x)\\n        x = BatchNormalization()(x)\\n        x = LeakyReLU()(x)\\n        x = Conv2DTranspose(64, (5, 5), strides = (2, 2), padding = 'same', use_bias = False)(x)\\n        x = BatchNormalization()(x)\\n        x = LeakyReLU()(x)\\n        x = Conv2DTranspose(1, (5, 5), strides = (2, 2), padding = 'same', use_bias = False, activation='tanh')(x)\\n\\n        output = x\\n            \\n        return Model(self.input, output, name = 'Generator_Network')\\n\""
      ]
     },
     "execution_count": 10,
     "metadata": {},
     "output_type": "execute_result"
    }
   ],
   "source": [
    "'''\n",
    "class generator():\n",
    "\n",
    "    def __init__(self, gen_init_layer_size, z_dim):\n",
    "\n",
    "        super(generator, self).__init__()\n",
    "        self.gen_init_layer_size = gen_init_layer_size\n",
    "        self.z_dim = z_dim\n",
    "        self.gen_weight = RandomNormal(mean=0., stddev=1.0)\n",
    "        self.input = Input(shape=self.z_dim)\n",
    "        \n",
    "\n",
    "    def build_gen(self):\n",
    "\n",
    "        x = Dense(np.prod(self.gen_init_layer_size), use_bias = False, \n",
    "                          input_shape=(self.z_dim,), kernel_initializer = self.gen_weight)(self.input)\n",
    "        x = BatchNormalization()(x)\n",
    "        x = LeakyReLU()(x)\n",
    "        x = Reshape((self.gen_init_layer_size[0], self.gen_init_layer_size[1], self.gen_init_layer_size[2]))(x)        \n",
    "        x = Conv2DTranspose(128, (5, 5), strides = (1, 1), padding = 'same', use_bias = False)(x)\n",
    "        x = BatchNormalization()(x)\n",
    "        x = LeakyReLU()(x)\n",
    "        x = Conv2DTranspose(64, (5, 5), strides = (2, 2), padding = 'same', use_bias = False)(x)\n",
    "        x = BatchNormalization()(x)\n",
    "        x = LeakyReLU()(x)\n",
    "        x = Conv2DTranspose(1, (5, 5), strides = (2, 2), padding = 'same', use_bias = False, activation='tanh')(x)\n",
    "\n",
    "        output = x\n",
    "            \n",
    "        return Model(self.input, output, name = 'Generator_Network')\n",
    "'''"
   ]
  },
  {
   "cell_type": "code",
   "execution_count": 11,
   "metadata": {},
   "outputs": [
    {
     "data": {
      "text/plain": [
       "\"\\nclass discriminator():\\n    def __init__(self, disc_input_shape):\\n        \\n        super(discriminator, self).__init__() \\n        self.disc_input_shape = disc_input_shape\\n        self.disc_weight = RandomNormal(mean = 0., stddev = 1.) \\n        self.input = Input(shape=self.disc_input_shape)    \\n              \\n\\n    def build_disc(self):\\n        \\n        x = Conv2D(64, (5, 5), strides = (2, 2), padding = 'same', input_shape = self.disc_input_shape)(self.input)\\n        x = LeakyReLU()(x)\\n        x = Dropout(0.3)(x)\\n        x = Conv2D(128, (5, 5), strides = (2, 2), padding = 'same')(x)\\n        x = LeakyReLU()(x)\\n        x = Dropout(0.3)(x)\\n        x = Flatten()(x)\\n        x = Dense(1, activation='sigmoid', kernel_initializer = self.disc_weight)(x)\\n\\n        output = x\\n\\n        return Model(self.input, output, name = 'Discriminator_Network')  \\n\""
      ]
     },
     "execution_count": 11,
     "metadata": {},
     "output_type": "execute_result"
    }
   ],
   "source": [
    "'''\n",
    "class discriminator():\n",
    "    def __init__(self, disc_input_shape):\n",
    "        \n",
    "        super(discriminator, self).__init__() \n",
    "        self.disc_input_shape = disc_input_shape\n",
    "        self.disc_weight = RandomNormal(mean = 0., stddev = 1.) \n",
    "        self.input = Input(shape=self.disc_input_shape)    \n",
    "              \n",
    "\n",
    "    def build_disc(self):\n",
    "        \n",
    "        x = Conv2D(64, (5, 5), strides = (2, 2), padding = 'same', input_shape = self.disc_input_shape)(self.input)\n",
    "        x = LeakyReLU()(x)\n",
    "        x = Dropout(0.3)(x)\n",
    "        x = Conv2D(128, (5, 5), strides = (2, 2), padding = 'same')(x)\n",
    "        x = LeakyReLU()(x)\n",
    "        x = Dropout(0.3)(x)\n",
    "        x = Flatten()(x)\n",
    "        x = Dense(1, activation='sigmoid', kernel_initializer = self.disc_weight)(x)\n",
    "\n",
    "        output = x\n",
    "\n",
    "        return Model(self.input, output, name = 'Discriminator_Network')  \n",
    "'''"
   ]
  },
  {
   "cell_type": "code",
   "execution_count": 12,
   "metadata": {},
   "outputs": [],
   "source": [
    "class generator():\n",
    "\n",
    "    def __init__(self, gen_init_layer_size, z_dim):\n",
    "\n",
    "        super(generator, self).__init__()\n",
    "        self.gen_init_layer_size = gen_init_layer_size\n",
    "        self.z_dim = z_dim\n",
    "        self.gen_weight = RandomNormal(mean=0., stddev=1.0)\n",
    "        self.input = Input(shape=self.z_dim)\n",
    "        \n",
    "\n",
    "    def build_gen(self):\n",
    "\n",
    "        x = Dense(np.prod(self.gen_init_layer_size), use_bias = False, \n",
    "                          input_shape=(self.z_dim,), kernel_initializer = self.gen_weight)(self.input)\n",
    "        x = BatchNormalization()(x)\n",
    "        x = LeakyReLU()(x)\n",
    "        x = Reshape((self.gen_init_layer_size[0], self.gen_init_layer_size[1], self.gen_init_layer_size[2]))(x)        \n",
    "        x = Conv2DTranspose(128, (5, 5), strides = (1, 1), padding = 'same', use_bias = False)(x)\n",
    "        x = BatchNormalization()(x)\n",
    "        x = LeakyReLU()(x)\n",
    "        x = Conv2DTranspose(64, (5, 5), strides = (2, 2), padding = 'same', use_bias = False)(x)\n",
    "        x = BatchNormalization()(x)\n",
    "        x = LeakyReLU()(x)\n",
    "        x = Conv2DTranspose(1, (5, 5), strides = (2, 2), padding = 'same', use_bias = False, activation='tanh')(x) \n",
    "\n",
    "        output = x\n",
    "            \n",
    "        return Model(self.input, output, name = 'Generator_Network')"
   ]
  },
  {
   "cell_type": "code",
   "execution_count": 13,
   "metadata": {},
   "outputs": [
    {
     "name": "stdout",
     "output_type": "stream",
     "text": [
      "Model: \"Generator_Network\"\n",
      "_________________________________________________________________\n",
      " Layer (type)                Output Shape              Param #   \n",
      "=================================================================\n",
      " input_1 (InputLayer)        [(None, 10)]              0         \n",
      "                                                                 \n",
      " dense (Dense)               (None, 64)                640       \n",
      "                                                                 \n",
      " batch_normalization (BatchN  (None, 64)               256       \n",
      " ormalization)                                                   \n",
      "                                                                 \n",
      " leaky_re_lu (LeakyReLU)     (None, 64)                0         \n",
      "                                                                 \n",
      " reshape (Reshape)           (None, 2, 2, 16)          0         \n",
      "                                                                 \n",
      " conv2d_transpose (Conv2DTra  (None, 2, 2, 128)        51200     \n",
      " nspose)                                                         \n",
      "                                                                 \n",
      " batch_normalization_1 (Batc  (None, 2, 2, 128)        512       \n",
      " hNormalization)                                                 \n",
      "                                                                 \n",
      " leaky_re_lu_1 (LeakyReLU)   (None, 2, 2, 128)         0         \n",
      "                                                                 \n",
      " conv2d_transpose_1 (Conv2DT  (None, 4, 4, 64)         204800    \n",
      " ranspose)                                                       \n",
      "                                                                 \n",
      " batch_normalization_2 (Batc  (None, 4, 4, 64)         256       \n",
      " hNormalization)                                                 \n",
      "                                                                 \n",
      " leaky_re_lu_2 (LeakyReLU)   (None, 4, 4, 64)          0         \n",
      "                                                                 \n",
      " conv2d_transpose_2 (Conv2DT  (None, 8, 8, 1)          1600      \n",
      " ranspose)                                                       \n",
      "                                                                 \n",
      "=================================================================\n",
      "Total params: 259,264\n",
      "Trainable params: 258,752\n",
      "Non-trainable params: 512\n",
      "_________________________________________________________________\n"
     ]
    },
    {
     "data": {
      "image/png": "[encoded data removed]",
      "text/plain": [
       "<Figure size 432x288 with 1 Axes>"
      ]
     },
     "metadata": {
      "needs_background": "light"
     },
     "output_type": "display_data"
    }
   ],
   "source": [
    "# Defining generator network\n",
    "z_noise = tf.random.normal([6, z_dim])\n",
    "gen = generator(gen_init_layer_size = gen_init_layer_size, z_dim = z_dim)\n",
    "gen_net = gen.build_gen()\n",
    "generated_image = gen_net(z_noise)\n",
    "\n",
    "plt.imshow(generated_image[0, :, :, 0], cmap='gray')\n",
    "gen_net.summary()"
   ]
  },
  {
   "cell_type": "code",
   "execution_count": 14,
   "metadata": {},
   "outputs": [],
   "source": [
    "#generated_image"
   ]
  },
  {
   "cell_type": "code",
   "execution_count": 17,
   "metadata": {},
   "outputs": [],
   "source": [
    "#gen_net.trainable_variables"
   ]
  },
  {
   "cell_type": "code",
   "execution_count": 18,
   "metadata": {},
   "outputs": [],
   "source": [
    "class discriminator():\n",
    "    def __init__(self, disc_input_shape):\n",
    "        \n",
    "        super(discriminator, self).__init__() \n",
    "        self.disc_input_shape = disc_input_shape\n",
    "        #self.disc_weight = RandomNormal(mean = 0., stddev = 1.) \n",
    "        self.input = Input(shape=self.disc_input_shape)    \n",
    "              \n",
    "\n",
    "    def build_disc(self):\n",
    "        \n",
    "        x = Conv2D(64, (5, 5), strides = (2, 2), padding = 'same', input_shape = self.disc_input_shape)(self.input)\n",
    "        x = LeakyReLU()(x)\n",
    "        x = Dropout(0.3)(x)\n",
    "        x = Conv2D(128, (5, 5), strides = (2, 2), padding = 'same')(x)\n",
    "        x = LeakyReLU()(x)\n",
    "        x = Dropout(0.3)(x)\n",
    "        x = Flatten()(x)\n",
    "        x = Dense(1)(x)#, kernel_initializer = self.disc_weight)\n",
    "\n",
    "        output = x\n",
    "\n",
    "        return Model(self.input, output, name = 'Discriminator_Network')  "
   ]
  },
  {
   "cell_type": "code",
   "execution_count": 19,
   "metadata": {},
   "outputs": [
    {
     "name": "stdout",
     "output_type": "stream",
     "text": [
      "tf.Tensor([[-0.44499397]], shape=(1, 1), dtype=float32)\n",
      "Model: \"Discriminator_Network\"\n",
      "_________________________________________________________________\n",
      " Layer (type)                Output Shape              Param #   \n",
      "=================================================================\n",
      " input_2 (InputLayer)        [(None, 8, 8, 1)]         0         \n",
      "                                                                 \n",
      " conv2d (Conv2D)             (None, 4, 4, 64)          1664      \n",
      "                                                                 \n",
      " leaky_re_lu_3 (LeakyReLU)   (None, 4, 4, 64)          0         \n",
      "                                                                 \n",
      " dropout (Dropout)           (None, 4, 4, 64)          0         \n",
      "                                                                 \n",
      " conv2d_1 (Conv2D)           (None, 2, 2, 128)         204928    \n",
      "                                                                 \n",
      " leaky_re_lu_4 (LeakyReLU)   (None, 2, 2, 128)         0         \n",
      "                                                                 \n",
      " dropout_1 (Dropout)         (None, 2, 2, 128)         0         \n",
      "                                                                 \n",
      " flatten (Flatten)           (None, 512)               0         \n",
      "                                                                 \n",
      " dense_1 (Dense)             (None, 1)                 513       \n",
      "                                                                 \n",
      "=================================================================\n",
      "Total params: 207,105\n",
      "Trainable params: 207,105\n",
      "Non-trainable params: 0\n",
      "_________________________________________________________________\n"
     ]
    }
   ],
   "source": [
    "# Defining discriminator network\n",
    "disc = discriminator(disc_input_shape = disc_input_shape)\n",
    "disc_net = disc.build_disc()\n",
    "\n",
    "a = x_train[0]\n",
    "a = tf.expand_dims(a, axis = 0)\n",
    "print(disc_net(a))\n",
    "\n",
    "disc_net.summary()"
   ]
  },
  {
   "cell_type": "code",
   "execution_count": 20,
   "metadata": {},
   "outputs": [],
   "source": [
    "#disc_net.trainable_weights"
   ]
  },
  {
   "cell_type": "code",
   "execution_count": 21,
   "metadata": {},
   "outputs": [],
   "source": [
    "class Trainer():\n",
    "\n",
    "    def __init__(self, x_train, gen_net, disc_net, gen_init_layer_size, z_dim, disc_input_shape, batch_size, writer, log_dir, logging = True):\n",
    "        super(Trainer, self).__init__()\n",
    "        self.x_train = x_train\n",
    "        self.gen_init_layer_size = gen_init_layer_size\n",
    "        self.z_dim = z_dim\n",
    "        self.disc_input_shape = disc_input_shape\n",
    "        self.gen_opt = tf.keras.optimizers.Adam(1e-4)\n",
    "        self.disc_opt = tf.keras.optimizers.Adam(1e-4) \n",
    "        self.batch_size = batch_size      \n",
    "        self.loss = tf.keras.losses.BinaryCrossentropy(from_logits = False) \n",
    "        self.gen_net = gen_net \n",
    "        self.disc_net = disc_net  \n",
    "        self.writer = writer  \n",
    "        self.logging= logging  \n",
    "        self.log_dir = log_dir\n",
    "\n",
    "        self.g_loss = []\n",
    "        self.d_loss = []\n",
    "    \n",
    "    def gen_loss(self, fake_out):\n",
    "        return self.loss(tf.ones_like(fake_out), fake_out)\n",
    "\n",
    "\n",
    "    def disc_loss(self, img, fake_out):\n",
    "\n",
    "        real_loss = self.loss(tf.ones_like(img), img)\n",
    "        fake_loss = self.loss(tf.zeros_like(fake_out), fake_out)\n",
    "\n",
    "        total_loss = real_loss + fake_loss\n",
    "        return total_loss   \n",
    "\n",
    "\n",
    "    def generate_and_save_images(self, model, epoch, test_input):\n",
    "        \n",
    "        predictions = model(test_input, training=False)\n",
    "\n",
    "        plt.figure(figsize=(8, 8))\n",
    "\n",
    "        for i, image in enumerate(predictions, 1):\n",
    "            try:\n",
    "                plt.subplot(4, 4, i)\n",
    "                plt.imshow(image[:, :, 0], cmap='gray')\n",
    "            except ValueError:\n",
    "                break       \n",
    "        \n",
    "        plt.savefig(self.log_dir + 'image_at_epoch_{:04d}.png'.format(epoch))\n",
    "        plt.show()\n",
    "\n",
    "\n",
    "    def train_step(self, image):\n",
    "\n",
    "        noise = tf.random.normal([self.batch_size, self.z_dim])\n",
    "\n",
    "        with tf.GradientTape() as gen_tape, tf.GradientTape() as disc_tape:\n",
    "            \n",
    "            generated_images = self.gen_net(noise, training=True)\n",
    "\n",
    "            real_out = self.disc_net(image, training = True)\n",
    "            fake_out = self.disc_net(generated_images, training = True)\n",
    "\n",
    "            gen_loss = self.gen_loss(fake_out)\n",
    "            disc_loss = self.disc_loss(real_out, fake_out)\n",
    "\n",
    "        gradients_of_generator = gen_tape.gradient(gen_loss, self.gen_net.trainable_variables)\n",
    "        gradients_of_discriminator = disc_tape.gradient(disc_loss, self.disc_net.trainable_variables)\n",
    "\n",
    "        self.gen_opt.apply_gradients(zip(gradients_of_generator, self.gen_net.trainable_variables))\n",
    "        self.disc_opt.apply_gradients(zip(gradients_of_discriminator, self.disc_net.trainable_variables))\n",
    "            \n",
    "        return gen_loss, disc_loss\n",
    "\n",
    "\n",
    "    def learn(self, epochs):\n",
    "\n",
    "        for epoch in range(epochs):\n",
    "\n",
    "            print(f'EPOCH {epoch+1}')\n",
    "\n",
    "            i = 0\n",
    "\n",
    "            for j, batch_img in enumerate(self.x_train):\n",
    "\n",
    "                gl, dl = self.train_step(batch_img)                \n",
    "\n",
    "                i += 1\n",
    "\n",
    "                self.g_loss.append(gl)\n",
    "                \n",
    "                self.d_loss.append(dl)\n",
    "\n",
    "                with self.writer.as_default():\n",
    "                    # save for tensorboard\n",
    "                    tf.summary.scalar('Generator loss', data=gl, step=epoch* len(self.x_train) + j)\n",
    "                    tf.summary.scalar('Discriminator loss', data=dl, step=epoch* len(self.x_train) + j)\n",
    "\n",
    "                # log the reward with mlflow\n",
    "                if self.logging:\n",
    "                    mlflow.log_metric('Generator loss', gl, step=epoch* len(self.x_train) + j)\n",
    "                    mlflow.log_metric('Discriminator loss', dl, step=epoch* len(self.x_train) + j)\n",
    "\n",
    "\n",
    "            # produce images \n",
    "            display.clear_output(wait=True)\n",
    "            self.generate_and_save_images(self.gen_net, epoch + 1, tf.random.normal([self.batch_size, self.z_dim]))  \n",
    "\n",
    "            # save model with tensorflow\n",
    "            if self.logging:            \n",
    "                with self.writer.as_default():\n",
    "                    tf.saved_model.save(self.gen_net, self.log_dir + f'generator_network')\n",
    "                    tf.saved_model.save(self.disc_net, self.log_dir + f'discriminator_network')       \n",
    "            \n",
    "        \n",
    "        # print(len(self.g_loss))\n",
    "        # plt.figure(figsize=(15, 8))\n",
    "        # plt.plot(np.arange(len(self.g_loss)), self.g_loss, color = 'Red', label = 'Generator Loss')\n",
    "        # plt.plot(np.arange(len(self.d_loss)), self.d_loss, color = 'Blue', label = 'Discriminator Loss')\n",
    "        # plt.xlabel('Epochs')\n",
    "        # plt.ylabel('Loss')\n",
    "        # plt.legend(loc = 'upper right')\n",
    "        # plt.show()"
   ]
  },
  {
   "cell_type": "markdown",
   "metadata": {},
   "source": [
    "## Training"
   ]
  },
  {
   "cell_type": "code",
   "execution_count": 22,
   "metadata": {},
   "outputs": [],
   "source": [
    "z_dim = 2\n",
    "batch_size = 4\n",
    "buffer_size = 360\n",
    "train_dataset = tf.data.Dataset.from_tensor_slices(x).shuffle(buffer_size).batch(batch_size)\n",
    "epochs = 700"
   ]
  },
  {
   "cell_type": "code",
   "execution_count": 23,
   "metadata": {},
   "outputs": [
    {
     "data": {
      "image/png": "[encoded data removed]",
      "text/plain": [
       "<Figure size 576x576 with 4 Axes>"
      ]
     },
     "metadata": {
      "needs_background": "light"
     },
     "output_type": "display_data"
    },
    {
     "name": "stdout",
     "output_type": "stream",
     "text": [
      "INFO:tensorflow:Assets written to: logs/GAN/20221221-143649/generator_network/assets\n",
      "INFO:tensorflow:Assets written to: logs/GAN/20221221-143649/discriminator_network/assets\n"
     ]
    },
    {
     "name": "stderr",
     "output_type": "stream",
     "text": [
      "2022/12/21 15:37:52 INFO mlflow.tensorflow: Validating the specified TensorFlow model by attempting to load it in a new TensorFlow graph...\n"
     ]
    },
    {
     "name": "stdout",
     "output_type": "stream",
     "text": [
      "Saving models in mlflow...\n"
     ]
    },
    {
     "name": "stderr",
     "output_type": "stream",
     "text": [
      "2022/12/21 15:37:53 INFO mlflow.tensorflow: Validation succeeded!\n",
      "/home/ludoboz/anaconda3/lib/python3.9/site-packages/_distutils_hack/__init__.py:30: UserWarning: Setuptools is replacing distutils.\n",
      "  warnings.warn(\"Setuptools is replacing distutils.\")\n",
      "2022/12/21 15:37:55 INFO mlflow.tensorflow: Validating the specified TensorFlow model by attempting to load it in a new TensorFlow graph...\n",
      "2022/12/21 15:37:56 INFO mlflow.tensorflow: Validation succeeded!\n"
     ]
    }
   ],
   "source": [
    "# mlflow experiment settings\n",
    "client = MlflowClient()\n",
    "experiments = client.list_experiments()\n",
    "experiment_name = 'Classical GAN'\n",
    "#experiment_id = client.create_experiment(experiment_name)\n",
    "#client.set_experiment_tag(experiment_id, 'GAN', 'GM')\n",
    "print('Setting up experiment')\n",
    "experiment = client.get_experiment_by_name(experiment_name)\n",
    "experiment = mlflow.set_experiment(experiment_name=experiment_name)\n",
    "experiment_id = experiment.experiment_id\n",
    "run_name = 'Run'\n",
    "i=0\n",
    "\n",
    "with mlflow.start_run(run_name=run_name):\n",
    "    # setting up generator and actor networks\n",
    "    gen = generator(gen_init_layer_size = gen_init_layer_size, z_dim = z_dim)\n",
    "    gen_net = gen.build_gen()\n",
    "    disc = discriminator(disc_input_shape = disc_input_shape)\n",
    "    disc_net = disc.build_disc()\n",
    "\n",
    "    # starting mlflow run\n",
    "    with mlflow.start_run(run_name=f'{run_name}_{i}', nested=True) as run:\n",
    "        \n",
    "        # training\n",
    "        trainer = Trainer(x_train = train_dataset, gen_net = gen_net, disc_net = disc_net, gen_init_layer_size = gen_init_layer_size, z_dim = z_dim, \n",
    "                          disc_input_shape = disc_input_shape, batch_size = batch_size, writer = summary_writer, log_dir = log_dir)\n",
    "\n",
    "        #%tensorboard --logdir logs/\n",
    "\n",
    "        trainer.learn(epochs)\n",
    "        \n",
    "        # log and save the model in mlflow\n",
    "        print('Saving models in mlflow...')\n",
    "        models = ['generator_network', 'discriminator_network']\n",
    "        artifact_path = f'mlruns/{experiment_id}/{run.info.run_id}/'\n",
    "        for m in models:\n",
    "            mlflow.tensorflow.save_model(tf_saved_model_dir = log_dir + m,\n",
    "                                         tf_meta_graph_tags = None,\n",
    "                                         tf_signature_def_key = \"serving_default\",\n",
    "                                         path = artifact_path + \"artifacts/\" + m) \n",
    "    i+=1"
   ]
  },
  {
   "cell_type": "markdown",
   "metadata": {},
   "source": [
    "### GIF"
   ]
  },
  {
   "cell_type": "code",
   "execution_count": 24,
   "metadata": {},
   "outputs": [
    {
     "ename": "StopIteration",
     "evalue": "",
     "output_type": "error",
     "traceback": [
      "\u001b[0;31m---------------------------------------------------------------------------\u001b[0m",
      "\u001b[0;31mStopIteration\u001b[0m                             Traceback (most recent call last)",
      "\u001b[1;32m/home/ludoboz/Projects/Git_projects/GAN/GAN Temporary files/Custom_GAN_tensorflow.ipynb Cell 26\u001b[0m in \u001b[0;36m<cell line: 5>\u001b[0;34m()\u001b[0m\n\u001b[1;32m      <a href='vscode-notebook-cell://wsl%2Bubuntu-20.04/home/ludoboz/Projects/Git_projects/GAN/GAN%20Temporary%20files/Custom_GAN_tensorflow.ipynb#X45sdnNjb2RlLXJlbW90ZQ%3D%3D?line=1'>2</a>\u001b[0m fp_out \u001b[39m=\u001b[39m \u001b[39m\"\u001b[39m\u001b[39mpath/GAN.gif\u001b[39m\u001b[39m\"\u001b[39m\n\u001b[1;32m      <a href='vscode-notebook-cell://wsl%2Bubuntu-20.04/home/ludoboz/Projects/Git_projects/GAN/GAN%20Temporary%20files/Custom_GAN_tensorflow.ipynb#X45sdnNjb2RlLXJlbW90ZQ%3D%3D?line=3'>4</a>\u001b[0m imgs \u001b[39m=\u001b[39m (Image\u001b[39m.\u001b[39mopen(f) \u001b[39mfor\u001b[39;00m f \u001b[39min\u001b[39;00m \u001b[39msorted\u001b[39m(glob\u001b[39m.\u001b[39mglob(fp_in)))\n\u001b[0;32m----> <a href='vscode-notebook-cell://wsl%2Bubuntu-20.04/home/ludoboz/Projects/Git_projects/GAN/GAN%20Temporary%20files/Custom_GAN_tensorflow.ipynb#X45sdnNjb2RlLXJlbW90ZQ%3D%3D?line=4'>5</a>\u001b[0m img \u001b[39m=\u001b[39m \u001b[39mnext\u001b[39;49m(imgs)  \n\u001b[1;32m      <a href='vscode-notebook-cell://wsl%2Bubuntu-20.04/home/ludoboz/Projects/Git_projects/GAN/GAN%20Temporary%20files/Custom_GAN_tensorflow.ipynb#X45sdnNjb2RlLXJlbW90ZQ%3D%3D?line=5'>6</a>\u001b[0m img\u001b[39m.\u001b[39msave(fp\u001b[39m=\u001b[39mfp_out, \u001b[39mformat\u001b[39m\u001b[39m=\u001b[39m\u001b[39m'\u001b[39m\u001b[39mGIF\u001b[39m\u001b[39m'\u001b[39m, append_images\u001b[39m=\u001b[39mimgs, save_all\u001b[39m=\u001b[39m\u001b[39mTrue\u001b[39;00m, duration\u001b[39m=\u001b[39m\u001b[39m150\u001b[39m, loop\u001b[39m=\u001b[39m\u001b[39m0\u001b[39m)\n",
      "\u001b[0;31mStopIteration\u001b[0m: "
     ]
    }
   ],
   "source": [
    "fp_in = \"path/image_at_epoch_*.png\"\n",
    "fp_out = \"path/GAN.gif\"\n",
    "\n",
    "imgs = (Image.open(f) for f in sorted(glob.glob(fp_in)))\n",
    "img = next(imgs)  \n",
    "img.save(fp=fp_out, format='GIF', append_images=imgs, save_all=True, duration=150, loop=0)"
   ]
  },
  {
   "cell_type": "code",
   "execution_count": null,
   "metadata": {},
   "outputs": [],
   "source": []
  }
 ],
 "metadata": {
  "kernelspec": {
   "display_name": "Python 3.9.12 ('base')",
   "language": "python",
   "name": "python3"
  },
  "language_info": {
   "codemirror_mode": {
    "name": "ipython",
    "version": 3
   },
   "file_extension": ".py",
   "mimetype": "text/x-python",
   "name": "python",
   "nbconvert_exporter": "python",
   "pygments_lexer": "ipython3",
   "version": "3.9.12"
  },
  "orig_nbformat": 4,
  "vscode": {
   "interpreter": {
    "hash": "41b44beeb6ae1f78ee853589a4fc9a204ef8b2c5ec7d95e779faecfadf9e001f"
   }
  }
 },
 "nbformat": 4,
 "nbformat_minor": 2
}
