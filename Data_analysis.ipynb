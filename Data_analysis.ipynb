{
 "cells": [
  {
   "attachments": {},
   "cell_type": "markdown",
   "metadata": {},
   "source": [
    "## Data analysis"
   ]
  },
  {
   "cell_type": "code",
   "execution_count": 1,
   "metadata": {},
   "outputs": [],
   "source": [
    "#from utils import *\n",
    "#from lin_GAN_penny_script import *\n",
    "import torch\n",
    "import torch.nn as nn\n",
    "import tensorflow as tf\n",
    "import numpy as np\n",
    "import pandas as pd\n",
    "from scipy.stats import f\n",
    "import matplotlib.pyplot as plt\n",
    "import matplotlib.gridspec as gridspec\n",
    "import seaborn as sns\n",
    "import os\n",
    "import random\n",
    "import time\n",
    "import datetime\n",
    "from tqdm import tqdm\n",
    "from sklearn import datasets\n",
    "from torch.utils.data import Dataset, DataLoader\n",
    "import fnmatch"
   ]
  },
  {
   "cell_type": "code",
   "execution_count": 2,
   "metadata": {},
   "outputs": [],
   "source": [
    "seed = 42\n",
    "torch.manual_seed(seed)\n",
    "np.random.seed(seed)\n",
    "random.seed(seed)"
   ]
  },
  {
   "cell_type": "code",
   "execution_count": 3,
   "metadata": {},
   "outputs": [],
   "source": [
    "# dataloader = torch.utils.data.DataLoader(rd, batch_size=1, shuffle=True, drop_last=True)\n",
    "\n",
    "# for elem in dataloader:\n",
    "#     plt.imshow(elem[0][0])\n",
    "\n",
    "#show_images(GAN_imgs[0], 20)\n",
    "\n",
    "#show_images(QGAN_imgs[100:150], 20)"
   ]
  },
  {
   "cell_type": "code",
   "execution_count": 4,
   "metadata": {},
   "outputs": [],
   "source": [
    "# Plotting histogram probability distributions \n",
    "\n",
    "# linear_gan_synthetic = np.concatenate(GAN_imgs).reshape(len(GAN_imgs), 8, 8)\n",
    "# reshaped_linear_gan_synthetic = linear_gan_synthetic.reshape(len(GAN_imgs)*64)\n",
    "# linear_qgan_synthetic = np.concatenate(QGAN_imgs).reshape(len(QGAN_imgs), 8, 8)\n",
    "# reshaped_linear_qgan_synthetic = linear_qgan_synthetic.reshape(len(QGAN_imgs)*64)\n",
    "# real_data = np.concatenate(real_img).reshape(len(real_img), 8, 8)\n",
    "# reshaped_real_data = real_data.reshape(len(real_data)*64)\n",
    "\n",
    "# empty_dataframe = pd.DataFrame(columns=['Real data','GAN', 'QGAN'])\n",
    "# df1 = pd.DataFrame(reshaped_real_data)\n",
    "# df2 = pd.DataFrame(reshaped_linear_gan_synthetic)\n",
    "# df3 = pd.DataFrame(reshaped_linear_qgan_synthetic)\n",
    "# df = pd.concat([df1, df2, df3], 1)\n",
    "# df.columns = ['Real data','GAN', 'QGAN']\n",
    "\n",
    "# sns.displot(data = df, kind = 'kde')"
   ]
  },
  {
   "cell_type": "code",
   "execution_count": 5,
   "metadata": {},
   "outputs": [],
   "source": [
    "def resize_data_one_hot(x, y, label, image_size, num_classes):\n",
    "\n",
    "    arr, arr_input, labels = [], [], []\n",
    "\n",
    "    for t, l in zip(x, y):\n",
    "        if l in label:\n",
    "            t = torch.tensor(t, dtype = torch.float32).reshape(image_size, image_size)\n",
    "            t = t/16\n",
    "            lab = torch.nn.functional.one_hot(torch.tensor(l), num_classes=num_classes)\n",
    "            arr.append((t, lab))\n",
    "            arr_input.append(t)\n",
    "            labels.append(l)\n",
    "    return arr, arr_input, labels\n",
    "\n",
    "\n",
    "def split_train_test(real_data, idx, num_classes):\n",
    "\n",
    "    train_data, test_data = [], []\n",
    "\n",
    "    for i, (img, label) in enumerate(real_data):\n",
    "\n",
    "        if i < idx:\n",
    "\n",
    "            # one hot enoding for training labels\n",
    "            #print(label)\n",
    "            #lab = torch.nn.functional.one_hot(torch.tensor(label), num_classes=num_classes)\n",
    "            #print('img shape train data: ', img.shape)\n",
    "            train_data.append((img, label))\n",
    "        \n",
    "        else:\n",
    "            \n",
    "            #lab = torch.nn.functional.one_hot(torch.tensor(label), num_classes=num_classes)\n",
    "            test_data.append((img, label))\n",
    "\n",
    "    return train_data, test_data\n",
    "\n",
    "\n",
    "\n",
    "def build_dataset(model_type, noise_dim, path, len_real_data, labels, num_classes, max_epoch):\n",
    "\n",
    "    if model_type == 'Classical_linear':\n",
    "\n",
    "        GAN_imgs, dataset, idx = [], [], 0      \n",
    "\n",
    "        dirs = os.listdir(path)\n",
    "\n",
    "        for elem in sorted(dirs):\n",
    "            #print(elem)\n",
    "            file = os.listdir(path+elem)\n",
    "            #print(file)\n",
    "            #print(torch.load(path+elem+'/lin_gen')) \n",
    "\n",
    "        # r=root, d=directories, f=files\n",
    "        # for r, d, f in os.walk(path): \n",
    "        #     #print('directory: ', d)\n",
    "        #     #print(f)                 \n",
    "        #     for file in f:                 \n",
    "        #         if file.endswith(\"lin_gen_epoch_*\"):    \n",
    "\n",
    "            #print(os.path.join(r, file))                     \n",
    "            model = torch.load(path+elem+'/lin_gen')\n",
    "            model.eval()\n",
    "\n",
    "\n",
    "            for _ in range(500):      \n",
    "        \n",
    "                image = model(torch.rand(1, noise_dim)).view(8,8).cpu().detach()\n",
    "                #print('img shape: ', image.shape)\n",
    "                # plt.imshow(image, cmap='gray')\n",
    "                # plt.show()\n",
    "                # time.sleep(0.1)\n",
    "                GAN_imgs.append(image)\n",
    "                label = torch.nn.functional.one_hot(torch.tensor(labels[idx]), num_classes=num_classes)\n",
    "                dataset.append((image, label))                    \n",
    "                \n",
    "            idx += 1\n",
    "\n",
    "            #print('FINISH', len(GAN_imgs))\n",
    "            \n",
    "\n",
    "    elif model_type == 'Quantum_linear':\n",
    "\n",
    "        GAN_imgs, dataset, idx = [], [], 0  \n",
    "    \n",
    "        dirs = os.listdir(path)\n",
    "\n",
    "        for elem in sorted(dirs):\n",
    "            #print(elem)\n",
    "            file = os.listdir(path+elem)\n",
    "\n",
    "            model = torch.load(path+elem+'/lin_q_gen')    \n",
    "            model.eval()              \n",
    "\n",
    "            #print(idx) \n",
    "\n",
    "            for _ in range(500):   \n",
    "\n",
    "                image = model(torch.rand(1, noise_dim)).view(8,8).cpu().detach()\n",
    "                \n",
    "                GAN_imgs.append(image.shape)\n",
    "                #print(labels[idx])\n",
    "                label = torch.nn.functional.one_hot(torch.tensor(labels[idx]), num_classes=num_classes)\n",
    "                dataset.append((image, label))\n",
    "                \n",
    "            idx += 1                \n",
    "    \n",
    "    else:\n",
    "\n",
    "        print('Network typology not admitted.')\n",
    "\n",
    "    return GAN_imgs, dataset\n",
    "\n",
    "\n",
    "\n",
    "\n",
    "class Classificator(nn.Module):\n",
    "    def __init__(self, num_classes):\n",
    "        super().__init__()\n",
    "        self.conv1 = nn.Conv2d(1, 8, 3, padding = 'same')\n",
    "        #self.pool = nn.MaxPool2d(2, 2)\n",
    "        self.conv2 = nn.Conv2d(8, 16, 3)\n",
    "        self.fc1 = nn.Linear(576, 120)\n",
    "        self.fc2 = nn.Linear(120, 84)\n",
    "        self.fc3 = nn.Linear(84, num_classes)\n",
    "\n",
    "    def forward(self, x):\n",
    "        x = torch.relu(self.conv1(x))\n",
    "        x = torch.relu(self.conv2(x))\n",
    "        #print(x.shape)\n",
    "        x = torch.flatten(x,1) # flatten all dimensions except batch\n",
    "        #print(x.shape)\n",
    "        x = torch.relu(self.fc1(x))\n",
    "        x = torch.relu(self.fc2(x))\n",
    "        x = self.fc3(x)\n",
    "        return torch.sigmoid(x)\n",
    "\n",
    "\n",
    "\n",
    "def training_classification(classificator, train_dataloader, epochs, learning_rate, batch_size, path):\n",
    "\n",
    "    optimizer = torch.optim.SGD(classificator.parameters(),lr=learning_rate)\n",
    "    loss_fn = nn.CrossEntropyLoss()\n",
    "\n",
    "    episode_loss = []\n",
    "    tot_loss_mean = []\n",
    "\n",
    "    with tqdm(range(epochs)) as tepochs:\n",
    "\n",
    "        for epoch in tepochs:  \n",
    "\n",
    "            running_loss = 0.0\n",
    "            for i, data in enumerate(train_dataloader):\n",
    "\n",
    "                #(train, label) = data\n",
    "                #print(data[0].shape)\n",
    "                #print(data[1].shape)\n",
    "\n",
    "                # zero the parameter gradients\n",
    "                optimizer.zero_grad()\n",
    "\n",
    "                # forward + backward + optimize\n",
    "                outputs = classificator(data[0].view(batch_size,1,8,8))#(data[0].size(0), -1))\n",
    "                #print('Outputs training: ', outputs.shape)\n",
    "                \n",
    "                #if model_type == 'Classical_linear':\n",
    "                label = data[1].float()\n",
    "\n",
    "                # elif model_type == 'Quantum_linear':\n",
    "                #     label = data[1].float()\n",
    "                    \n",
    "                # else:\n",
    "                #     label = data[1].float()\n",
    "                #print('Label: ', label.shape)\n",
    "\n",
    "                loss = loss_fn(outputs, label)\n",
    "                loss.backward()\n",
    "                optimizer.step()\n",
    "\n",
    "                episode_loss.append(loss.item())\n",
    "\n",
    "                # print statistics\n",
    "                running_loss += loss.item()\n",
    "                \n",
    "                tepochs.set_postfix({'Classificator loss' : loss.item()})\n",
    "            \n",
    "            tot_loss_mean.append(np.mean(episode_loss))\n",
    "\n",
    "            torch.save(classificator.state_dict(), path + 'classificator.pt')\n",
    "\n",
    "    return tot_loss_mean          \n",
    "\n",
    "\n",
    "        \n",
    "def evaluate_accuracy(classificator, test_dataloader, path):\n",
    "\n",
    "    correct = 0\n",
    "    total = 0\n",
    "\n",
    "    #print(test_label_batch)\n",
    "\n",
    "    with torch.no_grad():\n",
    "        for data in test_dataloader:\n",
    "            \n",
    "            labels = data[1]\n",
    "            #print('labels: ', labels)\n",
    "            #print('Data:', data[0].shape)\n",
    "\n",
    "            classificator.load_state_dict(torch.load(path + 'classificator.pt'))\n",
    "            \n",
    "            outputs = classificator(data[0].view(1,1,8,8))#.view(data.size(0), -1)\n",
    "           \n",
    "            act_label = np.argmax(labels) # act_label = 1 (index)\n",
    "            #print('act labels: ', act_label)\n",
    "            pred_label = np.argmax(outputs) # pred_label = 1 (index)\n",
    "            #print('pred labels: ', pred_label)\n",
    "            if(act_label == pred_label):\n",
    "                correct += 1\n",
    "            \n",
    "            total += 1\n",
    "    \n",
    "    # print('correct: ', correct)\n",
    "    # print('total: ', total)\n",
    "    print('Accuracy score: ', correct / total)\n",
    "\n",
    "    return correct / total \n",
    "\n",
    "\n",
    "\n",
    "def training_run(model_type, classificator, dataloader, real_dataloader, learning_rate, epochs, batch_size, reset_parameters=True):\n",
    "\n",
    "    current_time = datetime.datetime.now().strftime(\"%Y%m%d-%H%M%S\")\n",
    "    if model_type == 'Classical_linear':\n",
    "        \n",
    "        save_path = 'torch_results/Classificator/GAN_data/' + current_time + '/'\n",
    "\n",
    "    elif model_type == 'Quantum_linear':\n",
    "\n",
    "        save_path = 'torch_results/Classificator/QGAN_data/' + current_time + '/'\n",
    "    \n",
    "    else:\n",
    "        print('Model typology not admitted.')\n",
    "    summary_writer = tf.summary.create_file_writer(save_path)\n",
    "\n",
    "    loss_synthetic = training_classification(classificator, dataloader, epochs, learning_rate, batch_size, save_path)\n",
    "    acc_synthetic = evaluate_accuracy(classificator, real_dataloader, save_path)\n",
    "\n",
    "\n",
    "    if reset_parameters:\n",
    "        for layer in classificator.children():\n",
    "            if hasattr(layer, 'reset_parameters'):\n",
    "                layer.reset_parameters()\n",
    "\n",
    "    \n",
    "    return acc_synthetic, loss_synthetic\n",
    "    \n",
    "\n",
    "\n",
    "def multiple_runs(runs, model_type, c_classificator, q_classificator, synthetic_dataloader, q_synthetic_dataloader, real_dataloader, learning_rate, epochs, batch_size, reset_parameters=True):\n",
    "\n",
    "    acc_tot = []\n",
    "    q_acc_tot = []\n",
    "    loss_tot = []\n",
    "    q_loss_tot = []\n",
    "\n",
    "    for run in range(runs):\n",
    "\n",
    "        print(f'---------------------------------------- RUN {run+1} ----------------------------------------')\n",
    "        \n",
    "        print('Classical GAN training: ')\n",
    "        classical_accuracy, classical_loss = training_run(model_type[0], c_classificator, synthetic_dataloader, real_dataloader, learning_rate, epochs, batch_size, reset_parameters=True)\n",
    "        #print(classical_accuracy)\n",
    "\n",
    "        print('Quantum GAN training: ')\n",
    "        quantum_accuracy, quantum_loss = training_run(model_type[1], q_classificator, q_synthetic_dataloader, real_dataloader, learning_rate, epochs, batch_size, reset_parameters=True)\n",
    "\n",
    "        acc_tot.append(classical_accuracy)\n",
    "        q_acc_tot.append(quantum_accuracy)\n",
    "        loss_tot.append(classical_loss)\n",
    "        q_loss_tot.append(quantum_loss)\n",
    "\n",
    "    c_acc_mean = np.mean(acc_tot)\n",
    "    c_acc_std = np.std(acc_tot)\n",
    "    q_acc_mean = np.mean(q_acc_tot)    \n",
    "    q_acc_std = np.std(q_acc_tot)\n",
    "\n",
    "    c_loss_mean = np.mean(loss_tot)\n",
    "    c_loss_std = np.std(loss_tot)\n",
    "    q_loss_mean = np.mean(q_loss_tot)    \n",
    "    q_loss_std = np.std(q_loss_tot)\n",
    "\n",
    "    delta_acc = [np.abs(acc_tot[i]-q_acc_tot[i]) for i in range(len(acc_tot))]\n",
    "\n",
    "    dict = {'GAN_data_accuracy': [acc_tot], 'QGAN_data_accuracy': [q_acc_tot]}  \n",
    "       \n",
    "    df = pd.DataFrame(dict)         \n",
    "    # saving the dataframe \n",
    "    df.to_csv(f'torch_results/Metrics/Classification_accuracies_{2}_labels.csv')\n",
    "\n",
    "    return acc_tot, q_acc_tot, delta_acc, classical_loss, quantum_loss#, c_acc_mean, c_acc_std, q_acc_mean, q_acc_std, c_loss_std, , q_loss_std\n",
    "\n",
    "\n",
    "def show_images(data, n_samples):\n",
    "\n",
    "    plt.figure(figsize=(8,2))\n",
    "\n",
    "    for i in range(n_samples):\n",
    "        image = data[i][0]#.reshape(8, 8)\n",
    "        plt.subplot(1,n_samples,i+1)\n",
    "        plt.axis('off')\n",
    "        plt.imshow(image.numpy(), cmap='gray')\n",
    "        \n",
    "    plt.show()"
   ]
  },
  {
   "cell_type": "code",
   "execution_count": 6,
   "metadata": {},
   "outputs": [
    {
     "data": {
      "image/png": "[encoded data removed]",
      "text/plain": [
       "<Figure size 576x144 with 8 Axes>"
      ]
     },
     "metadata": {
      "needs_background": "light"
     },
     "output_type": "display_data"
    },
    {
     "data": {
      "text/plain": [
       "(1797, 720, 576, 144)"
      ]
     },
     "execution_count": 6,
     "metadata": {},
     "output_type": "execute_result"
    }
   ],
   "source": [
    "noise_dim = 5\n",
    "image_size = 8\n",
    "model_type = ['Classical_linear', 'Quantum_linear']\n",
    "labels = [0,1,2,3]\n",
    "num_classes = len(labels)\n",
    "runs = 10\n",
    "epochs = 20\n",
    "batch_size = 4\n",
    "learning_rate = 0.01\n",
    "#num_classes = 2\n",
    "\n",
    "# Showing real data\n",
    "digits, targets = datasets.load_digits(return_X_y =True)\n",
    "digits = digits.reshape(len(digits), 8, 8)\n",
    "\n",
    "# Selecting only specific labels\n",
    "real_data, real_img, test_labels = resize_data_one_hot(digits, targets, label=labels, image_size=image_size, num_classes=num_classes)\n",
    "\n",
    "# Splitting train-test data (one-hot encoding included)\n",
    "idx = int(len(real_data)*0.8)\n",
    "train_data, test_data = split_train_test(real_data, idx, num_classes=num_classes)\n",
    "test_label = targets[:idx]\n",
    "show_images(real_data, 8)\n",
    "len(digits), len(real_data), len(train_data), len(test_data)"
   ]
  },
  {
   "cell_type": "code",
   "execution_count": 7,
   "metadata": {},
   "outputs": [],
   "source": [
    "#-------------------------------------------------------- Making inference --------------------------------------------------------\n",
    "len_real_data = len(real_data)\n",
    "\n",
    "# Bulding synthetic classical dataset (one-hot encoding included)\n",
    "path = \"torch_results/GAN/GAN_linear/\"\n",
    "GAN_imgs, synthetic_classical_data = build_dataset(model_type[0], noise_dim, path, len_real_data, labels, num_classes, max_epoch=2)\n",
    "\n",
    "# # Bulding synthetic quantum dataset (one-hot encoding included)\n",
    "q_path = \"torch_results/QGAN/QGAN_linear/\"\n",
    "QGAN_imgs, synthetic_quantum_data = build_dataset(model_type[1], noise_dim, q_path, len_real_data, labels, num_classes, max_epoch=2)"
   ]
  },
  {
   "cell_type": "code",
   "execution_count": 8,
   "metadata": {},
   "outputs": [
    {
     "data": {
      "text/plain": [
       "(2000, 2000)"
      ]
     },
     "execution_count": 8,
     "metadata": {},
     "output_type": "execute_result"
    }
   ],
   "source": [
    "len(synthetic_classical_data), len(synthetic_quantum_data)"
   ]
  },
  {
   "cell_type": "code",
   "execution_count": 9,
   "metadata": {},
   "outputs": [],
   "source": [
    "#plt.imshow(synthetic_quantum_data[2000][0]), synthetic_quantum_data[2000][1]"
   ]
  },
  {
   "cell_type": "code",
   "execution_count": 10,
   "metadata": {},
   "outputs": [],
   "source": [
    "#plt.imshow(synthetic_classical_data[2000][0]), synthetic_classical_data[2000][1]"
   ]
  },
  {
   "cell_type": "code",
   "execution_count": 11,
   "metadata": {},
   "outputs": [],
   "source": [
    "#plt.imshow(real_data[3][0]), real_data[3][1]"
   ]
  },
  {
   "cell_type": "code",
   "execution_count": 12,
   "metadata": {},
   "outputs": [],
   "source": [
    "synthetic_dataloader = DataLoader(synthetic_classical_data, batch_size=batch_size, shuffle=True, drop_last=True)\n",
    "q_synthetic_dataloader = DataLoader(synthetic_quantum_data, batch_size=batch_size, shuffle=True, drop_last=True)\n",
    "\n",
    "real_dataloader = DataLoader(real_data, shuffle=True)\n",
    "train_dataloader = DataLoader(train_data, batch_size = batch_size, shuffle=True, drop_last=True)\n",
    "test_dataloader = DataLoader(test_data, shuffle=True)\n",
    "\n",
    "# for img, l in real_dataloader:\n",
    "#     print(l)"
   ]
  },
  {
   "cell_type": "code",
   "execution_count": 13,
   "metadata": {},
   "outputs": [],
   "source": [
    "r_classificator = Classificator(num_classes)\n",
    "c_classificator = Classificator(num_classes)\n",
    "q_classificator = Classificator(num_classes)"
   ]
  },
  {
   "cell_type": "code",
   "execution_count": 14,
   "metadata": {},
   "outputs": [
    {
     "name": "stderr",
     "output_type": "stream",
     "text": [
      "100%|██████████| 20/20 [00:10<00:00,  1.95it/s, Classificator loss=1.21]\n"
     ]
    },
    {
     "name": "stdout",
     "output_type": "stream",
     "text": [
      "Accuracy score:  0.5625\n"
     ]
    },
    {
     "data": {
      "text/plain": [
       "0.5625"
      ]
     },
     "execution_count": 14,
     "metadata": {},
     "output_type": "execute_result"
    }
   ],
   "source": [
    "r_path = \"torch_results\"\n",
    "r_loss = training_classification(r_classificator, train_dataloader, epochs, learning_rate, batch_size, r_path)\n",
    "evaluate_accuracy(r_classificator, test_dataloader, r_path)"
   ]
  },
  {
   "cell_type": "code",
   "execution_count": 15,
   "metadata": {},
   "outputs": [
    {
     "name": "stderr",
     "output_type": "stream",
     "text": [
      "2023-02-02 17:59:46.990047: W tensorflow/stream_executor/platform/default/dso_loader.cc:64] Could not load dynamic library 'libcuda.so.1'; dlerror: libcuda.so.1: cannot open shared object file: No such file or directory\n",
      "2023-02-02 17:59:46.990082: W tensorflow/stream_executor/cuda/cuda_driver.cc:269] failed call to cuInit: UNKNOWN ERROR (303)\n",
      "2023-02-02 17:59:46.990097: I tensorflow/stream_executor/cuda/cuda_diagnostics.cc:156] kernel driver does not appear to be running on this host (vt-bozzololu): /proc/driver/nvidia/version does not exist\n",
      "2023-02-02 17:59:46.990328: I tensorflow/core/platform/cpu_feature_guard.cc:151] This TensorFlow binary is optimized with oneAPI Deep Neural Network Library (oneDNN) to use the following CPU instructions in performance-critical operations:  AVX2 AVX512F FMA\n",
      "To enable them in other operations, rebuild TensorFlow with the appropriate compiler flags.\n"
     ]
    },
    {
     "name": "stdout",
     "output_type": "stream",
     "text": [
      "---------------------------------------- RUN 1 ----------------------------------------\n",
      "Classical GAN training: \n"
     ]
    },
    {
     "name": "stderr",
     "output_type": "stream",
     "text": [
      "100%|██████████| 20/20 [00:35<00:00,  1.79s/it, Classificator loss=0.744]\n"
     ]
    },
    {
     "name": "stdout",
     "output_type": "stream",
     "text": [
      "Accuracy score:  0.8277777777777777\n",
      "Quantum GAN training: \n"
     ]
    },
    {
     "name": "stderr",
     "output_type": "stream",
     "text": [
      "100%|██████████| 20/20 [00:35<00:00,  1.77s/it, Classificator loss=0.875]\n"
     ]
    },
    {
     "name": "stdout",
     "output_type": "stream",
     "text": [
      "Accuracy score:  0.6611111111111111\n",
      "---------------------------------------- RUN 2 ----------------------------------------\n",
      "Classical GAN training: \n"
     ]
    },
    {
     "name": "stderr",
     "output_type": "stream",
     "text": [
      "100%|██████████| 20/20 [00:40<00:00,  2.05s/it, Classificator loss=0.744]\n"
     ]
    },
    {
     "name": "stdout",
     "output_type": "stream",
     "text": [
      "Accuracy score:  0.8722222222222222\n",
      "Quantum GAN training: \n"
     ]
    },
    {
     "name": "stderr",
     "output_type": "stream",
     "text": [
      "100%|██████████| 20/20 [00:42<00:00,  2.12s/it, Classificator loss=0.809]\n"
     ]
    },
    {
     "name": "stdout",
     "output_type": "stream",
     "text": [
      "Accuracy score:  0.6541666666666667\n",
      "---------------------------------------- RUN 3 ----------------------------------------\n",
      "Classical GAN training: \n"
     ]
    },
    {
     "name": "stderr",
     "output_type": "stream",
     "text": [
      "100%|██████████| 20/20 [00:41<00:00,  2.07s/it, Classificator loss=0.744]\n"
     ]
    },
    {
     "name": "stdout",
     "output_type": "stream",
     "text": [
      "Accuracy score:  0.7041666666666667\n",
      "Quantum GAN training: \n"
     ]
    },
    {
     "name": "stderr",
     "output_type": "stream",
     "text": [
      "100%|██████████| 20/20 [00:36<00:00,  1.81s/it, Classificator loss=0.745]\n"
     ]
    },
    {
     "name": "stdout",
     "output_type": "stream",
     "text": [
      "Accuracy score:  0.7444444444444445\n",
      "---------------------------------------- RUN 4 ----------------------------------------\n",
      "Classical GAN training: \n"
     ]
    },
    {
     "name": "stderr",
     "output_type": "stream",
     "text": [
      "100%|██████████| 20/20 [00:36<00:00,  1.80s/it, Classificator loss=0.875]\n"
     ]
    },
    {
     "name": "stdout",
     "output_type": "stream",
     "text": [
      "Accuracy score:  0.6444444444444445\n",
      "Quantum GAN training: \n"
     ]
    },
    {
     "name": "stderr",
     "output_type": "stream",
     "text": [
      "100%|██████████| 20/20 [00:36<00:00,  1.85s/it, Classificator loss=0.744]\n"
     ]
    },
    {
     "name": "stdout",
     "output_type": "stream",
     "text": [
      "Accuracy score:  0.75\n",
      "---------------------------------------- RUN 5 ----------------------------------------\n",
      "Classical GAN training: \n"
     ]
    },
    {
     "name": "stderr",
     "output_type": "stream",
     "text": [
      "100%|██████████| 20/20 [00:43<00:00,  2.17s/it, Classificator loss=0.744]\n"
     ]
    },
    {
     "name": "stdout",
     "output_type": "stream",
     "text": [
      "Accuracy score:  0.85\n",
      "Quantum GAN training: \n"
     ]
    },
    {
     "name": "stderr",
     "output_type": "stream",
     "text": [
      "100%|██████████| 20/20 [00:39<00:00,  2.00s/it, Classificator loss=0.744]\n"
     ]
    },
    {
     "name": "stdout",
     "output_type": "stream",
     "text": [
      "Accuracy score:  0.775\n",
      "---------------------------------------- RUN 6 ----------------------------------------\n",
      "Classical GAN training: \n"
     ]
    },
    {
     "name": "stderr",
     "output_type": "stream",
     "text": [
      "100%|██████████| 20/20 [00:35<00:00,  1.79s/it, Classificator loss=0.744]\n"
     ]
    },
    {
     "name": "stdout",
     "output_type": "stream",
     "text": [
      "Accuracy score:  0.8583333333333333\n",
      "Quantum GAN training: \n"
     ]
    },
    {
     "name": "stderr",
     "output_type": "stream",
     "text": [
      "100%|██████████| 20/20 [00:37<00:00,  1.89s/it, Classificator loss=0.744]\n"
     ]
    },
    {
     "name": "stdout",
     "output_type": "stream",
     "text": [
      "Accuracy score:  0.7930555555555555\n",
      "---------------------------------------- RUN 7 ----------------------------------------\n",
      "Classical GAN training: \n"
     ]
    },
    {
     "name": "stderr",
     "output_type": "stream",
     "text": [
      "100%|██████████| 20/20 [00:48<00:00,  2.43s/it, Classificator loss=0.875]\n"
     ]
    },
    {
     "name": "stdout",
     "output_type": "stream",
     "text": [
      "Accuracy score:  0.6277777777777778\n",
      "Quantum GAN training: \n"
     ]
    },
    {
     "name": "stderr",
     "output_type": "stream",
     "text": [
      "100%|██████████| 20/20 [00:53<00:00,  2.69s/it, Classificator loss=0.747]\n"
     ]
    },
    {
     "name": "stdout",
     "output_type": "stream",
     "text": [
      "Accuracy score:  0.7708333333333334\n",
      "---------------------------------------- RUN 8 ----------------------------------------\n",
      "Classical GAN training: \n"
     ]
    },
    {
     "name": "stderr",
     "output_type": "stream",
     "text": [
      "100%|██████████| 20/20 [00:36<00:00,  1.82s/it, Classificator loss=1.01] \n"
     ]
    },
    {
     "name": "stdout",
     "output_type": "stream",
     "text": [
      "Accuracy score:  0.6333333333333333\n",
      "Quantum GAN training: \n"
     ]
    },
    {
     "name": "stderr",
     "output_type": "stream",
     "text": [
      "100%|██████████| 20/20 [00:36<00:00,  1.82s/it, Classificator loss=0.744]\n"
     ]
    },
    {
     "name": "stdout",
     "output_type": "stream",
     "text": [
      "Accuracy score:  0.6638888888888889\n",
      "---------------------------------------- RUN 9 ----------------------------------------\n",
      "Classical GAN training: \n"
     ]
    },
    {
     "name": "stderr",
     "output_type": "stream",
     "text": [
      "100%|██████████| 20/20 [00:36<00:00,  1.84s/it, Classificator loss=0.744]\n"
     ]
    },
    {
     "name": "stdout",
     "output_type": "stream",
     "text": [
      "Accuracy score:  0.8569444444444444\n",
      "Quantum GAN training: \n"
     ]
    },
    {
     "name": "stderr",
     "output_type": "stream",
     "text": [
      "100%|██████████| 20/20 [00:36<00:00,  1.85s/it, Classificator loss=0.744]\n"
     ]
    },
    {
     "name": "stdout",
     "output_type": "stream",
     "text": [
      "Accuracy score:  0.7833333333333333\n",
      "---------------------------------------- RUN 10 ----------------------------------------\n",
      "Classical GAN training: \n"
     ]
    },
    {
     "name": "stderr",
     "output_type": "stream",
     "text": [
      "100%|██████████| 20/20 [00:46<00:00,  2.31s/it, Classificator loss=0.744]\n"
     ]
    },
    {
     "name": "stdout",
     "output_type": "stream",
     "text": [
      "Accuracy score:  0.8805555555555555\n",
      "Quantum GAN training: \n"
     ]
    },
    {
     "name": "stderr",
     "output_type": "stream",
     "text": [
      "100%|██████████| 20/20 [00:37<00:00,  1.85s/it, Classificator loss=0.744]\n"
     ]
    },
    {
     "name": "stdout",
     "output_type": "stream",
     "text": [
      "Accuracy score:  0.8\n"
     ]
    }
   ],
   "source": [
    "acc_tot, q_acc_tot, delta_acc, c_loss, q_loss = multiple_runs(runs, model_type, c_classificator, q_classificator, synthetic_dataloader, q_synthetic_dataloader,\n",
    "                                                              real_dataloader, learning_rate, epochs, batch_size, reset_parameters=True) "
   ]
  },
  {
   "cell_type": "code",
   "execution_count": 16,
   "metadata": {},
   "outputs": [
    {
     "data": {
      "image/png": "[encoded data removed]",
      "text/plain": [
       "<Figure size 432x288 with 1 Axes>"
      ]
     },
     "metadata": {
      "needs_background": "light"
     },
     "output_type": "display_data"
    }
   ],
   "source": [
    "plt.plot(np.arange(len(c_loss)), q_loss, label='QGAN')\n",
    "plt.plot(np.arange(len(c_loss)), c_loss, label='GAN')\n",
    "plt.legend()\n",
    "plt.show()"
   ]
  },
  {
   "cell_type": "code",
   "execution_count": 17,
   "metadata": {},
   "outputs": [
    {
     "data": {
      "text/plain": [
       "([0.8277777777777777,\n",
       "  0.8722222222222222,\n",
       "  0.7041666666666667,\n",
       "  0.6444444444444445,\n",
       "  0.85,\n",
       "  0.8583333333333333,\n",
       "  0.6277777777777778,\n",
       "  0.6333333333333333,\n",
       "  0.8569444444444444,\n",
       "  0.8805555555555555],\n",
       " [0.6611111111111111,\n",
       "  0.6541666666666667,\n",
       "  0.7444444444444445,\n",
       "  0.75,\n",
       "  0.775,\n",
       "  0.7930555555555555,\n",
       "  0.7708333333333334,\n",
       "  0.6638888888888889,\n",
       "  0.7833333333333333,\n",
       "  0.8])"
      ]
     },
     "execution_count": 17,
     "metadata": {},
     "output_type": "execute_result"
    }
   ],
   "source": [
    "acc_tot, q_acc_tot"
   ]
  },
  {
   "cell_type": "code",
   "execution_count": 18,
   "metadata": {},
   "outputs": [],
   "source": [
    "c_acc_2_features = [0.9694444444444444,0.9805555555555555,0.9666666666666667,0.9861111111111112,0.9833333333333333,0.9527777777777777,0.9611111111111111,0.9777777777777777,0.9666666666666667,0.975]\n",
    "\n",
    "q_acc_2_features = [0.9861111111111112,0.9972222222222222,0.9888888888888889,0.9888888888888889,0.9833333333333333,0.9916666666666667,0.9916666666666667,0.9916666666666667,0.9888888888888889,\n",
    "0.9861111111111112]\n",
    "\n",
    "c_acc_3_features = [0.9385474860335196, 0.9366852886405959,0.9497206703910615,0.9608938547486033,0.9199255121042831,0.8938547486033519,0.9273743016759777,0.9608938547486033,0.9478584729981379,\n",
    "0.9478584729981379]\n",
    "\n",
    "q_acc_3_features = [0.8733705772811918,0.7299813780260708,0.8342644320297952,0.8156424581005587,0.8919925512104283,0.8528864059590316,0.813780260707635,0.7970204841713222,0.7690875232774674,\n",
    "0.8081936685288641]\n",
    "\n",
    "c_acc_3_features = []\n",
    "\n",
    "q_acc_3_features = []\n",
    "\n",
    "# c_acc_4_features = [0.8680555555555556,0.8416666666666667,0.8375,0.6416666666666667,0.85,0.8458333333333333,0.8333333333333334,0.8972222222222223,0.8166666666666667,0.8263888888888888]\n",
    "\n",
    "# q_acc_4_features = [0.6611111111111111,0.6541666666666667,0.7444444444444445,0.75,0.775,0.7930555555555555,0.7708333333333334,0.6638888888888889,0.7833333333333333,0.8]\n",
    "\n",
    "c_acc_4_features = [0.8277777777777777,\n",
    "  0.8722222222222222,\n",
    "  0.7041666666666667,\n",
    "  0.6444444444444445,\n",
    "  0.85,\n",
    "  0.8583333333333333,\n",
    "  0.6277777777777778,\n",
    "  0.6333333333333333,\n",
    "  0.8569444444444444,\n",
    "  0.8805555555555555]\n",
    "\n",
    "q_acc_4_features = [0.6611111111111111,\n",
    "  0.6541666666666667,\n",
    "  0.7444444444444445,\n",
    "  0.75,\n",
    "  0.775,\n",
    "  0.7930555555555555,\n",
    "  0.7708333333333334,\n",
    "  0.6638888888888889,\n",
    "  0.7833333333333333,\n",
    "  0.8]\n",
    "\n",
    "c_acc_5_features = [0.8745837957824639,\n",
    "  0.7136514983351832,\n",
    "  0.8601553829078802,\n",
    "  0.8701442841287459,\n",
    "  0.8867924528301887,\n",
    "  0.8912319644839067,\n",
    "  0.8357380688124306,\n",
    "  0.8923418423973363,\n",
    "  0.8934517203107658,\n",
    "  0.6781354051054383]\n",
    "\n",
    "q_acc_5_features = [0.7491675915649278,\n",
    "  0.7225305216426193,\n",
    "  0.5671476137624861,\n",
    "  0.5804661487236404,\n",
    "  0.5560488346281909,\n",
    "  0.4794672586015538,\n",
    "  0.5793562708102109,\n",
    "  0.537180910099889,\n",
    "  0.41731409544950054,\n",
    "  0.3895671476137625]"
   ]
  },
  {
   "cell_type": "code",
   "execution_count": 19,
   "metadata": {},
   "outputs": [],
   "source": [
    "c_acc_final = [c_acc_2_features, c_acc_3_features, c_acc_4_features, c_acc_5_features]\n",
    "q_acc_final = [q_acc_2_features, q_acc_3_features, q_acc_4_features, q_acc_5_features]"
   ]
  },
  {
   "cell_type": "code",
   "execution_count": 22,
   "metadata": {},
   "outputs": [],
   "source": [
    "def accuracy_boxplot(c_acc_final, q_acc_final, labels):\n",
    "\n",
    "    fig, ax = plt.subplots(figsize=(12, 6), facecolor='oldlace')\n",
    "\n",
    "    #for i in range(num_tests):\n",
    "    \n",
    "    boxes = ax.boxplot(c_acc_final, patch_artist=True, showmeans = False, showfliers=False, widths = 0.12, labels = labels)\n",
    "    for box in boxes[\"boxes\"]:\n",
    "        box.set(facecolor = \"green\")\n",
    "\n",
    "    boxes = ax.boxplot(q_acc_final, patch_artist=True, showmeans = False, showfliers=False, widths = 0.12, labels = labels)\n",
    "    for box in boxes[\"boxes\"]:\n",
    "        box.set(facecolor = \"palegreen\")\n",
    "\n",
    "    fig.text(0.92, 0.73, f'GAN linear\\nGen: 134 params\\nDisc: 5127 params', backgroundcolor='green', color='black', weight='roman')\n",
    "    fig.text(0.92, 0.63, f'QGAN linear\\nGen: 120 params\\nDisc: 5127 params', backgroundcolor='palegreen', color='black', weight='roman')\n",
    "    # fig.text(0.92, 0.53, f'QGAN linear\\nGen: 120 params\\nDisc: 5127 params', backgroundcolor='darkkhaki', color='black', weight='roman')\n",
    "    # fig.text(0.92, 0.43, f'QGAN linear\\nGen: 120 params\\nDisc: 5127 params', backgroundcolor='palegoldenrod', color='black', weight='roman')\n",
    "\n",
    "    ax.set_xlabel('Number of labels', fontsize=16)\n",
    "    ax.set_ylabel('Accuracy score', fontsize=16)\n",
    "    plt.grid()\n",
    "    plt.title(f\"Accuracy classification score - Handwritten 8x8 dataset\", fontsize=18)\n",
    "    #plt.savefig(f'torch_results/Metrics/Classification_accuracies_2_3_labels.png')\n",
    "    plt.show()"
   ]
  },
  {
   "cell_type": "code",
   "execution_count": 23,
   "metadata": {},
   "outputs": [
    {
     "data": {
      "image/png": "[encoded data removed]",
      "text/plain": [
       "<Figure size 864x432 with 1 Axes>"
      ]
     },
     "metadata": {},
     "output_type": "display_data"
    }
   ],
   "source": [
    "boxplot = accuracy_boxplot(c_acc_final, q_acc_final, [2,3,4,5])\n",
    "boxplot"
   ]
  },
  {
   "cell_type": "code",
   "execution_count": null,
   "metadata": {},
   "outputs": [],
   "source": [
    "# dict = {'Real_data_acc': [acc_real], 'GAN_data_acc': [acc_synthetic], 'QGAN_data_acc': [acc_q_synthetic]}  \n",
    "       \n",
    "# df = pd.DataFrame(dict) \n",
    "    \n",
    "# # saving the dataframe \n",
    "# df.to_csv(f'torch_results/Metrics/Classification_accuracies_{len(labels)}_labels.csv')\n",
    "\n",
    "\n",
    "# data = {'GAN 204 params':acc_synthetic, 'QGAN 120 params':acc_q_synthetic}\n",
    "# courses = list(data.keys())\n",
    "# values = list(data.values())\n",
    "\n",
    "# label1 = [np.round(acc_synthetic, 3)]\n",
    "# label2 = [np.round(acc_q_synthetic, 3)]\n",
    "  \n",
    "# fig = plt.figure(figsize = (13, 9))\n",
    " \n",
    "# # creating the bar plot\n",
    "# plt.bar(courses, values, color = ['blue', 'red'], data = [acc_synthetic, acc_q_synthetic])\n",
    "# plt.text(x = -0.06 , y = data['GAN 204 params'] + 0.5, s = label1[0], size = 15)\n",
    "# plt.text(x = 0.94 , y = data['QGAN 120 params'] + 0.6, s = label2[0], size = 15) \n",
    "# plt.ylabel(\"Accuracy\", fontsize=18)\n",
    "# plt.title(f\"Accuracy classification score - Handwritten 8x8 dataset - {len(labels)} labels\", fontsize=18)\n",
    "# plt.savefig(f'torch_results//Metrics/Classification_accuracies_{len(labels)}_labels.png')\n",
    "# plt.show()\n",
    "\n",
    "\n",
    "# plt.figure(figsize=(10, 7))\n",
    "# #plt.plot(np.arange(epochs), classical_loss_real[:epochs], label = 'Train: real data\\nTest:real data')\n",
    "# plt.plot(np.arange(epochs), classical_loss_synthetic[:epochs], label = 'Train: synthetic classical data\\nTest: real data')\n",
    "# plt.plot(np.arange(epochs), quantum_loss_synthetic[:epochs], label = 'Train: synthetic quantum data\\nTest: real data')\n",
    "# plt.title(f'Classification training loss - {len(labels)} labels')\n",
    "# plt.legend()\n",
    "# plt.savefig(f'torch_results//Metrics/Classification_loss_{len(labels)}_labels.png')\n",
    "# plt.show()\n"
   ]
  },
  {
   "cell_type": "code",
   "execution_count": null,
   "metadata": {},
   "outputs": [],
   "source": []
  },
  {
   "cell_type": "code",
   "execution_count": null,
   "metadata": {},
   "outputs": [],
   "source": []
  }
 ],
 "metadata": {
  "kernelspec": {
   "display_name": "base",
   "language": "python",
   "name": "python3"
  },
  "language_info": {
   "codemirror_mode": {
    "name": "ipython",
    "version": 3
   },
   "file_extension": ".py",
   "mimetype": "text/x-python",
   "name": "python",
   "nbconvert_exporter": "python",
   "pygments_lexer": "ipython3",
   "version": "3.9.12"
  },
  "orig_nbformat": 4,
  "vscode": {
   "interpreter": {
    "hash": "41b44beeb6ae1f78ee853589a4fc9a204ef8b2c5ec7d95e779faecfadf9e001f"
   }
  }
 },
 "nbformat": 4,
 "nbformat_minor": 2
}
