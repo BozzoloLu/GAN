{
 "cells": [
  {
   "attachments": {},
   "cell_type": "markdown",
   "metadata": {},
   "source": [
    "## Data analysis"
   ]
  },
  {
   "cell_type": "code",
   "execution_count": 1,
   "metadata": {},
   "outputs": [],
   "source": [
    "import torch\n",
    "import torch.nn as nn\n",
    "import tensorflow as tf\n",
    "import numpy as np\n",
    "import pandas as pd\n",
    "from scipy.stats import f\n",
    "import matplotlib.pyplot as plt\n",
    "import seaborn as sns\n",
    "import os\n",
    "import random\n",
    "import time\n",
    "import datetime\n",
    "from tqdm import tqdm\n",
    "from sklearn import datasets\n",
    "from torch.utils.data import Dataset, DataLoader\n",
    "from Data_analysis_utils import *\n",
    "\n",
    "# seed = 42\n",
    "# torch.manual_seed(seed)\n",
    "# np.random.seed(seed)\n",
    "# random.seed(seed)"
   ]
  },
  {
   "cell_type": "code",
   "execution_count": 2,
   "metadata": {},
   "outputs": [
    {
     "name": "stdout",
     "output_type": "stream",
     "text": [
      "Real data sample:\n"
     ]
    },
    {
     "data": {
      "image/png": "[encoded data removed]",
      "text/plain": [
       "<Figure size 576x144 with 8 Axes>"
      ]
     },
     "metadata": {
      "needs_background": "light"
     },
     "output_type": "display_data"
    }
   ],
   "source": [
    "noise_dim = 5\n",
    "image_size = 8\n",
    "model_type = ['Classical_linear', 'Quantum_linear']\n",
    "labels = [0,1,2,3,4]\n",
    "num_classes = len(labels)\n",
    "runs = 2\n",
    "epochs = 20\n",
    "batch_size = 4\n",
    "learning_rate = 0.01\n",
    "#num_classes = 2\n",
    "\n",
    "# Showing real data\n",
    "digits, targets = datasets.load_digits(return_X_y =True)\n",
    "digits = digits.reshape(len(digits), 8, 8)\n",
    "\n",
    "# Selecting only specific labels\n",
    "real_data, real_img, test_labels = resize_data_one_hot(digits, targets, label=labels, image_size=image_size, num_classes=num_classes)\n",
    "\n",
    "# Splitting train-test data (one-hot encoding included)\n",
    "idx = int(len(real_data)*0.8)\n",
    "train_data, test_data = split_train_test(real_data, idx, num_classes=num_classes)\n",
    "test_label = targets[:idx]\n",
    "\n",
    "print('Real data sample:')\n",
    "show_images(real_data, 8)\n",
    "len(digits), len(real_data), len(train_data), len(test_data)\n",
    "\n",
    "#-------------------------------------------------------- Making inference --------------------------------------------------------\n",
    "len_real_data = len(real_data)\n",
    "\n",
    "# Bulding synthetic classical dataset (one-hot encoding included)\n",
    "path = \"torch_results/GAN/GAN_linear/\"\n",
    "GAN_imgs, synthetic_classical_data = build_dataset(model_type[0], noise_dim, path, labels, num_classes)\n",
    "\n",
    "# # Bulding synthetic quantum dataset (one-hot encoding included)\n",
    "q_path = \"torch_results/QGAN/QGAN_linear/\"\n",
    "QGAN_imgs, synthetic_quantum_data = build_dataset(model_type[1], noise_dim, q_path, labels, num_classes)\n",
    "\n",
    "# len(synthetic_classical_data), len(synthetic_quantum_data)\n",
    "# plt.imshow(synthetic_quantum_data[2000][0]), synthetic_quantum_data[2000][1]\n",
    "# plt.imshow(synthetic_classical_data[2000][0]), synthetic_classical_data[2000][1]"
   ]
  },
  {
   "attachments": {},
   "cell_type": "markdown",
   "metadata": {},
   "source": [
    "### Accuracy score"
   ]
  },
  {
   "cell_type": "code",
   "execution_count": 3,
   "metadata": {},
   "outputs": [
    {
     "name": "stdout",
     "output_type": "stream",
     "text": [
      "REAL DATA CLASSIFICATION: \n"
     ]
    },
    {
     "name": "stderr",
     "output_type": "stream",
     "text": [
      "100%|██████████| 20/20 [00:12<00:00,  1.67it/s, Classificator loss=1]    \n",
      "2023-02-03 17:25:40.962252: W tensorflow/stream_executor/platform/default/dso_loader.cc:64] Could not load dynamic library 'libcuda.so.1'; dlerror: libcuda.so.1: cannot open shared object file: No such file or directory\n",
      "2023-02-03 17:25:40.962288: W tensorflow/stream_executor/cuda/cuda_driver.cc:269] failed call to cuInit: UNKNOWN ERROR (303)\n",
      "2023-02-03 17:25:40.962303: I tensorflow/stream_executor/cuda/cuda_diagnostics.cc:156] kernel driver does not appear to be running on this host (vt-bozzololu): /proc/driver/nvidia/version does not exist\n",
      "2023-02-03 17:25:40.962536: I tensorflow/core/platform/cpu_feature_guard.cc:151] This TensorFlow binary is optimized with oneAPI Deep Neural Network Library (oneDNN) to use the following CPU instructions in performance-critical operations:  AVX2 AVX512F FMA\n",
      "To enable them in other operations, rebuild TensorFlow with the appropriate compiler flags.\n"
     ]
    },
    {
     "name": "stdout",
     "output_type": "stream",
     "text": [
      "Accuracy score:  0.861878453038674\n",
      "SYNTHETIC DATA CLASSIFICATION: \n",
      "---------------------------------------- RUN 1 ----------------------------------------\n",
      "Classical GAN training: \n"
     ]
    },
    {
     "name": "stderr",
     "output_type": "stream",
     "text": [
      "100%|██████████| 20/20 [00:36<00:00,  1.80s/it, Classificator loss=0.905]\n"
     ]
    },
    {
     "name": "stdout",
     "output_type": "stream",
     "text": [
      "Accuracy score:  0.9089900110987791\n",
      "Quantum GAN training: \n"
     ]
    },
    {
     "name": "stderr",
     "output_type": "stream",
     "text": [
      "100%|██████████| 20/20 [00:37<00:00,  1.88s/it, Classificator loss=0.906]\n"
     ]
    },
    {
     "name": "stdout",
     "output_type": "stream",
     "text": [
      "Accuracy score:  0.4839067702552719\n",
      "---------------------------------------- RUN 2 ----------------------------------------\n",
      "Classical GAN training: \n"
     ]
    },
    {
     "name": "stderr",
     "output_type": "stream",
     "text": [
      "100%|██████████| 20/20 [00:33<00:00,  1.65s/it, Classificator loss=0.905]\n"
     ]
    },
    {
     "name": "stdout",
     "output_type": "stream",
     "text": [
      "Accuracy score:  0.9123196448390677\n",
      "Quantum GAN training: \n"
     ]
    },
    {
     "name": "stderr",
     "output_type": "stream",
     "text": [
      "100%|██████████| 20/20 [00:37<00:00,  1.85s/it, Classificator loss=0.906]\n"
     ]
    },
    {
     "name": "stdout",
     "output_type": "stream",
     "text": [
      "Accuracy score:  0.5283018867924528\n"
     ]
    }
   ],
   "source": [
    "synthetic_dataloader = DataLoader(synthetic_classical_data, batch_size=batch_size, shuffle=True, drop_last=True)\n",
    "q_synthetic_dataloader = DataLoader(synthetic_quantum_data, batch_size=batch_size, shuffle=True, drop_last=True)\n",
    "real_dataloader = DataLoader(real_data, shuffle=True)\n",
    "train_dataloader = DataLoader(train_data, batch_size = batch_size, shuffle=True, drop_last=True)\n",
    "test_dataloader = DataLoader(test_data, shuffle=True)\n",
    "\n",
    "r_classificator = Classificator(num_classes)\n",
    "c_classificator = Classificator(num_classes)\n",
    "q_classificator = Classificator(num_classes)\n",
    "\n",
    "print('REAL DATA CLASSIFICATION: ')\n",
    "r_path = \"torch_results\"\n",
    "r_loss = training_classification(r_classificator, train_dataloader, epochs, learning_rate, batch_size, r_path)\n",
    "evaluate_accuracy(r_classificator, test_dataloader, r_path)\n",
    "\n",
    "print('SYNTHETIC DATA CLASSIFICATION: ')\n",
    "acc_tot, q_acc_tot, delta_acc, c_loss, q_loss = multiple_runs(runs, model_type, c_classificator, q_classificator, synthetic_dataloader, q_synthetic_dataloader,\n",
    "                                                              real_dataloader, num_classes, learning_rate, epochs, batch_size, reset_parameters=True) "
   ]
  },
  {
   "cell_type": "code",
   "execution_count": 4,
   "metadata": {},
   "outputs": [
    {
     "data": {
      "image/png": "[encoded data removed]",
      "text/plain": [
       "<Figure size 432x288 with 1 Axes>"
      ]
     },
     "metadata": {
      "needs_background": "light"
     },
     "output_type": "display_data"
    }
   ],
   "source": [
    "#----------------------- Plotting losses -----------------------#\n",
    "plt.plot(np.arange(len(c_loss)), q_loss, label='QGAN')\n",
    "plt.plot(np.arange(len(c_loss)), c_loss, label='GAN')\n",
    "plt.legend()\n",
    "plt.show()"
   ]
  },
  {
   "cell_type": "code",
   "execution_count": 5,
   "metadata": {},
   "outputs": [
    {
     "data": {
      "image/png": "[encoded data removed]",
      "text/plain": [
       "<Figure size 864x432 with 1 Axes>"
      ]
     },
     "metadata": {},
     "output_type": "display_data"
    }
   ],
   "source": [
    "c_acc_2_features = [0.9777777777777777,0.9583333333333334,0.975,0.9777777777777777,0.975,0.9805555555555555,0.9638888888888889,0.9694444444444444,0.9805555555555555,0.9861111111111112]\n",
    "\n",
    "q_acc_2_features = [0.9861111111111112,0.9833333333333333,0.9944444444444445,0.9888888888888889,0.9888888888888889,0.9861111111111112,0.9916666666666667,0.9861111111111112,0.9833333333333333,\n",
    "0.9861111111111112]\n",
    "\n",
    "c_acc_3_features = [0.9590316573556797,0.957169459962756,0.9702048417132216,0.957169459962756,0.9590316573556797,0.9422718808193669,0.9422718808193669,0.9646182495344506,0.962756052141527,\n",
    "0.9050279329608939]\n",
    "\n",
    "q_acc_3_features = [0.7579143389199255,0.7541899441340782,0.7318435754189944,0.7318435754189944,0.7430167597765364,0.8100558659217877,0.7635009310986964,0.7057728119180633,0.8081936685288641,\n",
    "0.7690875232774674]\n",
    "\n",
    "c_acc_4_features = [0.8680555555555556,0.8694444444444445,0.9013888888888889,0.8819444444444444,0.8777777777777778,0.9027777777777778,0.8986111111111111,0.9069444444444444,0.8861111111111111,\n",
    "0.8555555555555555]\n",
    "\n",
    "q_acc_4_features = [0.4708333333333333,0.4986111111111111,0.4083333333333333,0.4166666666666667,0.4097222222222222,0.40555555555555556,0.3888888888888889,0.4125,0.40555555555555556,0.43333333333333335]\n",
    "\n",
    "c_acc_5_features = [0.9089900110987791,0.9123196448390677,0.9178690344062154,0.8956714761376249,0.8612652608213096,0.8990011098779135,0.8679245283018868,0.876803551609323,0.9223085460599334,\n",
    "0.897891231964484]\n",
    "\n",
    "q_acc_5_features = [0.30965593784683687,0.3129855715871254,0.31520532741398444,0.34850166481687017,0.3052164261931188,0.32075471698113206,0.35294117647058826,0.33296337402885684,0.3196448390677026,\n",
    "0.3174250832408435]\n",
    "\n",
    "c_acc_final = [c_acc_2_features, c_acc_3_features, c_acc_4_features, c_acc_5_features]\n",
    "q_acc_final = [q_acc_2_features, q_acc_3_features, q_acc_4_features, q_acc_5_features]\n",
    "\n",
    "boxplot = accuracy_boxplot(c_acc_final, q_acc_final, [2,3,4,5])\n",
    "boxplot"
   ]
  },
  {
   "cell_type": "code",
   "execution_count": 6,
   "metadata": {},
   "outputs": [],
   "source": [
    "# Plotting histogram probability distributions \n",
    "\n",
    "# linear_gan_synthetic = np.concatenate(GAN_imgs).reshape(len(GAN_imgs), 8, 8)\n",
    "# reshaped_linear_gan_synthetic = linear_gan_synthetic.reshape(len(GAN_imgs)*64)\n",
    "# linear_qgan_synthetic = np.concatenate(QGAN_imgs).reshape(len(QGAN_imgs), 8, 8)\n",
    "# reshaped_linear_qgan_synthetic = linear_qgan_synthetic.reshape(len(QGAN_imgs)*64)\n",
    "# real_data = np.concatenate(real_img).reshape(len(real_img), 8, 8)\n",
    "# reshaped_real_data = real_data.reshape(len(real_data)*64)\n",
    "\n",
    "# empty_dataframe = pd.DataFrame(columns=['Real data','GAN', 'QGAN'])\n",
    "# df1 = pd.DataFrame(reshaped_real_data)\n",
    "# df2 = pd.DataFrame(reshaped_linear_gan_synthetic)\n",
    "# df3 = pd.DataFrame(reshaped_linear_qgan_synthetic)\n",
    "# df = pd.concat([df1, df2, df3], 1)\n",
    "# df.columns = ['Real data','GAN', 'QGAN']\n",
    "\n",
    "# sns.displot(data = df, kind = 'kde')"
   ]
  }
 ],
 "metadata": {
  "kernelspec": {
   "display_name": "base",
   "language": "python",
   "name": "python3"
  },
  "language_info": {
   "codemirror_mode": {
    "name": "ipython",
    "version": 3
   },
   "file_extension": ".py",
   "mimetype": "text/x-python",
   "name": "python",
   "nbconvert_exporter": "python",
   "pygments_lexer": "ipython3",
   "version": "3.9.12"
  },
  "orig_nbformat": 4,
  "vscode": {
   "interpreter": {
    "hash": "41b44beeb6ae1f78ee853589a4fc9a204ef8b2c5ec7d95e779faecfadf9e001f"
   }
  }
 },
 "nbformat": 4,
 "nbformat_minor": 2
}
