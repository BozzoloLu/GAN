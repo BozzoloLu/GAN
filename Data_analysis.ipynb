{
 "cells": [
  {
   "attachments": {},
   "cell_type": "markdown",
   "metadata": {},
   "source": [
    "## Data analysis"
   ]
  },
  {
   "cell_type": "code",
   "execution_count": 1,
   "metadata": {},
   "outputs": [
    {
     "name": "stderr",
     "output_type": "stream",
     "text": [
      "2023-01-11 15:04:32.293732: W tensorflow/stream_executor/platform/default/dso_loader.cc:64] Could not load dynamic library 'libcudart.so.11.0'; dlerror: libcudart.so.11.0: cannot open shared object file: No such file or directory\n",
      "2023-01-11 15:04:32.293775: I tensorflow/stream_executor/cuda/cudart_stub.cc:29] Ignore above cudart dlerror if you do not have a GPU set up on your machine.\n",
      "2023-01-11 15:04:34.343767: W tensorflow/stream_executor/platform/default/dso_loader.cc:64] Could not load dynamic library 'libcuda.so.1'; dlerror: libcuda.so.1: cannot open shared object file: No such file or directory\n",
      "2023-01-11 15:04:34.343803: W tensorflow/stream_executor/cuda/cuda_driver.cc:269] failed call to cuInit: UNKNOWN ERROR (303)\n",
      "2023-01-11 15:04:34.343815: I tensorflow/stream_executor/cuda/cuda_diagnostics.cc:156] kernel driver does not appear to be running on this host (vt-bozzololu): /proc/driver/nvidia/version does not exist\n",
      "2023-01-11 15:04:34.344018: I tensorflow/core/platform/cpu_feature_guard.cc:151] This TensorFlow binary is optimized with oneAPI Deep Neural Network Library (oneDNN) to use the following CPU instructions in performance-critical operations:  AVX2 AVX512F FMA\n",
      "To enable them in other operations, rebuild TensorFlow with the appropriate compiler flags.\n"
     ]
    }
   ],
   "source": [
    "#from utils import *\n",
    "from lin_GAN_penny_script import *\n",
    "import torch\n",
    "import numpy as np\n",
    "import pandas as pd\n",
    "from scipy.stats import f\n",
    "import matplotlib.pyplot as plt\n",
    "import matplotlib.gridspec as gridspec\n",
    "import seaborn as sns"
   ]
  },
  {
   "cell_type": "code",
   "execution_count": 2,
   "metadata": {},
   "outputs": [],
   "source": [
    "seed = 42\n",
    "torch.manual_seed(seed)\n",
    "np.random.seed(seed)\n",
    "random.seed(seed)"
   ]
  },
  {
   "cell_type": "code",
   "execution_count": 3,
   "metadata": {},
   "outputs": [],
   "source": [
    "noise_dim = 5\n",
    "image_size = 8\n",
    "batch_size = 1\n",
    "\n",
    "# %%\n",
    "#load dataset and create a batch\n",
    "digits, targets = datasets.load_digits(return_X_y=True)\n",
    "# digits /= 16\n",
    "# dataloader = DataLoader(list(zip(digits.astype(\"float32\"), targets.astype(\"float32\"))), \n",
    "#                         batch_size= batch_size, shuffle= True, drop_last= True)\n",
    "\n",
    "rd, inp = resize_data(digits, targets, label = (1,), image_size = image_size)\n",
    "dataloader = torch.utils.data.DataLoader(rd, batch_size=batch_size, shuffle=True, drop_last=True)"
   ]
  },
  {
   "cell_type": "code",
   "execution_count": 4,
   "metadata": {},
   "outputs": [],
   "source": [
    "# fig = plt.figure(figsize=(10, 5))\n",
    "# outer = gridspec.GridSpec(len(gan.results), 2, wspace=0.1)\n",
    "\n",
    "# for i, images in enumerate(gan.results):\n",
    "#     inner = gridspec.GridSpecFromSubplotSpec(1, images.size(0), subplot_spec=outer[i])\n",
    "    \n",
    "#     images = torch.squeeze(images, dim=1)\n",
    "#     for j, im in enumerate(images):\n",
    "\n",
    "#         ax = plt.Subplot(fig, inner[j])\n",
    "#         ax.imshow(im.numpy(), cmap=\"gray\")\n",
    "#         ax.set_xticks([])\n",
    "#         ax.set_yticks([])\n",
    "#         if j==0:\n",
    "#             ax.set_title(f'Epoch {i}', loc='left')\n",
    "#         fig.add_subplot(ax)\n",
    "\n",
    "# plt.show()"
   ]
  },
  {
   "cell_type": "code",
   "execution_count": 5,
   "metadata": {},
   "outputs": [],
   "source": [
    "def show_images(data, n_samples):\n",
    "\n",
    "    plt.figure(figsize=(8,2))\n",
    "\n",
    "    for i in range(n_samples):\n",
    "        image = data[i][0].reshape(8, 8)\n",
    "        plt.subplot(1,n_samples,i+1)\n",
    "        plt.axis('off')\n",
    "        plt.imshow(image.numpy(), cmap='gray')\n",
    "        \n",
    "    plt.show()"
   ]
  },
  {
   "cell_type": "code",
   "execution_count": 22,
   "metadata": {},
   "outputs": [
    {
     "data": {
      "image/png": "[encoded data removed]",
      "text/plain": [
       "<Figure size 576x144 with 8 Axes>"
      ]
     },
     "metadata": {
      "needs_background": "light"
     },
     "output_type": "display_data"
    },
    {
     "data": {
      "text/plain": [
       "182"
      ]
     },
     "execution_count": 22,
     "metadata": {},
     "output_type": "execute_result"
    }
   ],
   "source": [
    "# Showing real data\n",
    "\n",
    "digits = datasets.load_digits()\n",
    "\n",
    "x_train = digits.data\n",
    "y_train = digits.target\n",
    "\n",
    "x_train = x_train.reshape(len(x_train), 8, 8)\n",
    "x_train.shape\n",
    "\n",
    "rd, real_data = resize_data(x_train, y_train, label = (1,), image_size = 8)\n",
    "show_images(rd, 8)\n",
    "len(rd)"
   ]
  },
  {
   "cell_type": "code",
   "execution_count": 23,
   "metadata": {},
   "outputs": [],
   "source": [
    "# dataloader = torch.utils.data.DataLoader(rd, batch_size=1, shuffle=True, drop_last=True)\n",
    "\n",
    "# for elem in dataloader:\n",
    "#     plt.imshow(elem[0][0])"
   ]
  },
  {
   "cell_type": "code",
   "execution_count": 40,
   "metadata": {},
   "outputs": [
    {
     "data": {
      "image/png": "[encoded data removed]",
      "text/plain": [
       "<Figure size 576x144 with 16 Axes>"
      ]
     },
     "metadata": {
      "needs_background": "light"
     },
     "output_type": "display_data"
    },
    {
     "data": {
      "text/plain": [
       "(None, torch.Size([1, 8, 8]))"
      ]
     },
     "execution_count": 40,
     "metadata": {},
     "output_type": "execute_result"
    }
   ],
   "source": [
    "# Making inference with classical GAN\n",
    "\n",
    "#model = torch.load('torch_results/GAN/GAN_linear/20230110-153648/lin_gen_epoch_2')   # '0' features\n",
    "model = torch.load('torch_results/GAN/GAN_linear/20230111-152907/lin_gen_epoch_2')   # '1' features\n",
    "#model = torch.load('torch_results/GAN/GAN_linear/20230111-141919/lin_gen_epoch_999')   # '0','1' features\n",
    "\n",
    "#model.eval()\n",
    "\n",
    "GAN_imgs = []\n",
    "\n",
    "noise_dim = 5\n",
    "\n",
    "for i in range(len(real_data)):      \n",
    "     \n",
    "    image = model(torch.rand(1, noise_dim)).view(1,8,8).cpu().detach()\n",
    "    GAN_imgs.append(image)\n",
    "\n",
    "show_images(GAN_imgs, 16), GAN_imgs[0].shape\n",
    "\n",
    "\n",
    "# noise_dim = 5\n",
    "\n",
    "# plt.figure()\n",
    "# f, axarr = plt.subplots(8, 8) \n",
    "# for i, ax in enumerate(axarr.ravel()):\n",
    "#     ax.imshow(model(torch.rand(1,noise_dim)).detach().numpy().reshape(8,8), cmap = 'gray')\n",
    "#     ax.tick_params(left=False, bottom=False, labelleft=False, labelbottom=False)\n",
    "# f.tight_layout()\n",
    "# plt.show()\n",
    "# plt.figure()\n",
    "# f, axarr = plt.subplots(8, 8) \n",
    "# for i, ax in enumerate(axarr.ravel()):\n",
    "#     ax.imshow(model(torch.rand(1,noise_dim)).detach().numpy().reshape(8,8), cmap = 'gray')\n",
    "#     ax.tick_params(left=False, bottom=False, labelleft=False, labelbottom=False)\n",
    "# f.tight_layout()\n",
    "# plt.show()"
   ]
  },
  {
   "cell_type": "code",
   "execution_count": 41,
   "metadata": {},
   "outputs": [
    {
     "data": {
      "text/plain": [
       "(Generator(\n",
       "   (dense_layer): Linear(in_features=5, out_features=32, bias=True)\n",
       "   (relu): LeakyReLU(negative_slope=0.01)\n",
       "   (lin): Linear(in_features=32, out_features=64, bias=True)\n",
       "   (activation): Sigmoid()\n",
       " ),\n",
       " torch.Size([1, 64]))"
      ]
     },
     "execution_count": 41,
     "metadata": {},
     "output_type": "execute_result"
    }
   ],
   "source": [
    "model, model(torch.rand(1,noise_dim)).shape"
   ]
  },
  {
   "cell_type": "code",
   "execution_count": 42,
   "metadata": {},
   "outputs": [
    {
     "data": {
      "text/plain": [
       "182"
      ]
     },
     "execution_count": 42,
     "metadata": {},
     "output_type": "execute_result"
    }
   ],
   "source": [
    "len(GAN_imgs)"
   ]
  },
  {
   "cell_type": "code",
   "execution_count": 43,
   "metadata": {},
   "outputs": [],
   "source": [
    "#synthetic = torch.load('torch_results/GAN/GAN_linear/20221229-112146/synthetic.pt')\n",
    "#generated_images(synthetic)\n",
    "#show_images(synthetic[:28], 8)"
   ]
  },
  {
   "cell_type": "code",
   "execution_count": 44,
   "metadata": {},
   "outputs": [
    {
     "data": {
      "image/png": "[encoded data removed]",
      "text/plain": [
       "<Figure size 576x144 with 16 Axes>"
      ]
     },
     "metadata": {
      "needs_background": "light"
     },
     "output_type": "display_data"
    }
   ],
   "source": [
    "# Making inference with QGAN\n",
    "\n",
    "#q_model = torch.load('torch_results/QGAN/QGAN_linear/20230110-161015/lin_q_gen_epoch_2')  # '0' features 6 layers\n",
    "q_model = torch.load('torch_results/QGAN/QGAN_linear/20230111-151825/lin_q_gen_epoch_2')  # '1' features 6 layers \n",
    "#q_model = torch.load('torch_results/QGAN/QGAN_linear/20221228-173805/lin_q_gen_epoch_1400')  # '0' '1' features 6 layers new vqc\n",
    "#q_model = torch.load('torch_results/QGAN/QGAN_linear/20221228-141802/lin_q_gen_epoch_510')  # '0' features 6 Random layers\n",
    "#q_model = torch.load('torch_results/QGAN/QGAN_linear/20221219-093229/q_gen_epoch_1500')  # '0','1' features 6 layers\n",
    "#q_model = torch.load('torch_results/QGAN/QGAN_linear/20221216-125209/q_gen_epoch_1000')  # '0','1' features 8 layers\n",
    "#q_model = torch.load('torch_results/QGAN/QGAN_linear/20221216-150017/q_gen_epoch_2000')  # '0','1' features 10 layers\n",
    "#q_model = torch.load('torch_results/QGAN/QGAN_linear/20221216-112234/q_gen_epoch_2000')  # '0','1','2' features\n",
    "q_model.eval()\n",
    "\n",
    "QGAN_imgs = []\n",
    "for i in range(len(real_data)):      \n",
    "    fixed_noise = torch.rand(1, 5)  \n",
    "    q_image = q_model(fixed_noise).view(1,8,8).cpu().detach()\n",
    "    QGAN_imgs.append(q_image)\n",
    "\n",
    "show_images(QGAN_imgs, 16)"
   ]
  },
  {
   "cell_type": "code",
   "execution_count": 45,
   "metadata": {},
   "outputs": [],
   "source": [
    "#q_synthetic = torch.load('torch_results/QGAN/QGAN_linear/20221228-173805/synthetic.pt')  \n",
    "#generated_images(q_synthetic)\n",
    "#show_images(q_synthetic[:20], 8), len(q_synthetic)"
   ]
  },
  {
   "cell_type": "code",
   "execution_count": 46,
   "metadata": {},
   "outputs": [
    {
     "name": "stderr",
     "output_type": "stream",
     "text": [
      "/tmp/ipykernel_1884/3369465933.py:14: FutureWarning: In a future version of pandas all arguments of concat except for the argument 'objs' will be keyword-only.\n",
      "  df = pd.concat([df1, df2, df3], 1)\n"
     ]
    },
    {
     "data": {
      "text/plain": [
       "<seaborn.axisgrid.FacetGrid at 0x7fdb2458a100>"
      ]
     },
     "execution_count": 46,
     "metadata": {},
     "output_type": "execute_result"
    },
    {
     "data": {
      "image/png": "[encoded data removed]",
      "text/plain": [
       "<Figure size 443.125x360 with 1 Axes>"
      ]
     },
     "metadata": {
      "needs_background": "light"
     },
     "output_type": "display_data"
    }
   ],
   "source": [
    "# Plotting histogram probability distributions \n",
    "\n",
    "linear_gan_synthetic = np.concatenate(GAN_imgs).reshape(len(GAN_imgs), 8, 8)\n",
    "reshaped_linear_gan_synthetic = linear_gan_synthetic.reshape(len(GAN_imgs)*64)\n",
    "linear_qgan_synthetic = np.concatenate(QGAN_imgs).reshape(len(QGAN_imgs), 8, 8)\n",
    "reshaped_linear_qgan_synthetic = linear_qgan_synthetic.reshape(len(QGAN_imgs)*64)\n",
    "real_data = np.concatenate(real_data).reshape(len(real_data), 8, 8)\n",
    "reshaped_real_data = real_data.reshape(len(real_data)*64)\n",
    "\n",
    "empty_dataframe = pd.DataFrame(columns=['Real data','GAN', 'QGAN'])\n",
    "df1 = pd.DataFrame(reshaped_real_data)\n",
    "df2 = pd.DataFrame(reshaped_linear_gan_synthetic)\n",
    "df3 = pd.DataFrame(reshaped_linear_qgan_synthetic)\n",
    "df = pd.concat([df1, df2, df3], 1)\n",
    "df.columns = ['Real data','GAN', 'QGAN']\n",
    "\n",
    "sns.displot(data = df, kind = 'kde')"
   ]
  },
  {
   "cell_type": "code",
   "execution_count": null,
   "metadata": {},
   "outputs": [],
   "source": []
  },
  {
   "cell_type": "code",
   "execution_count": null,
   "metadata": {},
   "outputs": [],
   "source": []
  }
 ],
 "metadata": {
  "kernelspec": {
   "display_name": "base",
   "language": "python",
   "name": "python3"
  },
  "language_info": {
   "codemirror_mode": {
    "name": "ipython",
    "version": 3
   },
   "file_extension": ".py",
   "mimetype": "text/x-python",
   "name": "python",
   "nbconvert_exporter": "python",
   "pygments_lexer": "ipython3",
   "version": "3.9.12"
  },
  "orig_nbformat": 4,
  "vscode": {
   "interpreter": {
    "hash": "41b44beeb6ae1f78ee853589a4fc9a204ef8b2c5ec7d95e779faecfadf9e001f"
   }
  }
 },
 "nbformat": 4,
 "nbformat_minor": 2
}
