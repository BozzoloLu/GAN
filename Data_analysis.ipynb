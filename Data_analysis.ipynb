{
 "cells": [
  {
   "attachments": {},
   "cell_type": "markdown",
   "metadata": {},
   "source": [
    "## Data analysis"
   ]
  },
  {
   "cell_type": "code",
   "execution_count": 1,
   "metadata": {},
   "outputs": [
    {
     "name": "stderr",
     "output_type": "stream",
     "text": [
      "2023-01-03 18:14:14.247514: W tensorflow/stream_executor/platform/default/dso_loader.cc:64] Could not load dynamic library 'libcudart.so.11.0'; dlerror: libcudart.so.11.0: cannot open shared object file: No such file or directory\n",
      "2023-01-03 18:14:14.247560: I tensorflow/stream_executor/cuda/cudart_stub.cc:29] Ignore above cudart dlerror if you do not have a GPU set up on your machine.\n"
     ]
    }
   ],
   "source": [
    "from utils import *\n",
    "import torch\n",
    "import numpy as np\n",
    "import pandas as pd\n",
    "from scipy.stats import f\n",
    "import matplotlib.pyplot as plt\n",
    "import matplotlib.gridspec as gridspec\n",
    "import seaborn as sns"
   ]
  },
  {
   "cell_type": "code",
   "execution_count": 2,
   "metadata": {},
   "outputs": [],
   "source": [
    "seed = 42\n",
    "torch.manual_seed(seed)\n",
    "np.random.seed(seed)\n",
    "random.seed(seed)"
   ]
  },
  {
   "cell_type": "code",
   "execution_count": 3,
   "metadata": {},
   "outputs": [],
   "source": [
    "def show_images(data, n_samples):\n",
    "\n",
    "    plt.figure(figsize=(8,2))\n",
    "\n",
    "    for i in range(n_samples):\n",
    "        image = data[i][0].reshape(8, 8)\n",
    "        plt.subplot(1,n_samples,i+1)\n",
    "        plt.axis('off')\n",
    "        plt.imshow(image.numpy(), cmap='gray')\n",
    "        \n",
    "    plt.show()"
   ]
  },
  {
   "cell_type": "code",
   "execution_count": 4,
   "metadata": {},
   "outputs": [
    {
     "data": {
      "image/png": "[encoded data removed]",
      "text/plain": [
       "<Figure size 576x144 with 8 Axes>"
      ]
     },
     "metadata": {
      "needs_background": "light"
     },
     "output_type": "display_data"
    },
    {
     "data": {
      "text/plain": [
       "178"
      ]
     },
     "execution_count": 4,
     "metadata": {},
     "output_type": "execute_result"
    }
   ],
   "source": [
    "# Showing real data\n",
    "\n",
    "digits = datasets.load_digits()\n",
    "\n",
    "x_train = digits.data\n",
    "y_train = digits.target\n",
    "\n",
    "x_train = x_train.reshape(len(x_train), 8, 8)\n",
    "x_train.shape\n",
    "\n",
    "rd, real_data = resize_data(x_train, y_train, label = (0,), image_size = 8)\n",
    "show_images(rd, 8)\n",
    "len(rd)"
   ]
  },
  {
   "cell_type": "code",
   "execution_count": 5,
   "metadata": {},
   "outputs": [],
   "source": [
    "dataloader = torch.utils.data.DataLoader(rd, batch_size=1, shuffle=True, drop_last=True)\n",
    "\n",
    "# for elem in dataloader:\n",
    "#     plt.imshow(elem[0][0])"
   ]
  },
  {
   "cell_type": "code",
   "execution_count": 6,
   "metadata": {},
   "outputs": [
    {
     "ename": "ValueError",
     "evalue": "cannot reshape array of size 32 into shape (8,8)",
     "output_type": "error",
     "traceback": [
      "\u001b[0;31m---------------------------------------------------------------------------\u001b[0m",
      "\u001b[0;31mValueError\u001b[0m                                Traceback (most recent call last)",
      "\u001b[1;32m/home/ludoboz/Projects/Git_projects/GAN/Data_analysis.ipynb Cell 7\u001b[0m in \u001b[0;36m<cell line: 23>\u001b[0;34m()\u001b[0m\n\u001b[1;32m     <a href='vscode-notebook-cell://wsl%2Bubuntu-20.04/home/ludoboz/Projects/Git_projects/GAN/Data_analysis.ipynb#W6sdnNjb2RlLXJlbW90ZQ%3D%3D?line=21'>22</a>\u001b[0m f, axarr \u001b[39m=\u001b[39m plt\u001b[39m.\u001b[39msubplots(\u001b[39m8\u001b[39m, \u001b[39m8\u001b[39m) \n\u001b[1;32m     <a href='vscode-notebook-cell://wsl%2Bubuntu-20.04/home/ludoboz/Projects/Git_projects/GAN/Data_analysis.ipynb#W6sdnNjb2RlLXJlbW90ZQ%3D%3D?line=22'>23</a>\u001b[0m \u001b[39mfor\u001b[39;00m i, ax \u001b[39min\u001b[39;00m \u001b[39menumerate\u001b[39m(axarr\u001b[39m.\u001b[39mravel()):\n\u001b[0;32m---> <a href='vscode-notebook-cell://wsl%2Bubuntu-20.04/home/ludoboz/Projects/Git_projects/GAN/Data_analysis.ipynb#W6sdnNjb2RlLXJlbW90ZQ%3D%3D?line=23'>24</a>\u001b[0m     ax\u001b[39m.\u001b[39mimshow(model(torch\u001b[39m.\u001b[39;49mrand(\u001b[39m1\u001b[39;49m,noise_dim))\u001b[39m.\u001b[39;49mdetach()\u001b[39m.\u001b[39;49mnumpy()\u001b[39m.\u001b[39;49mreshape(\u001b[39m8\u001b[39;49m,\u001b[39m8\u001b[39;49m), cmap \u001b[39m=\u001b[39m \u001b[39m'\u001b[39m\u001b[39mgray\u001b[39m\u001b[39m'\u001b[39m)\n\u001b[1;32m     <a href='vscode-notebook-cell://wsl%2Bubuntu-20.04/home/ludoboz/Projects/Git_projects/GAN/Data_analysis.ipynb#W6sdnNjb2RlLXJlbW90ZQ%3D%3D?line=24'>25</a>\u001b[0m     ax\u001b[39m.\u001b[39mtick_params(left\u001b[39m=\u001b[39m\u001b[39mFalse\u001b[39;00m, bottom\u001b[39m=\u001b[39m\u001b[39mFalse\u001b[39;00m, labelleft\u001b[39m=\u001b[39m\u001b[39mFalse\u001b[39;00m, labelbottom\u001b[39m=\u001b[39m\u001b[39mFalse\u001b[39;00m)\n\u001b[1;32m     <a href='vscode-notebook-cell://wsl%2Bubuntu-20.04/home/ludoboz/Projects/Git_projects/GAN/Data_analysis.ipynb#W6sdnNjb2RlLXJlbW90ZQ%3D%3D?line=25'>26</a>\u001b[0m f\u001b[39m.\u001b[39mtight_layout()\n",
      "\u001b[0;31mValueError\u001b[0m: cannot reshape array of size 32 into shape (8,8)"
     ]
    },
    {
     "data": {
      "text/plain": [
       "<Figure size 432x288 with 0 Axes>"
      ]
     },
     "metadata": {},
     "output_type": "display_data"
    },
    {
     "data": {
      "image/png": "[encoded data removed]",
      "text/plain": [
       "<Figure size 432x288 with 64 Axes>"
      ]
     },
     "metadata": {
      "needs_background": "light"
     },
     "output_type": "display_data"
    }
   ],
   "source": [
    "# Making inference with classical GAN\n",
    "\n",
    "model = torch.load('torch_results/GAN/GAN_linear/20230103-180533/lin_gen_epoch_2')   # '0' features\n",
    "\n",
    "#model.eval()\n",
    "\n",
    "#GAN_imgs = []\n",
    "\n",
    "# noise_dim = 5\n",
    "\n",
    "# for i in range(len(real_data)):      \n",
    "     \n",
    "#     image = model(torch.rand(1, noise_dim)).view(1,8,8).cpu().detach()\n",
    "#     GAN_imgs.append(image)\n",
    "\n",
    "# show_images(GAN_imgs, 8), GAN_imgs[0].shape\n",
    "\n",
    "\n",
    "noise_dim = 5\n",
    "\n",
    "plt.figure()\n",
    "f, axarr = plt.subplots(8, 8) \n",
    "for i, ax in enumerate(axarr.ravel()):\n",
    "    ax.imshow(model(torch.rand(1,noise_dim)).detach().numpy().reshape(8,8), cmap = 'gray')\n",
    "    ax.tick_params(left=False, bottom=False, labelleft=False, labelbottom=False)\n",
    "f.tight_layout()\n",
    "plt.show()\n",
    "# plt.figure()\n",
    "# f, axarr = plt.subplots(8, 8) \n",
    "# for i, ax in enumerate(axarr.ravel()):\n",
    "#     ax.imshow(model(torch.rand(1,noise_dim)).detach().numpy().reshape(8,8), cmap = 'gray')\n",
    "#     ax.tick_params(left=False, bottom=False, labelleft=False, labelbottom=False)\n",
    "# f.tight_layout()\n",
    "# plt.show()"
   ]
  },
  {
   "cell_type": "code",
   "execution_count": 7,
   "metadata": {},
   "outputs": [
    {
     "data": {
      "text/plain": [
       "(Generator(\n",
       "   (dense_layer): Linear(in_features=5, out_features=32, bias=True)\n",
       "   (relu): LeakyReLU(negative_slope=0.01)\n",
       "   (lin): Linear(in_features=32, out_features=64, bias=True)\n",
       "   (activation): Sigmoid()\n",
       " ),\n",
       " torch.Size([1, 32]))"
      ]
     },
     "execution_count": 7,
     "metadata": {},
     "output_type": "execute_result"
    }
   ],
   "source": [
    "model, model(torch.rand(1,noise_dim)).shape"
   ]
  },
  {
   "cell_type": "code",
   "execution_count": null,
   "metadata": {},
   "outputs": [],
   "source": [
    "len(GAN_imgs)"
   ]
  },
  {
   "cell_type": "code",
   "execution_count": null,
   "metadata": {},
   "outputs": [],
   "source": [
    "synthetic = torch.load('torch_results/GAN/GAN_linear/20221229-112146/synthetic.pt')\n",
    "#generated_images(synthetic)\n",
    "show_images(synthetic[:28], 8)"
   ]
  },
  {
   "cell_type": "code",
   "execution_count": null,
   "metadata": {},
   "outputs": [],
   "source": [
    "# Making inference with QGAN\n",
    "\n",
    "#q_model = torch.load('torch_results/QGAN/QGAN_linear/20221216-184033/q_gen_epoch_500')  # '0' features 6 layers\n",
    "#q_model = torch.load('torch_results/QGAN/QGAN_linear/20221228-162657/lin_q_gen_epoch_500')  # '0' features 6 layers new vqc\n",
    "q_model = torch.load('torch_results/QGAN/QGAN_linear/20221228-173805/lin_q_gen_epoch_1400')  # '0' '1' features 6 layers new vqc\n",
    "#q_model = torch.load('torch_results/QGAN/QGAN_linear/20221228-141802/lin_q_gen_epoch_510')  # '0' features 6 Random layers\n",
    "#q_model = torch.load('torch_results/QGAN/QGAN_linear/20221219-093229/q_gen_epoch_1500')  # '0','1' features 6 layers\n",
    "#q_model = torch.load('torch_results/QGAN/QGAN_linear/20221216-125209/q_gen_epoch_1000')  # '0','1' features 8 layers\n",
    "#q_model = torch.load('torch_results/QGAN/QGAN_linear/20221216-150017/q_gen_epoch_2000')  # '0','1' features 10 layers\n",
    "#q_model = torch.load('torch_results/QGAN/QGAN_linear/20221216-112234/q_gen_epoch_2000')  # '0','1','2' features\n",
    "q_model.eval()\n",
    "\n",
    "QGAN_imgs = []\n",
    "for i in range(len(real_data)):      \n",
    "    fixed_noise = torch.rand(1, 5)  \n",
    "    q_image = q_model(fixed_noise).view(1,8,8).cpu().detach()\n",
    "    QGAN_imgs.append(q_image)\n",
    "\n",
    "show_images(QGAN_imgs, 8)"
   ]
  },
  {
   "cell_type": "code",
   "execution_count": null,
   "metadata": {},
   "outputs": [],
   "source": [
    "q_synthetic = torch.load('torch_results/QGAN/QGAN_linear/20221228-173805/synthetic.pt')  \n",
    "#generated_images(q_synthetic)\n",
    "show_images(q_synthetic[:20], 8), len(q_synthetic)"
   ]
  },
  {
   "cell_type": "code",
   "execution_count": null,
   "metadata": {},
   "outputs": [],
   "source": [
    "# Plotting histogram probability distributions \n",
    "\n",
    "linear_gan_synthetic = np.concatenate(GAN_imgs).reshape(len(GAN_imgs), 8, 8)\n",
    "reshaped_linear_gan_synthetic = linear_gan_synthetic.reshape(len(GAN_imgs)*64)\n",
    "linear_qgan_synthetic = np.concatenate(QGAN_imgs).reshape(len(QGAN_imgs), 8, 8)\n",
    "reshaped_linear_qgan_synthetic = linear_qgan_synthetic.reshape(len(QGAN_imgs)*64)\n",
    "real_data = np.concatenate(real_data).reshape(len(real_data), 8, 8)\n",
    "reshaped_real_data = real_data.reshape(len(real_data)*64)\n",
    "\n",
    "empty_dataframe = pd.DataFrame(columns=['Real data','GAN', 'QGAN'])\n",
    "df1 = pd.DataFrame(reshaped_real_data)\n",
    "df2 = pd.DataFrame(reshaped_linear_gan_synthetic)\n",
    "df3 = pd.DataFrame(reshaped_linear_qgan_synthetic)\n",
    "df = pd.concat([df1, df2, df3], 1)\n",
    "df.columns = ['Real data','GAN', 'QGAN']\n",
    "\n",
    "sns.displot(data = df, kind = 'kde')"
   ]
  },
  {
   "cell_type": "code",
   "execution_count": null,
   "metadata": {},
   "outputs": [],
   "source": []
  },
  {
   "cell_type": "code",
   "execution_count": null,
   "metadata": {},
   "outputs": [],
   "source": []
  }
 ],
 "metadata": {
  "kernelspec": {
   "display_name": "base",
   "language": "python",
   "name": "python3"
  },
  "language_info": {
   "codemirror_mode": {
    "name": "ipython",
    "version": 3
   },
   "file_extension": ".py",
   "mimetype": "text/x-python",
   "name": "python",
   "nbconvert_exporter": "python",
   "pygments_lexer": "ipython3",
   "version": "3.9.12 (main, Apr  5 2022, 06:56:58) \n[GCC 7.5.0]"
  },
  "orig_nbformat": 4,
  "vscode": {
   "interpreter": {
    "hash": "41b44beeb6ae1f78ee853589a4fc9a204ef8b2c5ec7d95e779faecfadf9e001f"
   }
  }
 },
 "nbformat": 4,
 "nbformat_minor": 2
}
