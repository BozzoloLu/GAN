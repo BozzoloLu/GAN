{
 "cells": [
  {
   "attachments": {},
   "cell_type": "markdown",
   "metadata": {},
   "source": [
    "## Data analysis"
   ]
  },
  {
   "cell_type": "code",
   "execution_count": 1,
   "metadata": {},
   "outputs": [
    {
     "name": "stderr",
     "output_type": "stream",
     "text": [
      "2023-01-30 17:07:49.436133: W tensorflow/stream_executor/platform/default/dso_loader.cc:64] Could not load dynamic library 'libcudart.so.11.0'; dlerror: libcudart.so.11.0: cannot open shared object file: No such file or directory\n",
      "2023-01-30 17:07:49.436179: I tensorflow/stream_executor/cuda/cudart_stub.cc:29] Ignore above cudart dlerror if you do not have a GPU set up on your machine.\n",
      "2023-01-30 17:07:51.280018: W tensorflow/stream_executor/platform/default/dso_loader.cc:64] Could not load dynamic library 'libcuda.so.1'; dlerror: libcuda.so.1: cannot open shared object file: No such file or directory\n",
      "2023-01-30 17:07:51.280055: W tensorflow/stream_executor/cuda/cuda_driver.cc:269] failed call to cuInit: UNKNOWN ERROR (303)\n",
      "2023-01-30 17:07:51.280067: I tensorflow/stream_executor/cuda/cuda_diagnostics.cc:156] kernel driver does not appear to be running on this host (vt-bozzololu): /proc/driver/nvidia/version does not exist\n",
      "2023-01-30 17:07:51.280238: I tensorflow/core/platform/cpu_feature_guard.cc:151] This TensorFlow binary is optimized with oneAPI Deep Neural Network Library (oneDNN) to use the following CPU instructions in performance-critical operations:  AVX2 AVX512F FMA\n",
      "To enable them in other operations, rebuild TensorFlow with the appropriate compiler flags.\n"
     ]
    }
   ],
   "source": [
    "#from utils import *\n",
    "from lin_GAN_penny_script import *\n",
    "import torch\n",
    "import numpy as np\n",
    "import pandas as pd\n",
    "from scipy.stats import f\n",
    "import matplotlib.pyplot as plt\n",
    "import matplotlib.gridspec as gridspec\n",
    "import seaborn as sns\n",
    "import os"
   ]
  },
  {
   "cell_type": "code",
   "execution_count": 2,
   "metadata": {},
   "outputs": [],
   "source": [
    "seed = 42\n",
    "torch.manual_seed(seed)\n",
    "np.random.seed(seed)\n",
    "random.seed(seed)"
   ]
  },
  {
   "cell_type": "code",
   "execution_count": 3,
   "metadata": {},
   "outputs": [],
   "source": [
    "# dataloader = torch.utils.data.DataLoader(rd, batch_size=1, shuffle=True, drop_last=True)\n",
    "\n",
    "# for elem in dataloader:\n",
    "#     plt.imshow(elem[0][0])"
   ]
  },
  {
   "cell_type": "code",
   "execution_count": 4,
   "metadata": {},
   "outputs": [],
   "source": [
    "#show_images(GAN_imgs[0], 20)"
   ]
  },
  {
   "cell_type": "code",
   "execution_count": 5,
   "metadata": {},
   "outputs": [],
   "source": [
    "#show_images(QGAN_imgs[100:150], 20)"
   ]
  },
  {
   "cell_type": "code",
   "execution_count": 6,
   "metadata": {},
   "outputs": [],
   "source": [
    "# Plotting histogram probability distributions \n",
    "\n",
    "# linear_gan_synthetic = np.concatenate(GAN_imgs).reshape(len(GAN_imgs), 8, 8)\n",
    "# reshaped_linear_gan_synthetic = linear_gan_synthetic.reshape(len(GAN_imgs)*64)\n",
    "# linear_qgan_synthetic = np.concatenate(QGAN_imgs).reshape(len(QGAN_imgs), 8, 8)\n",
    "# reshaped_linear_qgan_synthetic = linear_qgan_synthetic.reshape(len(QGAN_imgs)*64)\n",
    "# real_data = np.concatenate(real_img).reshape(len(real_img), 8, 8)\n",
    "# reshaped_real_data = real_data.reshape(len(real_data)*64)\n",
    "\n",
    "# empty_dataframe = pd.DataFrame(columns=['Real data','GAN', 'QGAN'])\n",
    "# df1 = pd.DataFrame(reshaped_real_data)\n",
    "# df2 = pd.DataFrame(reshaped_linear_gan_synthetic)\n",
    "# df3 = pd.DataFrame(reshaped_linear_qgan_synthetic)\n",
    "# df = pd.concat([df1, df2, df3], 1)\n",
    "# df.columns = ['Real data','GAN', 'QGAN']\n",
    "\n",
    "# sns.displot(data = df, kind = 'kde')"
   ]
  },
  {
   "cell_type": "code",
   "execution_count": 7,
   "metadata": {},
   "outputs": [],
   "source": [
    "def show_images(data, n_samples):\n",
    "\n",
    "    plt.figure(figsize=(8,2))\n",
    "\n",
    "    for i in range(n_samples):\n",
    "        image = data[i][0]#.reshape(8, 8)\n",
    "        plt.subplot(1,n_samples,i+1)\n",
    "        plt.axis('off')\n",
    "        plt.imshow(image.numpy(), cmap='gray')\n",
    "        \n",
    "    plt.show()\n",
    "\n",
    "\n",
    "def split_train_test(real_data, idx, num_classes):\n",
    "\n",
    "    train_data, test_data = [], []\n",
    "\n",
    "    for i, (img, label) in enumerate(real_data):\n",
    "\n",
    "        if i < idx:\n",
    "\n",
    "            # one hot enoding for training labels\n",
    "            lab = torch.nn.functional.one_hot(torch.tensor(label), num_classes=num_classes)\n",
    "            #print('img shape train data: ', img.shape)\n",
    "            train_data.append((img, lab))\n",
    "        \n",
    "        else:\n",
    "\n",
    "            test_data.append((img, label))\n",
    "\n",
    "    return train_data, test_data\n",
    "\n",
    "\n",
    "def build_dataset(model_type, noise_dim, path, len_real_data, labels, num_classes, max_epoch):\n",
    "\n",
    "    if model_type == 'Classical_linear':\n",
    "\n",
    "        GAN_imgs, dataset, idx = [], [], 0      \n",
    "\n",
    "         # r=root, d=directories, f = files\n",
    "        for r, d, f in os.walk(path):                      \n",
    "            for file in f:                 \n",
    "                if file.endswith(f\"lin_gen_epoch_{max_epoch}\"):               \n",
    "                \n",
    "                    model = torch.load(os.path.join(r, file))\n",
    "\n",
    "                    for k in range(len_real_data):      \n",
    "                \n",
    "                        image = model(torch.rand(1, noise_dim)).view(8,8).cpu().detach()\n",
    "                        #print('img shape: ', image.shape)\n",
    "                        GAN_imgs.append(image)\n",
    "                        label = torch.nn.functional.one_hot(torch.tensor(labels[idx]), num_classes=num_classes)\n",
    "                        dataset.append((image, label))\n",
    "                        \n",
    "                    idx += 1\n",
    "                   \n",
    "\n",
    "    elif model_type == 'Quantum_linear':\n",
    "\n",
    "        GAN_imgs, dataset, idx = [], [], 0  \n",
    "    \n",
    "        for r, d, f in os.walk(path):               \n",
    "            for file in f:                     \n",
    "                if file.endswith(f\"lin_q_gen_epoch_{max_epoch}\"):  \n",
    "\n",
    "                    model = torch.load(os.path.join(r, file))                   \n",
    "\n",
    "                    for k in range(len_real_data):   \n",
    "\n",
    "                        image = model(torch.rand(1, noise_dim)).view(8,8).cpu().detach()\n",
    "                      \n",
    "                        GAN_imgs.append(image.shape)\n",
    "                        label = torch.nn.functional.one_hot(torch.tensor(labels[idx]), num_classes=num_classes)\n",
    "                        dataset.append((image, label))\n",
    "                        \n",
    "                    idx += 1\n",
    "    \n",
    "    else:\n",
    "\n",
    "        print('Network typology not admitted.')\n",
    "\n",
    "    return GAN_imgs, dataset\n",
    "\n",
    "\n",
    "class Classificator(nn.Module):\n",
    "    def __init__(self, num_classes):\n",
    "        super().__init__()\n",
    "        self.conv1 = nn.Conv2d(1, 8, 3, padding = 'same')\n",
    "        #self.pool = nn.MaxPool2d(2, 2)\n",
    "        self.conv2 = nn.Conv2d(8, 16, 3)\n",
    "        self.fc1 = nn.Linear(576, 120)\n",
    "        self.fc2 = nn.Linear(120, 84)\n",
    "        self.fc3 = nn.Linear(84, num_classes)\n",
    "\n",
    "    def forward(self, x):\n",
    "        x = torch.relu(self.conv1(x))\n",
    "        x = torch.relu(self.conv2(x))\n",
    "        #print(x.shape)\n",
    "        x = torch.flatten(x,1) # flatten all dimensions except batch\n",
    "        #print(x.shape)\n",
    "        x = torch.relu(self.fc1(x))\n",
    "        x = torch.relu(self.fc2(x))\n",
    "        x = self.fc3(x)\n",
    "        return torch.sigmoid(x)\n",
    "\n",
    "\n",
    "def training_classification(classificator, train_dataloader, epochs, learning_rate, batch_size, path):\n",
    "\n",
    "    optimizer = torch.optim.SGD(classificator.parameters(),lr=learning_rate)\n",
    "    loss_fn = nn.CrossEntropyLoss()\n",
    "\n",
    "    episode_loss = []\n",
    "    tot_loss_mean = []\n",
    "\n",
    "    with tqdm(range(epochs)) as tepochs:\n",
    "\n",
    "        for epoch in tepochs:  \n",
    "\n",
    "            running_loss = 0.0\n",
    "            for i, data in enumerate(train_dataloader):\n",
    "\n",
    "                #(train, label) = data\n",
    "                #print(data[0].shape)\n",
    "                #print(data[1].shape)\n",
    "\n",
    "                # zero the parameter gradients\n",
    "                optimizer.zero_grad()\n",
    "\n",
    "                # forward + backward + optimize\n",
    "                outputs = classificator(data[0].view(batch_size,1,8,8))#(data[0].size(0), -1))\n",
    "                #print('Outputs training: ', outputs.shape)\n",
    "\n",
    "                label = data[1].float()\n",
    "\n",
    "                #print('Label: ', label.shape)\n",
    "\n",
    "                loss = loss_fn(outputs, label)\n",
    "                #print(loss)\n",
    "                loss.backward()\n",
    "                optimizer.step()\n",
    "\n",
    "                episode_loss.append(loss.item())\n",
    "\n",
    "                # print statistics\n",
    "                running_loss += loss.item()\n",
    "                \n",
    "                tepochs.set_postfix({'Classificator loss' : loss.item()})\n",
    "            \n",
    "            tot_loss_mean.append(np.mean(episode_loss))\n",
    "\n",
    "            torch.save(classificator.state_dict(), path + 'classificator.pt')\n",
    "\n",
    "    return tot_loss_mean            \n",
    "\n",
    "\n",
    "\n",
    "def evaluate_accuracy(classificator, test_dataloader, batch_size, path):\n",
    "\n",
    "    correct = 0\n",
    "    total = 0\n",
    "\n",
    "    with torch.no_grad():\n",
    "        for data in test_dataloader:\n",
    "            \n",
    "            labels = data[1]\n",
    "            #print('labels: ', labels)\n",
    "\n",
    "            #print('Data:', data[0].shape)\n",
    "\n",
    "            classificator.load_state_dict(torch.load(path + 'classificator.pt'))\n",
    "            \n",
    "            outputs = classificator(data[0].view(batch_size,1,8,8))#.view(data.size(0), -1)\n",
    "            #print('Output accuracy: ', outputs.shape)\n",
    "\n",
    "            _, predicted = torch.max(outputs.data, 1)\n",
    "            #print('pred: ', predicted)\n",
    "\n",
    "            total += labels.size(0)\n",
    "            \n",
    "            correct += (predicted == labels).sum().item()\n",
    "            #print('correct', correct)\n",
    "\n",
    "    #print('total', total)\n",
    "\n",
    "    #print(f'Accuracy on the {total} test images: {100 * correct / total} %')\n",
    "\n",
    "    return 100 * correct / total\n",
    "\n",
    "\n",
    "\n",
    "def training_run(model_type, classificator, dataloader, real_dataloader, learning_rate, epochs, batch_size, reset_parameters=True):\n",
    "\n",
    "    current_time = datetime.datetime.now().strftime(\"%Y%m%d-%H%M%S\")\n",
    "    if model_type == 'Classical_linear':\n",
    "        \n",
    "        save_path = 'torch_results/Classificator/GAN_data/' + current_time + '/'\n",
    "\n",
    "    elif model_type == 'Quantum_linear':\n",
    "\n",
    "        save_path = 'torch_results/Classificator/QGAN_data/' + current_time + '/'\n",
    "    \n",
    "    else:\n",
    "        print('Model typology not admitted.')\n",
    "    summary_writer = tf.summary.create_file_writer(save_path)\n",
    "\n",
    "    loss_synthetic = training_classification(classificator, dataloader, epochs, learning_rate, batch_size, save_path)\n",
    "    acc_synthetic = evaluate_accuracy(classificator, real_dataloader, batch_size, save_path)\n",
    "\n",
    "    if reset_parameters:\n",
    "        for layer in classificator.children():\n",
    "            if hasattr(layer, 'reset_parameters'):\n",
    "                layer.reset_parameters()\n",
    "    \n",
    "    return acc_synthetic, loss_synthetic\n",
    "\n",
    "\n",
    "def multiple_runs(runs, model_type, c_classificator, q_classificator, synthetic_dataloader, real_dataloader, learning_rate, epochs, batch_size, reset_parameters=True):\n",
    "\n",
    "    acc_tot = []\n",
    "    q_acc_tot = []\n",
    "    loss_tot = []\n",
    "    q_loss_tot = []\n",
    "\n",
    "    for run in range(runs):\n",
    "\n",
    "        print(f'---------------------------------------- RUN {run+1} ----------------------------------------')\n",
    "        \n",
    "        print('Classical GAN training: ')\n",
    "        classical_accuracy, classical_loss = training_run(model_type[0], c_classificator, synthetic_dataloader, real_dataloader, learning_rate, epochs, batch_size, reset_parameters=True)\n",
    "        #print(classical_accuracy)\n",
    "\n",
    "        print('Quantum GAN training: ')\n",
    "        quantum_accuracy, quantum_loss = training_run(model_type[1], q_classificator, synthetic_dataloader, real_dataloader, learning_rate, epochs, batch_size, reset_parameters=True)\n",
    "\n",
    "        acc_tot.append(classical_accuracy)\n",
    "        q_acc_tot.append(quantum_accuracy)\n",
    "        loss_tot.append(classical_loss)\n",
    "        q_loss_tot.append(quantum_loss)\n",
    "\n",
    "    c_acc_mean = np.mean(acc_tot)\n",
    "    c_acc_std = np.std(acc_tot)\n",
    "    q_acc_mean = np.mean(q_acc_tot)    \n",
    "    q_acc_std = np.std(q_acc_tot)\n",
    "\n",
    "    c_loss_mean = np.mean(loss_tot)\n",
    "    c_loss_std = np.std(loss_tot)\n",
    "    q_loss_mean = np.mean(q_loss_tot)    \n",
    "    q_loss_std = np.std(q_loss_tot)\n",
    "\n",
    "    delta_acc = [np.abs(acc_tot[i]-q_acc_tot[i]) for i in range(len(acc_tot))]\n",
    "\n",
    "    dict = {'GAN_data_accuracy': [acc_tot], 'QGAN_data_accuracy': [q_acc_tot]}  \n",
    "       \n",
    "    df = pd.DataFrame(dict)         \n",
    "    # saving the dataframe \n",
    "    df.to_csv(f'torch_results/Metrics/Classification_accuracies_{3}_labels.csv')\n",
    "\n",
    "    return acc_tot, q_acc_tot, delta_acc, c_loss_mean, q_loss_mean#, c_acc_mean, c_acc_std, q_acc_mean, q_acc_std, c_loss_std, , q_loss_std"
   ]
  },
  {
   "cell_type": "code",
   "execution_count": 8,
   "metadata": {},
   "outputs": [],
   "source": [
    "# img = GAN_imgs_0[0].view(GAN_imgs_0[0].size(0), -1)\n",
    "# img.shape"
   ]
  },
  {
   "cell_type": "code",
   "execution_count": 9,
   "metadata": {},
   "outputs": [],
   "source": [
    "# img = GAN_imgs[0].view(1,1,8,8)#(GAN_imgs_0[0].size(0), -1)\n",
    "\n",
    "# input = torch.rand(1,64)\n",
    "\n",
    "# classificator = Classificator(1)#QGAN_imgs[0].shape[1])\n",
    "# classificator(img), img.shape"
   ]
  },
  {
   "cell_type": "code",
   "execution_count": 10,
   "metadata": {},
   "outputs": [
    {
     "data": {
      "image/png": "[encoded data removed]",
      "text/plain": [
       "<Figure size 576x144 with 8 Axes>"
      ]
     },
     "metadata": {
      "needs_background": "light"
     },
     "output_type": "display_data"
    },
    {
     "data": {
      "text/plain": [
       "(1797, 537, 429, 108)"
      ]
     },
     "execution_count": 10,
     "metadata": {},
     "output_type": "execute_result"
    }
   ],
   "source": [
    "noise_dim = 5\n",
    "image_size = 8\n",
    "model_type = ['Classical_linear', 'Quantum_linear']\n",
    "labels = [0,1,2]\n",
    "num_classes = len(labels)\n",
    "runs = 10\n",
    "epochs = 50\n",
    "batch_size = 4\n",
    "learning_rate = 0.01\n",
    "#num_classes = 2\n",
    "\n",
    "# Showing real data\n",
    "digits, targets = datasets.load_digits(return_X_y =True)\n",
    "digits = digits.reshape(len(digits), 8, 8)\n",
    "\n",
    "# Selecting only specific labels\n",
    "real_data, real_img = resize_data(digits, targets, label = (0,1,2), image_size = image_size)\n",
    "\n",
    "# Splitting train-test data (one-hot encoding included)\n",
    "idx = int(len(real_data)*0.8)\n",
    "train_data, test_data = split_train_test(real_data, idx, num_classes=num_classes)\n",
    "show_images(real_data, 8)\n",
    "len(digits), len(real_data), len(train_data), len(test_data)"
   ]
  },
  {
   "cell_type": "code",
   "execution_count": 11,
   "metadata": {},
   "outputs": [],
   "source": [
    "#-------------------------------------------------------- Making inference --------------------------------------------------------\n",
    "len_real_data = len(real_data)\n",
    "\n",
    "# Bulding synthetic classical dataset (one-hot encoding included)\n",
    "path = \"torch_results/GAN/GAN_linear\"\n",
    "GAN_imgs, synthetic_classical_data = build_dataset(model_type[0], noise_dim, path, len_real_data, labels, num_classes, max_epoch=2)\n",
    "\n",
    "# Bulding synthetic quantum dataset (one-hot encoding included)\n",
    "q_path = \"torch_results/QGAN/QGAN_linear\"\n",
    "QGAN_imgs, synthetic_quantum_data = build_dataset(model_type[1], noise_dim, q_path, len_real_data, labels, num_classes, max_epoch=2)"
   ]
  },
  {
   "cell_type": "code",
   "execution_count": 12,
   "metadata": {},
   "outputs": [
    {
     "data": {
      "text/plain": [
       "(1611, 1611, tensor([1, 0, 0]))"
      ]
     },
     "execution_count": 12,
     "metadata": {},
     "output_type": "execute_result"
    }
   ],
   "source": [
    "len(synthetic_classical_data), len(synthetic_quantum_data)#, synthetic_classical_data[0][1]"
   ]
  },
  {
   "cell_type": "code",
   "execution_count": 13,
   "metadata": {},
   "outputs": [],
   "source": [
    "real_dataloader = DataLoader(real_data, batch_size=batch_size, shuffle=True, drop_last=True)\n",
    "synthetic_dataloader = DataLoader(synthetic_classical_data, batch_size=batch_size, shuffle=True, drop_last=True)\n",
    "q_synthetic_dataloader = DataLoader(synthetic_quantum_data, batch_size=batch_size, shuffle=True, drop_last=True)\n",
    "\n",
    "train_dataloader = DataLoader(train_data, batch_size = batch_size, shuffle=True, drop_last=True)\n",
    "test_dataloader = DataLoader(test_data, batch_size = batch_size, shuffle=True, drop_last=True)"
   ]
  },
  {
   "cell_type": "code",
   "execution_count": 14,
   "metadata": {},
   "outputs": [],
   "source": [
    "################################## Real data ##################################\n",
    "\n",
    "# r_classificator_path = 'torch_results/Classificator/Real_data/' + current_time + '/'\n",
    "# summary_writer = tf.summary.create_file_writer(r_classificator_path)\n",
    "# r_classificator = Classificator(num_classes)\n",
    "\n",
    "# learning_rate = 0.01\n",
    "# classical_loss_real = training_classification(r_classificator, train_dataloader, epochs, learning_rate, batch_size, r_classificator_path)\n",
    "# acc_real = evaluate_accuracy(r_classificator, test_dataloader, batch_size, r_classificator_path)\n",
    "# acc_real"
   ]
  },
  {
   "cell_type": "code",
   "execution_count": 15,
   "metadata": {},
   "outputs": [
    {
     "name": "stdout",
     "output_type": "stream",
     "text": [
      "---------------------------------------- RUN 1 ----------------------------------------\n",
      "Classical GAN training: \n"
     ]
    },
    {
     "name": "stderr",
     "output_type": "stream",
     "text": [
      "100%|██████████| 50/50 [01:20<00:00,  1.61s/it, Classificator loss=0.551]\n"
     ]
    },
    {
     "name": "stdout",
     "output_type": "stream",
     "text": [
      "Quantum GAN training: \n"
     ]
    },
    {
     "name": "stderr",
     "output_type": "stream",
     "text": [
      "100%|██████████| 50/50 [01:32<00:00,  1.84s/it, Classificator loss=0.551]\n"
     ]
    },
    {
     "name": "stdout",
     "output_type": "stream",
     "text": [
      "---------------------------------------- RUN 2 ----------------------------------------\n",
      "Classical GAN training: \n"
     ]
    },
    {
     "name": "stderr",
     "output_type": "stream",
     "text": [
      "100%|██████████| 50/50 [01:29<00:00,  1.79s/it, Classificator loss=0.551]\n"
     ]
    },
    {
     "name": "stdout",
     "output_type": "stream",
     "text": [
      "Quantum GAN training: \n"
     ]
    },
    {
     "name": "stderr",
     "output_type": "stream",
     "text": [
      "100%|██████████| 50/50 [01:36<00:00,  1.93s/it, Classificator loss=0.551]\n"
     ]
    },
    {
     "name": "stdout",
     "output_type": "stream",
     "text": [
      "---------------------------------------- RUN 3 ----------------------------------------\n",
      "Classical GAN training: \n"
     ]
    },
    {
     "name": "stderr",
     "output_type": "stream",
     "text": [
      "100%|██████████| 50/50 [01:30<00:00,  1.81s/it, Classificator loss=0.552]\n"
     ]
    },
    {
     "name": "stdout",
     "output_type": "stream",
     "text": [
      "Quantum GAN training: \n"
     ]
    },
    {
     "name": "stderr",
     "output_type": "stream",
     "text": [
      "100%|██████████| 50/50 [01:36<00:00,  1.93s/it, Classificator loss=0.551]\n"
     ]
    },
    {
     "name": "stdout",
     "output_type": "stream",
     "text": [
      "---------------------------------------- RUN 4 ----------------------------------------\n",
      "Classical GAN training: \n"
     ]
    },
    {
     "name": "stderr",
     "output_type": "stream",
     "text": [
      "100%|██████████| 50/50 [01:32<00:00,  1.86s/it, Classificator loss=0.551]\n"
     ]
    },
    {
     "name": "stdout",
     "output_type": "stream",
     "text": [
      "Quantum GAN training: \n"
     ]
    },
    {
     "name": "stderr",
     "output_type": "stream",
     "text": [
      "100%|██████████| 50/50 [01:31<00:00,  1.83s/it, Classificator loss=0.551]\n"
     ]
    },
    {
     "name": "stdout",
     "output_type": "stream",
     "text": [
      "---------------------------------------- RUN 5 ----------------------------------------\n",
      "Classical GAN training: \n"
     ]
    },
    {
     "name": "stderr",
     "output_type": "stream",
     "text": [
      "100%|██████████| 50/50 [01:37<00:00,  1.94s/it, Classificator loss=0.551]\n"
     ]
    },
    {
     "name": "stdout",
     "output_type": "stream",
     "text": [
      "Quantum GAN training: \n"
     ]
    },
    {
     "name": "stderr",
     "output_type": "stream",
     "text": [
      "100%|██████████| 50/50 [01:36<00:00,  1.93s/it, Classificator loss=0.784]\n"
     ]
    },
    {
     "name": "stdout",
     "output_type": "stream",
     "text": [
      "---------------------------------------- RUN 6 ----------------------------------------\n",
      "Classical GAN training: \n"
     ]
    },
    {
     "name": "stderr",
     "output_type": "stream",
     "text": [
      "100%|██████████| 50/50 [01:35<00:00,  1.90s/it, Classificator loss=0.551]\n"
     ]
    },
    {
     "name": "stdout",
     "output_type": "stream",
     "text": [
      "Quantum GAN training: \n"
     ]
    },
    {
     "name": "stderr",
     "output_type": "stream",
     "text": [
      "100%|██████████| 50/50 [01:47<00:00,  2.15s/it, Classificator loss=0.551]\n"
     ]
    },
    {
     "name": "stdout",
     "output_type": "stream",
     "text": [
      "---------------------------------------- RUN 7 ----------------------------------------\n",
      "Classical GAN training: \n"
     ]
    },
    {
     "name": "stderr",
     "output_type": "stream",
     "text": [
      "100%|██████████| 50/50 [01:46<00:00,  2.13s/it, Classificator loss=0.551]\n"
     ]
    },
    {
     "name": "stdout",
     "output_type": "stream",
     "text": [
      "Quantum GAN training: \n"
     ]
    },
    {
     "name": "stderr",
     "output_type": "stream",
     "text": [
      "100%|██████████| 50/50 [02:02<00:00,  2.45s/it, Classificator loss=0.551]\n"
     ]
    },
    {
     "name": "stdout",
     "output_type": "stream",
     "text": [
      "---------------------------------------- RUN 8 ----------------------------------------\n",
      "Classical GAN training: \n"
     ]
    },
    {
     "name": "stderr",
     "output_type": "stream",
     "text": [
      "100%|██████████| 50/50 [01:50<00:00,  2.21s/it, Classificator loss=0.551]\n"
     ]
    },
    {
     "name": "stdout",
     "output_type": "stream",
     "text": [
      "Quantum GAN training: \n"
     ]
    },
    {
     "name": "stderr",
     "output_type": "stream",
     "text": [
      "100%|██████████| 50/50 [01:50<00:00,  2.22s/it, Classificator loss=0.552]\n"
     ]
    },
    {
     "name": "stdout",
     "output_type": "stream",
     "text": [
      "---------------------------------------- RUN 9 ----------------------------------------\n",
      "Classical GAN training: \n"
     ]
    },
    {
     "name": "stderr",
     "output_type": "stream",
     "text": [
      "100%|██████████| 50/50 [01:54<00:00,  2.29s/it, Classificator loss=0.551]\n"
     ]
    },
    {
     "name": "stdout",
     "output_type": "stream",
     "text": [
      "Quantum GAN training: \n"
     ]
    },
    {
     "name": "stderr",
     "output_type": "stream",
     "text": [
      "100%|██████████| 50/50 [01:50<00:00,  2.20s/it, Classificator loss=0.552]\n"
     ]
    },
    {
     "name": "stdout",
     "output_type": "stream",
     "text": [
      "---------------------------------------- RUN 10 ----------------------------------------\n",
      "Classical GAN training: \n"
     ]
    },
    {
     "name": "stderr",
     "output_type": "stream",
     "text": [
      "100%|██████████| 50/50 [01:46<00:00,  2.14s/it, Classificator loss=0.551]\n"
     ]
    },
    {
     "name": "stdout",
     "output_type": "stream",
     "text": [
      "Quantum GAN training: \n"
     ]
    },
    {
     "name": "stderr",
     "output_type": "stream",
     "text": [
      "100%|██████████| 50/50 [01:41<00:00,  2.04s/it, Classificator loss=0.551]\n"
     ]
    }
   ],
   "source": [
    "c_classificator = Classificator(num_classes)\n",
    "q_classificator = Classificator(num_classes)\n",
    "\n",
    "acc_tot, q_acc_tot, delta_acc, c_loss, q_loss = multiple_runs(runs, model_type, c_classificator, q_classificator, synthetic_dataloader, real_dataloader, learning_rate, \n",
    "                                                              epochs, batch_size, reset_parameters=True) "
   ]
  },
  {
   "cell_type": "code",
   "execution_count": 16,
   "metadata": {},
   "outputs": [],
   "source": [
    "acc_final = []\n",
    "loss_final = []\n",
    "q_acc_final = []\n",
    "q_loss_final = []\n",
    "\n",
    "acc_final.append(acc_tot)\n",
    "q_acc_final.append(q_acc_tot)\n",
    "#acc_final, q_acc_final#, delta_acc"
   ]
  },
  {
   "cell_type": "code",
   "execution_count": 17,
   "metadata": {},
   "outputs": [],
   "source": [
    "def accuracy_boxplot(acc_tot, q_acc_tot, labels, num_tests):\n",
    "\n",
    "    fig, ax = plt.subplots(figsize=(12, 6), facecolor='oldlace')\n",
    "\n",
    "    for i in range(num_tests):\n",
    "    \n",
    "        boxes = ax.boxplot(acc_tot[i], patch_artist=True, showmeans = False, showfliers=False, widths = 0.42, labels = labels)\n",
    "        for box in boxes[\"boxes\"]:\n",
    "            box.set(facecolor = \"green\")\n",
    "\n",
    "        q_boxes = ax.boxplot(q_acc_tot[i], patch_artist=True, showmeans = False, showfliers=False, widths = 0.32, labels = labels)\n",
    "        for box in q_boxes[\"boxes\"]:\n",
    "            box.set(facecolor = \"palegreen\")\n",
    "\n",
    "        fig.text(0.92, 0.73, f'GAN linear\\nGen: 204 params\\nDisc: 5127 params', backgroundcolor='green', color='black', weight='roman')\n",
    "        fig.text(0.92, 0.63, f'QGAN linear\\nGen: 120 params\\nDisc: 5127 params', backgroundcolor='palegreen', color='black', weight='roman')\n",
    "        #fig.text(0.92, 0.52, f'QGAN linear\\nGen: 120 params\\nDisc: 5127 params', backgroundcolor='darkkhaki', color='black', weight='roman')\n",
    "        #fig.text(0.92, 0.52, f'QGAN linear\\nGen: 120 params\\nDisc: 5127 params', backgroundcolor='palegoldenrod', color='black', weight='roman')\n",
    "\n",
    "        ax.set_xlabel('Number of digits labels', fontsize=16)\n",
    "        ax.set_ylabel('Accuracy score', fontsize=16)\n",
    "        plt.grid()\n",
    "        plt.title(f\"Accuracy classification score - Handwritten 8x8 dataset\", fontsize=18)\n",
    "        plt.savefig(f'torch_results//Metrics/Classification_accuracies_{3}_labels.png')\n",
    "        plt.show()"
   ]
  },
  {
   "cell_type": "code",
   "execution_count": 18,
   "metadata": {},
   "outputs": [
    {
     "data": {
      "image/png": "[encoded data removed]",
      "text/plain": [
       "<Figure size 864x432 with 1 Axes>"
      ]
     },
     "metadata": {},
     "output_type": "display_data"
    }
   ],
   "source": [
    "labels = [3]\n",
    "boxplot = accuracy_boxplot(acc_final, q_acc_final, labels, 1)\n",
    "boxplot"
   ]
  },
  {
   "cell_type": "code",
   "execution_count": null,
   "metadata": {},
   "outputs": [],
   "source": [
    "# dict = {'Real_data_acc': [acc_real], 'GAN_data_acc': [acc_synthetic], 'QGAN_data_acc': [acc_q_synthetic]}  \n",
    "       \n",
    "# df = pd.DataFrame(dict) \n",
    "    \n",
    "# # saving the dataframe \n",
    "# df.to_csv(f'torch_results/Metrics/Classification_accuracies_{len(labels)}_labels.csv')\n",
    "\n",
    "\n",
    "# data = {'GAN 204 params':acc_synthetic, 'QGAN 120 params':acc_q_synthetic}\n",
    "# courses = list(data.keys())\n",
    "# values = list(data.values())\n",
    "\n",
    "# label1 = [np.round(acc_synthetic, 3)]\n",
    "# label2 = [np.round(acc_q_synthetic, 3)]\n",
    "  \n",
    "# fig = plt.figure(figsize = (13, 9))\n",
    " \n",
    "# # creating the bar plot\n",
    "# plt.bar(courses, values, color = ['blue', 'red'], data = [acc_synthetic, acc_q_synthetic])\n",
    "# plt.text(x = -0.06 , y = data['GAN 204 params'] + 0.5, s = label1[0], size = 15)\n",
    "# plt.text(x = 0.94 , y = data['QGAN 120 params'] + 0.6, s = label2[0], size = 15) \n",
    "# plt.ylabel(\"Accuracy\", fontsize=18)\n",
    "# plt.title(f\"Accuracy classification score - Handwritten 8x8 dataset - {len(labels)} labels\", fontsize=18)\n",
    "# plt.savefig(f'torch_results//Metrics/Classification_accuracies_{len(labels)}_labels.png')\n",
    "# plt.show()\n",
    "\n",
    "\n",
    "# plt.figure(figsize=(10, 7))\n",
    "# #plt.plot(np.arange(epochs), classical_loss_real[:epochs], label = 'Train: real data\\nTest:real data')\n",
    "# plt.plot(np.arange(epochs), classical_loss_synthetic[:epochs], label = 'Train: synthetic classical data\\nTest: real data')\n",
    "# plt.plot(np.arange(epochs), quantum_loss_synthetic[:epochs], label = 'Train: synthetic quantum data\\nTest: real data')\n",
    "# plt.title(f'Classification training loss - {len(labels)} labels')\n",
    "# plt.legend()\n",
    "# plt.savefig(f'torch_results//Metrics/Classification_loss_{len(labels)}_labels.png')\n",
    "# plt.show()\n"
   ]
  },
  {
   "cell_type": "code",
   "execution_count": null,
   "metadata": {},
   "outputs": [],
   "source": []
  },
  {
   "cell_type": "code",
   "execution_count": null,
   "metadata": {},
   "outputs": [],
   "source": []
  }
 ],
 "metadata": {
  "kernelspec": {
   "display_name": "base",
   "language": "python",
   "name": "python3"
  },
  "language_info": {
   "codemirror_mode": {
    "name": "ipython",
    "version": 3
   },
   "file_extension": ".py",
   "mimetype": "text/x-python",
   "name": "python",
   "nbconvert_exporter": "python",
   "pygments_lexer": "ipython3",
   "version": "3.9.12"
  },
  "orig_nbformat": 4,
  "vscode": {
   "interpreter": {
    "hash": "41b44beeb6ae1f78ee853589a4fc9a204ef8b2c5ec7d95e779faecfadf9e001f"
   }
  }
 },
 "nbformat": 4,
 "nbformat_minor": 2
}
