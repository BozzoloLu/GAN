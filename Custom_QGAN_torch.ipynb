{
 "cells": [
  {
   "cell_type": "code",
   "execution_count": 1,
   "metadata": {},
   "outputs": [
    {
     "name": "stderr",
     "output_type": "stream",
     "text": [
      "2022-12-13 09:14:54.426188: W tensorflow/stream_executor/platform/default/dso_loader.cc:64] Could not load dynamic library 'libcudart.so.11.0'; dlerror: libcudart.so.11.0: cannot open shared object file: No such file or directory\n",
      "2022-12-13 09:14:54.426245: I tensorflow/stream_executor/cuda/cudart_stub.cc:29] Ignore above cudart dlerror if you do not have a GPU set up on your machine.\n"
     ]
    }
   ],
   "source": [
    "# Library imports\n",
    "import math\n",
    "import random\n",
    "import numpy as np\n",
    "from numpy import cov\n",
    "from numpy import trace\n",
    "from numpy import iscomplexobj\n",
    "from scipy.linalg import sqrtm\n",
    "import pandas as pd\n",
    "import matplotlib.pyplot as plt\n",
    "import matplotlib.gridspec as gridspec\n",
    "import pennylane as qml\n",
    "from sklearn import datasets\n",
    "import tensorflow as tf\n",
    "\n",
    "# Pytorch imports\n",
    "import torch\n",
    "import torch.nn as nn\n",
    "import torch.optim as optim\n",
    "import torchvision\n",
    "import torchvision.transforms as transforms\n",
    "from torch.utils.data import Dataset, DataLoader\n",
    "from torchsummary import summary\n",
    "\n",
    "import time\n",
    "import datetime\n",
    "from alive_progress import alive_bar\n",
    "\n",
    "# Set the random seed for reproducibility\n",
    "seed = 42\n",
    "torch.manual_seed(seed)\n",
    "np.random.seed(seed)\n",
    "random.seed(seed)"
   ]
  },
  {
   "cell_type": "code",
   "execution_count": 2,
   "metadata": {},
   "outputs": [
    {
     "name": "stderr",
     "output_type": "stream",
     "text": [
      "2022-12-13 09:14:59.738514: W tensorflow/stream_executor/platform/default/dso_loader.cc:64] Could not load dynamic library 'libcuda.so.1'; dlerror: libcuda.so.1: cannot open shared object file: No such file or directory\n",
      "2022-12-13 09:14:59.738585: W tensorflow/stream_executor/cuda/cuda_driver.cc:269] failed call to cuInit: UNKNOWN ERROR (303)\n",
      "2022-12-13 09:14:59.738614: I tensorflow/stream_executor/cuda/cuda_diagnostics.cc:156] kernel driver does not appear to be running on this host (vt-bozzololu): /proc/driver/nvidia/version does not exist\n",
      "2022-12-13 09:14:59.739135: I tensorflow/core/platform/cpu_feature_guard.cc:151] This TensorFlow binary is optimized with oneAPI Deep Neural Network Library (oneDNN) to use the following CPU instructions in performance-critical operations:  AVX2 AVX512F FMA\n",
      "To enable them in other operations, rebuild TensorFlow with the appropriate compiler flags.\n"
     ]
    }
   ],
   "source": [
    "current_time = datetime.datetime.now().strftime(\"%Y%m%d-%H%M%S\")\n",
    "save_path = 'torch_results/QGAN/QGAN_conv/' + current_time + '/'\n",
    "summary_writer = tf.summary.create_file_writer(save_path)"
   ]
  },
  {
   "cell_type": "markdown",
   "metadata": {},
   "source": [
    "### Classical data"
   ]
  },
  {
   "cell_type": "code",
   "execution_count": 3,
   "metadata": {},
   "outputs": [
    {
     "data": {
      "text/plain": [
       "(1797, 8, 8)"
      ]
     },
     "execution_count": 3,
     "metadata": {},
     "output_type": "execute_result"
    }
   ],
   "source": [
    "# Load the digits dataset\n",
    "digits = datasets.load_digits()\n",
    "\n",
    "x_train = digits.data\n",
    "y_train = digits.target\n",
    "\n",
    "x_train = x_train.reshape(len(x_train), 8, 8)\n",
    "x_train.shape"
   ]
  },
  {
   "cell_type": "code",
   "execution_count": 4,
   "metadata": {},
   "outputs": [],
   "source": [
    "def resize_data(x, y, label, image_size):\n",
    "\n",
    "    arr = []\n",
    "    arr_input = []\n",
    "\n",
    "    for t, l in zip(x, y):\n",
    "        if l in label:\n",
    "            t = torch.tensor(t, dtype = torch.float32).reshape(image_size, image_size)\n",
    "            t = t/16\n",
    "            arr.append((t, l))\n",
    "            arr_input.append(t)\n",
    "    return arr, arr_input\n",
    "\n",
    "rd, inp = resize_data(x_train, y_train, label = (0, 1), image_size = 8)\n",
    "#rd"
   ]
  },
  {
   "cell_type": "code",
   "execution_count": 5,
   "metadata": {},
   "outputs": [],
   "source": [
    "image_size = 8  # Height / width of the square images\n",
    "batch_size = 1\n",
    "\n",
    "dataloader = torch.utils.data.DataLoader(rd, batch_size=batch_size, shuffle=True, drop_last=True)\n",
    "\n",
    "#for element in dataloader1:\n",
    "#   print(element)"
   ]
  },
  {
   "cell_type": "code",
   "execution_count": 6,
   "metadata": {},
   "outputs": [
    {
     "data": {
      "image/png": "[encoded data removed]",
      "text/plain": [
       "<Figure size 576x144 with 8 Axes>"
      ]
     },
     "metadata": {
      "needs_background": "light"
     },
     "output_type": "display_data"
    }
   ],
   "source": [
    "plt.figure(figsize=(8,2))\n",
    "\n",
    "for i in range(8):\n",
    "    image = rd[i][0].reshape(image_size,image_size)\n",
    "    plt.subplot(1,8,i+1)\n",
    "    plt.axis('off')\n",
    "    plt.imshow(image.numpy(), cmap='gray')\n",
    "    \n",
    "plt.show() "
   ]
  },
  {
   "cell_type": "code",
   "execution_count": 7,
   "metadata": {},
   "outputs": [],
   "source": [
    "torch.save(inp, save_path + 'real.pt')"
   ]
  },
  {
   "cell_type": "markdown",
   "metadata": {},
   "source": [
    "### Quantum Generator"
   ]
  },
  {
   "cell_type": "code",
   "execution_count": 8,
   "metadata": {},
   "outputs": [],
   "source": [
    "# Quantum variables\n",
    "n_qubits = 5  # Total number of qubits / N\n",
    "ancillary_qubits = 1  # Number of ancillary qubits / N_A\n",
    "gen_n_layers = 6  # Depth of the parameterised quantum circuit / D\n",
    "n_generators = 4  # Number of subgenerators for the patch method / N_G\n",
    "image_size = 8"
   ]
  },
  {
   "cell_type": "code",
   "execution_count": 9,
   "metadata": {},
   "outputs": [],
   "source": [
    "# Quantum simulator\n",
    "dev = qml.device(\"default.qubit\", wires=n_qubits)\n",
    "# Enable CUDA device if available\n",
    "device = torch.device(\"cpu\")\n",
    "#device = torch.device(\"cuda:0\" if torch.cuda.is_available() else \"cpu\")"
   ]
  },
  {
   "cell_type": "code",
   "execution_count": 10,
   "metadata": {},
   "outputs": [],
   "source": [
    "@qml.qnode(dev, interface=\"torch\", diff_method=\"parameter-shift\")\n",
    "def quantum_generator_circuit(noise, gen_weights):\n",
    "\n",
    "    gen_weights = gen_weights.reshape(gen_n_layers, n_qubits)\n",
    "\n",
    "    # Encoding layer\n",
    "    for i in range(n_qubits):\n",
    "        qml.RY(noise[i], wires=i)\n",
    "\n",
    "    # PQC layers\n",
    "    for i in range(gen_n_layers):\n",
    "\n",
    "        # Rotation gates\n",
    "        for y in range(n_qubits):\n",
    "            qml.RY(gen_weights[i][y], wires=y)\n",
    "\n",
    "        # Entangling gates\n",
    "        for y in range(n_qubits - 1):\n",
    "            qml.CZ(wires=[y, y + 1])\n",
    "\n",
    "    # Returning probability of each computational basis state\n",
    "    return qml.probs(wires=list(range(n_qubits)))"
   ]
  },
  {
   "cell_type": "code",
   "execution_count": 11,
   "metadata": {},
   "outputs": [
    {
     "data": {
      "text/plain": [
       "tensor([7.0851e-03, 1.9384e-03, 1.3751e-02, 1.4751e-05, 1.5786e-01, 8.2846e-03,\n",
       "        2.1281e-03, 4.6663e-02, 4.1346e-01, 6.5286e-03, 2.5420e-02, 3.0204e-02,\n",
       "        1.0538e-02, 5.3684e-03, 2.0761e-02, 7.4674e-03, 1.0223e-02, 2.7386e-03,\n",
       "        5.8478e-03, 3.5994e-03, 1.1548e-01, 3.9623e-04, 2.5300e-02, 6.6330e-03,\n",
       "        4.0793e-02, 5.3250e-03, 5.6758e-04, 1.4025e-02, 5.5827e-03, 3.2642e-04,\n",
       "        5.3779e-03, 3.0576e-04], dtype=torch.float64)"
      ]
     },
     "execution_count": 11,
     "metadata": {},
     "output_type": "execute_result"
    }
   ],
   "source": [
    "# Testing generator circuit\n",
    "\n",
    "noise = torch.rand(n_qubits, device=device) * math.pi / 2\n",
    "gen_weights = torch.rand(gen_n_layers, n_qubits, device=device) * math.pi / 2\n",
    "\n",
    "qgc = quantum_generator_circuit(noise, gen_weights)\n",
    "qgc "
   ]
  },
  {
   "cell_type": "code",
   "execution_count": 12,
   "metadata": {},
   "outputs": [
    {
     "data": {
      "image/png": "[encoded data removed]",
      "text/plain": [
       "<Figure size 1728x432 with 1 Axes>"
      ]
     },
     "metadata": {},
     "output_type": "display_data"
    }
   ],
   "source": [
    "# Showing generator circuit\n",
    "fig, ax = qml.draw_mpl(quantum_generator_circuit)(noise, gen_weights)\n",
    "plt.show()"
   ]
  },
  {
   "cell_type": "code",
   "execution_count": 13,
   "metadata": {},
   "outputs": [],
   "source": [
    "def partial_measure(noise, weights):\n",
    "    # Non-linear Transform\n",
    "    probs = quantum_generator_circuit(noise, weights)\n",
    "    probsgiven0 = probs[: (2 ** (n_qubits - ancillary_qubits))]\n",
    "    probsgiven0 /= torch.sum(probs)\n",
    "\n",
    "    # Post-Processing\n",
    "    probsgiven = probsgiven0 / torch.max(probsgiven0)\n",
    "    return probsgiven"
   ]
  },
  {
   "cell_type": "code",
   "execution_count": 14,
   "metadata": {},
   "outputs": [],
   "source": [
    "class QuantumGenerator(nn.Module):\n",
    "\n",
    "    def __init__(self, n_qubits, ancillary_qubits, gen_n_layers, n_generators, q_delta=1):\n",
    "\n",
    "        super().__init__()\n",
    "\n",
    "        self.n_qubits = n_qubits\n",
    "        self.ancillary_qubits = ancillary_qubits\n",
    "        self.gen_n_layers = gen_n_layers\n",
    "        self.n_generators = n_generators        \n",
    "\n",
    "        self.q_params = nn.ParameterList([nn.Parameter(q_delta * torch.rand(self.gen_n_layers * self.n_qubits), \n",
    "                                          requires_grad=True)for _ in range(self.n_generators)])\n",
    "\n",
    "    def forward(self, x):\n",
    "        # Size of each sub-generator output\n",
    "        patch_size = 2 ** (n_qubits - ancillary_qubits)\n",
    "\n",
    "        # Create a Tensor to 'catch' a batch of images from the for loop. x.size(0) is the batch size.\n",
    "        images = torch.Tensor(x.size(0), 0).to(device)\n",
    "\n",
    "        # Iterate over all sub-generators\n",
    "        for params in self.q_params:\n",
    "\n",
    "            # Create a Tensor to 'catch' a batch of the patches from a single sub-generator\n",
    "            patches = torch.Tensor(0, patch_size).to(device)\n",
    "            for elem in x:\n",
    "\n",
    "                # Non-linear Transform\n",
    "                probs = quantum_generator_circuit(elem, params)\n",
    "                probsgiven0 = probs[: (2 ** (n_qubits - ancillary_qubits))]\n",
    "                probsgiven0 /= torch.sum(probs)\n",
    "\n",
    "                # Post-Processing\n",
    "                q_out = probsgiven0 / torch.max(probsgiven0)\n",
    "                q_out = q_out.float().unsqueeze(0)\n",
    "                patches = torch.cat((patches, q_out))\n",
    "\n",
    "            # Each batch of patches is concatenated with each other to create a batch of images\n",
    "            images = torch.cat((images, patches), 1)\n",
    "\n",
    "        return images"
   ]
  },
  {
   "cell_type": "code",
   "execution_count": 15,
   "metadata": {},
   "outputs": [
    {
     "data": {
      "text/plain": [
       "torch.Size([1, 1, 8, 8])"
      ]
     },
     "execution_count": 15,
     "metadata": {},
     "output_type": "execute_result"
    }
   ],
   "source": [
    "# Testing quantum generator\n",
    "fixed_noise = torch.rand(1, n_qubits, device=device) #* np.pi / 2\n",
    "\n",
    "generator = QuantumGenerator(n_qubits = 5, ancillary_qubits = ancillary_qubits, \n",
    "                                  gen_n_layers = gen_n_layers, n_generators = 4).to(device)\n",
    "test_images = generator(fixed_noise).view(1,1,8,8).cpu().detach()\n",
    "test_images.shape"
   ]
  },
  {
   "cell_type": "code",
   "execution_count": 16,
   "metadata": {},
   "outputs": [
    {
     "data": {
      "image/png": "[encoded data removed]",
      "text/plain": [
       "<Figure size 432x288 with 1 Axes>"
      ]
     },
     "metadata": {
      "needs_background": "light"
     },
     "output_type": "display_data"
    }
   ],
   "source": [
    "images = torch.squeeze(test_images, dim=1)\n",
    "for j, im in enumerate(images):\n",
    "    plt.imshow(im.numpy(), cmap=\"gray\")\n",
    "    \n",
    "plt.show()"
   ]
  },
  {
   "cell_type": "code",
   "execution_count": 17,
   "metadata": {},
   "outputs": [
    {
     "data": {
      "text/plain": [
       "<bound method Module.parameters of QuantumGenerator(\n",
       "  (q_params): ParameterList(\n",
       "      (0): Parameter containing: [torch.FloatTensor of size 30]\n",
       "      (1): Parameter containing: [torch.FloatTensor of size 30]\n",
       "      (2): Parameter containing: [torch.FloatTensor of size 30]\n",
       "      (3): Parameter containing: [torch.FloatTensor of size 30]\n",
       "  )\n",
       ")>"
      ]
     },
     "execution_count": 17,
     "metadata": {},
     "output_type": "execute_result"
    }
   ],
   "source": [
    "generator.parameters"
   ]
  },
  {
   "cell_type": "code",
   "execution_count": null,
   "metadata": {},
   "outputs": [],
   "source": []
  },
  {
   "cell_type": "markdown",
   "metadata": {},
   "source": [
    "### Discriminator Network"
   ]
  },
  {
   "cell_type": "code",
   "execution_count": 18,
   "metadata": {},
   "outputs": [],
   "source": [
    "class Discriminator(nn.Module):\n",
    "\n",
    "    def __init__(self, disc_input_shape):\n",
    "        super(Discriminator, self).__init__()\n",
    "        self.disc_input_shape = disc_input_shape\n",
    "\n",
    "        self.convt_1 = nn.ConvTranspose2d(self.disc_input_shape, 64, 2, 2, 0)\n",
    "        self.relu_1 = nn.ReLU(64)\n",
    "        self.convt_2 = nn.ConvTranspose2d(64, 128, 2, 2, 0)\n",
    "        self.relu_2 = nn.ReLU(128)\n",
    "        self.flat = nn.Flatten()\n",
    "        self.lin = nn.Linear(2048, 1)\n",
    "        self.sigmoid = nn.Sigmoid()\n",
    "\n",
    "    def forward(self, x):\n",
    "\n",
    "        x = self.convt_1(x)\n",
    "        #print(x.shape)\n",
    "        x = self.relu_1(x)\n",
    "        x = self.convt_2(x)\n",
    "        x = self.relu_2(x)\n",
    "        #print(x.shape)\n",
    "        x = self.flat(x)\n",
    "        #print(x.shape)\n",
    "        x = self.lin(x)\n",
    "        x = self.sigmoid(x)\n",
    "        #print(x.shape)\n",
    "        \n",
    "        return x"
   ]
  },
  {
   "cell_type": "code",
   "execution_count": 19,
   "metadata": {},
   "outputs": [],
   "source": [
    "# class Discriminator1(nn.Module):\n",
    "\n",
    "#     def __init__(self, image_size):\n",
    "#         super().__init__()\n",
    "\n",
    "#         self.image_size = image_size\n",
    "\n",
    "#         self.model = nn.Sequential(\n",
    "#                                     # Inputs to first hidden layer (num_input_features -> 64)\n",
    "#                                     nn.Linear(self.image_size * self.image_size, 64),\n",
    "#                                     nn.ReLU(),\n",
    "#                                     # First hidden layer (64 -> 16)\n",
    "#                                     nn.Linear(64, 16),\n",
    "#                                     nn.ReLU(),\n",
    "#                                     # Second hidden layer (16 -> output)\n",
    "#                                     nn.Linear(16, 1),\n",
    "#                                     nn.Sigmoid(),\n",
    "#                                     )\n",
    "\n",
    "#     def forward(self, x):\n",
    "#         return self.model(x)"
   ]
  },
  {
   "cell_type": "code",
   "execution_count": 20,
   "metadata": {},
   "outputs": [],
   "source": [
    "# Testing discriminator network\n",
    "\n",
    "real_data = rd[0][0]\n",
    "fake_data = test_images\n",
    "\n",
    "disc = Discriminator(64)"
   ]
  },
  {
   "cell_type": "code",
   "execution_count": 21,
   "metadata": {},
   "outputs": [
    {
     "name": "stdout",
     "output_type": "stream",
     "text": [
      "----------------------------------------------------------------\n",
      "        Layer (type)               Output Shape         Param #\n",
      "================================================================\n",
      "   ConvTranspose2d-1             [-1, 64, 2, 2]          16,448\n",
      "              ReLU-2             [-1, 64, 2, 2]               0\n",
      "   ConvTranspose2d-3            [-1, 128, 4, 4]          32,896\n",
      "              ReLU-4            [-1, 128, 4, 4]               0\n",
      "           Flatten-5                 [-1, 2048]               0\n",
      "            Linear-6                    [-1, 1]           2,049\n",
      "           Sigmoid-7                    [-1, 1]               0\n",
      "================================================================\n",
      "Total params: 51,393\n",
      "Trainable params: 51,393\n",
      "Non-trainable params: 0\n",
      "----------------------------------------------------------------\n",
      "Input size (MB): 0.00\n",
      "Forward/backward pass size (MB): 0.05\n",
      "Params size (MB): 0.20\n",
      "Estimated Total Size (MB): 0.25\n",
      "----------------------------------------------------------------\n"
     ]
    }
   ],
   "source": [
    "summary(disc, input_size=(64, 1, 1))"
   ]
  },
  {
   "cell_type": "code",
   "execution_count": null,
   "metadata": {},
   "outputs": [],
   "source": []
  },
  {
   "cell_type": "markdown",
   "metadata": {},
   "source": [
    "### Training class"
   ]
  },
  {
   "cell_type": "code",
   "execution_count": 22,
   "metadata": {},
   "outputs": [],
   "source": [
    "class QGAN():\n",
    "    def __init__(self, dataloader, gen_net, disc_net, n_qubits, image_size, batch_size, lrG, lrD, gen_loss, disc_loss):\n",
    "\n",
    "        self.dataloader = dataloader\n",
    "        self.gen_net = gen_net\n",
    "        self.disc_net = disc_net\n",
    "        self.n_qubits = n_qubits\n",
    "        self.image_size = image_size\n",
    "        self.batch_size = batch_size\n",
    "        self.lrG = lrG\n",
    "        self.lrD = lrD\n",
    "        self.gen_loss = gen_loss\n",
    "        self.disc_loss = disc_loss\n",
    "\n",
    "        # Optimisers\n",
    "        self.optD = optim.SGD(self.disc_net.parameters(), lr=self.lrD)\n",
    "        self.optG = optim.SGD(self.gen_net.parameters(), lr=self.lrG)\n",
    "\n",
    "        self.real_labels = torch.full((self.batch_size,), 1.0, dtype=torch.float, device=device)\n",
    "        self.fake_labels = torch.full((self.batch_size,), 0.0, dtype=torch.float, device=device)  \n",
    "\n",
    "        self.loss_g, self.loss_d = [], []  \n",
    "        self.total_fid = []\n",
    "                       \n",
    "\n",
    "    def generated_and_save_images(self, results):\n",
    "\n",
    "        fig = plt.figure(figsize=(20, 10))\n",
    "        outer = gridspec.GridSpec(5, 2, wspace=0.1)\n",
    "\n",
    "        for i, images in enumerate(results):\n",
    "            inner = gridspec.GridSpecFromSubplotSpec(1, images.size(0), subplot_spec=outer[i])\n",
    "            \n",
    "            images = torch.squeeze(images, dim=1)\n",
    "            for j, im in enumerate(images):\n",
    "\n",
    "                ax = plt.Subplot(fig, inner[j])\n",
    "                ax.imshow(im.numpy(), cmap=\"gray\")\n",
    "                ax.set_xticks([])\n",
    "                ax.set_yticks([])\n",
    "                if j==0:\n",
    "                    ax.set_title(f'Iteration {50+i*50}', loc='left', color = 'White')\n",
    "                fig.add_subplot(ax)\n",
    "\n",
    "        plt.show()\n",
    "\n",
    "    \n",
    "    def calculate_fid(self, act1, act2):\n",
    "\n",
    "        # calculating mean and covariance statistics\n",
    "        mu1, sigma1 = act1.mean(axis=0), cov(act1, rowvar=False)\n",
    "        mu2, sigma2 = act2.mean(axis=0), cov(act2, rowvar=False)\n",
    "        \n",
    "        # calculating sum squared difference between means\n",
    "        ssdiff = torch.sum((mu1 - mu2)**2.0)\n",
    "        # calculate sqrt of product between cov\n",
    "        covmean = sqrtm(sigma1.dot(sigma2))\n",
    "\n",
    "        # check and correct imaginary numbers from sqrt\n",
    "        if iscomplexobj(covmean):\n",
    "            covmean = covmean.real\n",
    "\n",
    "        # calculating score\n",
    "        fid = ssdiff + trace(sigma1 + sigma2 - 2.0 * covmean)\n",
    "\n",
    "        return fid\n",
    "        \n",
    "\n",
    "    def train_step(self, data):\n",
    "\n",
    "        # Data for training the discriminator\n",
    "        data = data.reshape(-1, self.image_size * self.image_size)\n",
    "        real_data = data.to(device)\n",
    "\n",
    "        # Noise following a uniform distribution in range [0,pi/2)\n",
    "        noise = torch.rand(self.batch_size, self.n_qubits, device=device) #* math.pi / 2\n",
    "        fake_data = self.gen_net(noise)\n",
    "        #print(fake_data.shape)\n",
    "\n",
    "        # Training the discriminator\n",
    "        self.disc_net.zero_grad()\n",
    "        #outD_real = self.disc_net(real_data).view(-1)\n",
    "        #outD_fake = self.disc_net(fake_data.detach()).view(-1)       \n",
    "       \n",
    "        outD_real = self.disc_net(real_data.view(1, 64, 1, 1)).view(-1)\n",
    "        #outD_fake = self.disc_net(fake_data.detach()).view(-1)\n",
    "        outD_fake = self.disc_net(fake_data.view(1, 64, 1, 1).detach()).view(-1)\n",
    "\n",
    "        errD_real = self.disc_loss(outD_real, self.real_labels)\n",
    "        errD_fake = self.disc_loss(outD_fake, self.fake_labels)\n",
    "        # Propagate gradients\n",
    "        errD_real.backward()\n",
    "        errD_fake.backward()\n",
    "\n",
    "        errD = errD_real + errD_fake\n",
    "        self.optD.step()\n",
    "\n",
    "        # Training the generator\n",
    "        self.gen_net.zero_grad()\n",
    "        outD_fake = self.disc_net(fake_data.view(1, 64, 1, 1)).view(-1)\n",
    "        errG = self.gen_loss(outD_fake, self.real_labels)\n",
    "        errG.backward()\n",
    "        self.optG.step()\n",
    "\n",
    "        return errG, errD\n",
    "\n",
    "\n",
    "    def learn(self, epochs):\n",
    "\n",
    "        # Fixed noise allows us to visually track the generated images throughout training\n",
    "        self.fixed_noise = torch.rand(8, self.n_qubits, device=device) #* math.pi / 2\n",
    "\n",
    "        # Iteration counter\n",
    "        epoch = 0   \n",
    "\n",
    "           \n",
    "\n",
    "        results = []\n",
    "\n",
    "        with alive_bar(epochs, force_tty = True) as bar:\n",
    "\n",
    "            while True:\n",
    "                \n",
    "                for _, (data, _) in enumerate(self.dataloader):\n",
    "\n",
    "                    lg, ld = self.train_step(data)                \n",
    "                    \n",
    "                    epoch += 1\n",
    "\n",
    "                    #time.sleep(0.05)\n",
    "                    bar()\n",
    "                    \n",
    "\n",
    "                    # Show loss values         \n",
    "                    if epoch % 10 == 0:\n",
    "                        #print(f'Iteration: {epoch}, Generator Loss: {lg:0.3f}, Discriminator Loss: {ld:0.3f}')\n",
    "                        test_images = self.gen_net(self.fixed_noise).view(8,1,self.image_size,self.image_size).cpu().detach()\n",
    "                        \n",
    "                        # Save images every 50 iterations\n",
    "                        if epoch % 50 == 0:\n",
    "                            results.append(test_images)\n",
    "                            torch.save(results, save_path + 'synthetic.pt')      \n",
    "                            fid = self.calculate_fid(data[0], results[0][0][0])  \n",
    "                            self.total_fid.append(fid.item()) \n",
    "                            #self.generated_and_save_images(results)                  \n",
    "                    \n",
    "                    self.loss_g.append(lg.detach().numpy())\n",
    "                    self.loss_d.append(ld.detach().numpy())  \n",
    "\n",
    "                    if epoch == epochs:\n",
    "                        break\n",
    "                if epoch == epochs:\n",
    "                    break     \n",
    "            \n",
    "            #torch.save(self.loss_g, save_path + 'gen_loss.pt') \n",
    "            #torch.save(self.loss_d, save_path + 'disc_loss.pt')\n",
    "            #torch.save(self.total_fid, save_path + 'fid.pt')   \n",
    "        \n",
    "        # self.generated_and_save_images(results)\n",
    "        # plt.figure(figsize=(11, 7))\n",
    "        # plt.plot(np.arange(epochs), self.loss_g, color = 'Red', label = 'Generator Loss\\n120 parameters')\n",
    "        # plt.plot(np.arange(epochs), self.loss_d, color = 'Blue', label = 'Discriminator Loss\\n51383 parameters')\n",
    "        # plt.xlabel('Epochs', fontsize = 16)\n",
    "        # plt.ylabel('Loss', fontsize = 16)\n",
    "        # plt.legend(loc = 'upper right', fontsize = 16)\n",
    "        # plt.show()"
   ]
  },
  {
   "cell_type": "code",
   "execution_count": 23,
   "metadata": {},
   "outputs": [],
   "source": [
    "n_qubits = 5\n",
    "ancillary_qubits = 1\n",
    "gen_n_layers = 4\n",
    "n_generators = 4\n",
    "image_size = 8\n",
    "batch_size = 1\n",
    "loss = nn.BCELoss()\n",
    "lrG = 0.3\n",
    "lrD = 0.01\n",
    "epochs = 500"
   ]
  },
  {
   "cell_type": "code",
   "execution_count": 24,
   "metadata": {},
   "outputs": [
    {
     "name": "stdout",
     "output_type": "stream",
     "text": [
      "|████████████████████████████████████████| 500/500 [100%] in 5:25.5 (1.54/s)                                            51) in 16s (1.4/s, eta: 5:50) in 18s (1.4/s, eta: 5:44)  32/500 [6%] in 23s (1.4/s, eta: 5:40)  41/500 [8%] in 29s (1.4/s, eta: 5:29)  47/500 [9%] in 34s (1.4/s, eta: 5:24)  51/500 [10%] in 37s (1.4/s, eta: 5:21) ▄▂▂ 52/500 [10%] in 37s (1.4/s, eta: 5:20) (1.4/s, eta: 5:14)  █▆▄ 73/500 [15%] in 53s (1.4/s, eta: 5:08)  78/500 [16%] in 57s (1.4/s, eta: 5:06)  ▂▄▆ 87/500 [17%] in 1:03 (1.4/s, eta: 4:58) ▂▂▄ 95/500 [19%] in 1:08 (1.4/s, eta: 4:50) in 1:14 (1.4/s, eta: 4:41) (1.4/s, eta: 4:41) 109/500 [22%] in 1:18 (1.4/s, eta: 4:37) ▂▄▆ 111/500 [22%] in 1:19 (1.4/s, eta: 4:36) ▇▇▅ 113/500 [23%] in 1:20 (1.4/s, eta: 4:35) 121/500 [24%] in 1:26 (1.4/s, eta: 4:28)  ▅▃▁ 122/500 [24%] in 1:26 (1.4/s, eta: 4:28)  ▅▇▇ 124/500 [25%] in 1:28 (1.4/s, eta: 4:26)  ▂▂▄ 127/500 [25%] in 1:30 (1.4/s, eta: 4:23) ▂▂▄ 131/500 [26%] in 1:32 (1.4/s, eta: 4:20)  139/500 [28%] in 1:38 (1.4/s, eta: 4:13) in 1:43 (1.4/s, eta: 4:07) 149/500 [30%] in 1:45 (1.4/s, eta: 4:06) 153/500 [31%] in 1:47 (1.4/s, eta: 4:03)  158/500 [32%] in 1:50 (1.4/s, eta: 3:59) ▃▁▃ 159/500 [32%] in 1:51 (1.4/s, eta: 3:58) (1.4/s, eta: 3:37) ▄▂▂ 194/500 [39%] in 2:15 (1.4/s, eta: 3:33) ▇▇▅ 200/500 [40%] in 2:19 (1.4/s, eta: 3:29)  216/500 [43%] in 2:30 (1.4/s, eta: 3:18) ▇▇▅ 216/500 [43%] in 2:30 (1.4/s, eta: 3:18) 232/500 [46%] in 2:41 (1.4/s, eta: 3:07)  237/500 [47%] in 2:45 (1.4/s, eta: 3:04) 238/500 [48%] in 2:46 (1.4/s, eta: 3:03) ▄▂▂ 252/500 [50%] in 2:56 (1.4/s, eta: 2:53) ▅▇▇ 254/500 [51%] in 2:57 (1.4/s, eta: 2:52) in 3:04 (1.4/s, eta: 2:43)  █▆▄ 280/500 [56%] in 3:14 (1.4/s, eta: 2:32) in 3:18 (1.5/s, eta: 2:27)  290/500 [58%] in 3:20 (1.4/s, eta: 2:25) 292/500 [58%] in 3:21 (1.5/s, eta: 2:24)  294/500 [59%] in 3:23 (1.5/s, eta: 2:23) (1.5/s, eta: 2:20) ▁▃▅ 299/500 [60%] in 3:26 (1.5/s, eta: 2:19)  ▅▇▇ 300/500 [60%] in 3:27 (1.5/s, eta: 2:18) ▁▃▅ 303/500 [61%] in 3:29 (1.5/s, eta: 2:16) (1.4/s, eta: 2:16)  ▂▂▄ 306/500 [61%] in 3:31 (1.4/s, eta: 2:14)  ▆█▆ 312/500 [62%] in 3:35 (1.5/s, eta: 2:10)  ▂▂▄ 315/500 [63%] in 3:37 (1.5/s, eta: 2:08)  ▄▆█ 316/500 [63%] in 3:38 (1.5/s, eta: 2:07) 336/500 [67%] in 3:50 (1.5/s, eta: 1:53)  ▄▆█ 342/500 [68%] in 3:54 (1.5/s, eta: 1:49)  █▆▄ 360/500 [72%] in 4:05 (1.5/s, eta: 1:36) (1.5/s, eta: 1:32) ▅▃▁ 374/500 [75%] in 4:13 (1.5/s, eta: 1:26) (1.5/s, eta: 1:11) in 4:27 (1.5/s, eta: 1:11)  ▁▃▅ 396/500 [79%] in 4:27 (1.5/s, eta: 1:11) ▂▂▄ 434/500 [87%] in 4:48 (1.5/s, eta: 45s) in 4:55 (1.5/s, eta: 37s)  ▂▄▆ 468/500 [94%] in 5:07 (1.5/s, eta: 22s) in 5:08 (1.5/s, eta: 20s) 472/500 [94%] in 5:09 (1.5/s, eta: 19s) 474/500 [95%] in 5:10 (1.5/s, eta: 18s) in 5:12 (1.5/s, eta: 16s) ▇▇▅ 479/500 [96%] in 5:13 (1.5/s, eta: 14s) ▅▃▁ 498/500 [100%] in 5:24 (1.5/s, eta: 2s) in 5:25 (1.5/s, eta: 1s) \n",
      "|████████████████████████████████████████| 500/500 [100%] in 4:49.1 (1.73/s)                                            00)  █▆▄ 1/500 [0%] in 1s (1.0/s, eta: 5:00) (1.5/s, eta: 5:10)  ▁▃▅ 12/500 [2%] in 8s (1.6/s, eta: 5:08)  ▁▃▅ 46/500 [9%] in 28s (1.7/s, eta: 4:36)  46/500 [9%] in 28s (1.6/s, eta: 4:36)  ▄▂▂ 49/500 [10%] in 30s (1.6/s, eta: 4:34) in 33s (1.6/s, eta: 4:33) in 52s (1.6/s, eta: 4:12) in 1:01 (1.7/s, eta: 4:02) in 1:05 (1.7/s, eta: 3:57) 142/500 [28%] in 1:26 (1.7/s, eta: 3:36) ▇▅▃ 145/500 [29%] in 1:27 (1.7/s, eta: 3:34)  ▂▄▆ 177/500 [35%] in 1:47 (1.7/s, eta: 3:14) ▄▂▂ 214/500 [43%] in 2:06 (1.7/s, eta: 2:49)  ▃▁▃ 214/500 [43%] in 2:06 (1.7/s, eta: 2:49) █▆▄ 236/500 [47%] in 2:18 (1.7/s, eta: 2:34)  266/500 [53%] in 2:33 (1.7/s, eta: 2:15)  ▃▅▇ 282/500 [56%] in 2:42 (1.7/s, eta: 2:06) 298/500 [60%] in 2:50 (1.8/s, eta: 1:56)  ▁▃▅ 310/500 [62%] in 2:56 (1.8/s, eta: 1:48) ▂▂▄ 322/500 [64%] in 3:03 (1.8/s, eta: 1:42)  342/500 [68%] in 3:16 (1.7/s, eta: 1:31) 352/500 [70%] in 3:22 (1.7/s, eta: 1:25)  ▅▃▁ 383/500 [77%] in 3:40 (1.7/s, eta: 1:08) 391/500 [78%] in 3:44 (1.7/s, eta: 1:03) (1.7/s, eta: 51s) 431/500 [86%] in 4:10 (1.7/s, eta: 41s)  ▂▄▆ 432/500 [86%] in 4:10 (1.7/s, eta: 40s) in 4:13 (1.7/s, eta: 37s) 443/500 [89%] in 4:16 (1.7/s, eta: 34s) 470/500 [94%] in 4:32 (1.7/s, eta: 18s) (1.7/s, eta: 9s)                                    ▄▆█ 494/500 [99%] in 4:45 (1.7/s, eta: 4s) \n",
      "|████████████████████████████████████████| 500/500 [100%] in 4:44.1 (1.76/s)                                            :03) 70/500 [14%] in 38s (1.8/s, eta: 3:55) ▅▃▁ 73/500 [15%] in 40s (1.8/s, eta: 3:55) (1.8/s, eta: 3:53) (1.8/s, eta: 3:26)  ▁▃▅ 128/500 [26%] in 1:10 (1.8/s, eta: 3:24) (1.8/s, eta: 3:10) 158/500 [32%] in 1:28 (1.8/s, eta: 3:10) ▆█▆ 164/500 [33%] in 1:31 (1.8/s, eta: 3:07)  244/500 [49%] in 2:13 (1.8/s, eta: 2:20) 247/500 [49%] in 2:15 (1.8/s, eta: 2:19) in 2:49 (1.8/s, eta: 1:50) ▅▇▇ 345/500 [69%] in 3:13 (1.8/s, eta: 1:27) 346/500 [69%] in 3:14 (1.8/s, eta: 1:27) (1.8/s, eta: 1:26) ▅▃▁ 370/500 [74%] in 3:29 (1.8/s, eta: 1:14) ▁▃▅ 469/500 [94%] in 4:26 (1.8/s, eta: 18s) 485/500 [97%] in 4:36 (1.8/s, eta: 9s) \n",
      "|████████████████████████████████████████| 500/500 [100%] in 5:11.1 (1.61/s)                                            5)  38/500 [8%] in 23s (1.6/s, eta: 4:39)  ▇▇▅ 47/500 [9%] in 29s (1.6/s, eta: 4:34) ▆▄▂ 48/500 [10%] in 29s (1.7/s, eta: 4:34)  62/500 [12%] in 37s (1.7/s, eta: 4:23)  ▇▅▃ 65/500 [13%] in 39s (1.7/s, eta: 4:21) in 1:01 (1.6/s, eta: 4:05) ▅▃▁ 101/500 [20%] in 1:02 (1.6/s, eta: 4:06) (1.6/s, eta: 3:57)  ▃▅▇ 119/500 [24%] in 1:14 (1.6/s, eta: 3:56) 124/500 [25%] in 1:17 (1.6/s, eta: 3:54)  127/500 [25%] in 1:19 (1.6/s, eta: 3:52) ▅▇▇ 135/500 [27%] in 1:24 (1.6/s, eta: 3:48) (1.6/s, eta: 3:47) in 1:26 (1.6/s, eta: 3:46) (1.6/s, eta: 3:28)  ▇▇▅ 180/500 [36%] in 1:53 (1.6/s, eta: 3:20) 180/500 [36%] in 1:53 (1.6/s, eta: 3:20) (1.6/s, eta: 3:18)  190/500 [38%] in 2:00 (1.6/s, eta: 3:15) in 3:03 (1.6/s, eta: 2:10)  293/500 [59%] in 3:03 (1.6/s, eta: 2:10) 312/500 [62%] in 3:15 (1.6/s, eta: 1:58)  ▄▆█ 317/500 [63%] in 3:17 (1.6/s, eta: 1:55) (1.6/s, eta: 1:45) 337/500 [67%] in 3:30 (1.6/s, eta: 1:42)  338/500 [68%] in 3:30 (1.6/s, eta: 1:41)  370/500 [74%] in 3:50 (1.6/s, eta: 1:21)  389/500 [78%] in 4:02 (1.6/s, eta: 1:10)  400/500 [80%] in 4:09 (1.6/s, eta: 1:03)  438/500 [88%] in 4:33 (1.6/s, eta: 39s) 459/500 [92%] in 4:46 (1.6/s, eta: 26s) █▆▄ 469/500 [94%] in 4:52 (1.6/s, eta: 20s) 470/500 [94%] in 4:53 (1.6/s, eta: 19s) in 4:56 (1.6/s, eta: 17s) 476/500 [95%] in 4:57 (1.6/s, eta: 16s) in 5:00 (1.6/s, eta: 12s)  485/500 [97%] in 5:03 (1.6/s, eta: 10s)  492/500 [98%] in 5:07 (1.6/s, eta: 6s) \n",
      "|████████████████████████████████████████| 500/500 [100%] in 5:01.4 (1.66/s)                                            07) ▇▅▃ 10/500 [2%] in 6s (1.5/s, eta: 5:04) ▇▅▃ 14/500 [3%] in 9s (1.5/s, eta: 5:09) in 11s (1.5/s, eta: 5:10) ▂▄▆ 32/500 [6%] in 21s (1.5/s, eta: 5:04) in 28s (1.5/s, eta: 4:59) ▂▄▆ 88/500 [18%] in 55s (1.6/s, eta: 4:14)  147/500 [29%] in 1:28 (1.7/s, eta: 3:31) █▆▄ 148/500 [30%] in 1:29 (1.7/s, eta: 3:30) ▇▅▃ 165/500 [33%] in 1:39 (1.7/s, eta: 3:21) 181/500 [36%] in 1:48 (1.7/s, eta: 3:11) ▅▇▇ 188/500 [38%] in 1:53 (1.7/s, eta: 3:08) in 1:53 (1.7/s, eta: 3:08) ▆█▆ 196/500 [39%] in 1:58 (1.7/s, eta: 3:03)  ▅▇▇ 214/500 [43%] in 2:08 (1.7/s, eta: 2:51) 235/500 [47%] in 2:20 (1.7/s, eta: 2:39)  239/500 [48%] in 2:22 (1.7/s, eta: 2:36)  ▅▃▁ 241/500 [48%] in 2:24 (1.7/s, eta: 2:35) in 2:46 (1.7/s, eta: 2:13) 293/500 [59%] in 2:56 (1.7/s, eta: 2:05)  322/500 [64%] in 3:15 (1.7/s, eta: 1:48)  ▂▂▄ 323/500 [65%] in 3:15 (1.7/s, eta: 1:47)  ▅▃▁ 343/500 [69%] in 3:27 (1.7/s, eta: 1:35)  ▁▃▅ 376/500 [75%] in 3:45 (1.7/s, eta: 1:15) in 3:57 (1.7/s, eta: 1:04) ▃▅▇ 436/500 [87%] in 4:21 (1.7/s, eta: 39s) in 4:29 (1.7/s, eta: 31s) in 4:30 (1.7/s, eta: 30s)  451/500 [90%] in 4:31 (1.7/s, eta: 30s) ▄▆█ 456/500 [91%] in 4:33 (1.7/s, eta: 27s) ▆▄▂ 458/500 [92%] in 4:35 (1.7/s, eta: 26s) in 4:38 (1.7/s, eta: 23s) ▁▃▅ 468/500 [94%] in 4:41 (1.7/s, eta: 20s) in 4:55 (1.7/s, eta: 7s) \n",
      "|████████████████████████████████████████| 500/500 [100%] in 4:57.9 (1.68/s)                                            ta: 3:51) 102/500 [20%] in 56s (1.8/s, eta: 3:38)  105/500 [21%] in 57s (1.8/s, eta: 3:37) (1.8/s, eta: 3:32)  █▆▄ 134/500 [27%] in 1:15 (1.8/s, eta: 3:25)  144/500 [29%] in 1:21 (1.8/s, eta: 3:22) 146/500 [29%] in 1:23 (1.8/s, eta: 3:21)  164/500 [33%] in 1:35 (1.7/s, eta: 3:14) ▂▄▆ 170/500 [34%] in 1:39 (1.7/s, eta: 3:11)  ▆▄▂ 172/500 [34%] in 1:40 (1.7/s, eta: 3:10) 190/500 [38%] in 1:50 (1.7/s, eta: 3:01) ▆█▆ 192/500 [38%] in 1:52 (1.7/s, eta: 3:00) 193/500 [39%] in 1:52 (1.7/s, eta: 2:59) ▃▅▇ 195/500 [39%] in 1:54 (1.7/s, eta: 2:58)  ▇▇▅ 288/500 [58%] in 2:49 (1.7/s, eta: 2:05) ▆█▆ 304/500 [61%] in 3:02 (1.7/s, eta: 1:58)  █▆▄ 307/500 [61%] in 3:05 (1.7/s, eta: 1:57) ▂▄▆ 338/500 [68%] in 3:24 (1.7/s, eta: 1:38) ▂▄▆ 349/500 [70%] in 3:31 (1.7/s, eta: 1:32)  351/500 [70%] in 3:32 (1.7/s, eta: 1:31) in 3:34 (1.7/s, eta: 1:29) ▇▇▅ 354/500 [71%] in 3:35 (1.6/s, eta: 1:29) in 3:49 (1.6/s, eta: 1:15)  378/500 [76%] in 3:50 (1.6/s, eta: 1:15)  ▃▁▃ 384/500 [77%] in 3:53 (1.6/s, eta: 1:11) 387/500 [77%] in 3:55 (1.6/s, eta: 1:09) 391/500 [78%] in 3:59 (1.6/s, eta: 1:07)  401/500 [80%] in 4:06 (1.6/s, eta: 1:01)  420/500 [84%] in 4:15 (1.6/s, eta: 49s) 439/500 [88%] in 4:25 (1.7/s, eta: 37s)  ▇▅▃ 440/500 [88%] in 4:26 (1.7/s, eta: 37s)  ▇▇▅ 458/500 [92%] in 4:36 (1.7/s, eta: 26s)  ▆▄▂ 468/500 [94%] in 4:41 (1.7/s, eta: 20s) \n",
      "|████████████████████████████████████████| 500/500 [100%] in 4:33.1 (1.83/s)                                            n 30s (1.7/s, eta: 4:18)  ▂▂▄ 78/500 [16%] in 44s (1.8/s, eta: 3:59)  ▄▆█ 88/500 [18%] in 50s (1.8/s, eta: 3:53) (1.8/s, eta: 2:46)  ▁▃▅ 264/500 [53%] in 2:26 (1.8/s, eta: 2:11)  ▂▂▄ 269/500 [54%] in 2:29 (1.8/s, eta: 2:08) in 2:39 (1.8/s, eta: 1:57)  ▄▂▂ 296/500 [59%] in 2:45 (1.8/s, eta: 1:54)  ▂▂▄ 297/500 [59%] in 2:46 (1.8/s, eta: 1:53) ▃▅▇ 302/500 [60%] in 2:49 (1.8/s, eta: 1:51)  320/500 [64%] in 2:59 (1.8/s, eta: 1:41)  324/500 [65%] in 3:01 (1.8/s, eta: 1:39) ▆█▆ 325/500 [65%] in 3:01 (1.8/s, eta: 1:38) ▄▆█ 456/500 [91%] in 4:09 (1.8/s, eta: 25s)  █▆▄ 484/500 [97%] in 4:24 (1.8/s, eta: 9s) 494/500 [99%] in 4:30 (1.8/s, eta: 4s) \n",
      "|████████████████████████████████████████| 500/500 [100%] in 4:25.0 (1.89/s)                                            12) 4/500 [1%] in 2s (1.6/s, eta: 5:21) in 10s (1.8/s, eta: 4:27)  78/500 [16%] in 44s (1.8/s, eta: 3:57) in 1:01 (1.8/s, eta: 3:36) in 1:41 (1.8/s, eta: 2:50) in 1:53 (1.8/s, eta: 2:40) ▆█▆ 244/500 [49%] in 2:13 (1.8/s, eta: 2:20) ▅▇▇ 248/500 [50%] in 2:15 (1.8/s, eta: 2:17) ▂▂▄ 256/500 [51%] in 2:19 (1.8/s, eta: 2:13) (1.9/s, eta: 1:57) ▂▂▄ 284/500 [57%] in 2:33 (1.9/s, eta: 1:57) 496/500 [99%] in 4:23 (1.9/s, eta: 3s) \n",
      "|████████████████████████████████████████| 500/500 [100%] in 4:31.5 (1.84/s)                                            32)  10/500 [2%] in 6s (1.8/s, eta: 4:31)  ▆▄▂ 11/500 [2%] in 6s (1.7/s, eta: 4:39) ▃▁▃ 44/500 [9%] in 24s (1.8/s, eta: 4:09)  ▃▁▃ 60/500 [12%] in 34s (1.8/s, eta: 4:05) 65/500 [13%] in 36s (1.8/s, eta: 4:02)  █▆▄ 73/500 [15%] in 40s (1.8/s, eta: 3:56)  93/500 [19%] in 51s (1.8/s, eta: 3:45) ▇▇▅ 122/500 [24%] in 1:07 (1.8/s, eta: 3:28) 227/500 [45%] in 2:03 (1.8/s, eta: 2:29) ▃▁▃ 273/500 [55%] in 2:28 (1.9/s, eta: 2:03) (1.9/s, eta: 1:59)  286/500 [57%] in 2:34 (1.9/s, eta: 1:56) (1.8/s, eta: 1:22)  351/500 [70%] in 3:10 (1.8/s, eta: 1:21) ▂▄▆ 354/500 [71%] in 3:12 (1.8/s, eta: 1:20)  ▂▄▆ 373/500 [75%] in 3:24 (1.8/s, eta: 1:10)  ▁▃▅ 391/500 [78%] in 3:33 (1.8/s, eta: 1:00)                   478/500 [96%] in 4:20 (1.8/s, eta: 13s) \n",
      "|████████████████████████████████████████| 500/500 [100%] in 4:36.5 (1.81/s)                                            n 4s (1.8/s, eta: 4:39) 20/500 [4%] in 11s (1.8/s, eta: 4:20)  26/500 [5%] in 14s (1.8/s, eta: 4:23) in 15s (1.8/s, eta: 4:19)  43/500 [9%] in 24s (1.8/s, eta: 4:11) in 1:01 (1.8/s, eta: 3:31) in 1:34 (1.9/s, eta: 2:56) ▄▆█ 176/500 [35%] in 1:35 (1.8/s, eta: 2:55)  ▇▇▅ 204/500 [41%] in 1:50 (1.9/s, eta: 2:40) 209/500 [42%] in 1:52 (1.9/s, eta: 2:37) in 2:44 (1.8/s, eta: 1:47) ▁▃▅ 308/500 [62%] in 2:47 (1.8/s, eta: 1:45) in 2:53 (1.8/s, eta: 1:38)  349/500 [70%] in 3:08 (1.9/s, eta: 1:22) in 3:14 (1.9/s, eta: 1:17) (1.8/s, eta: 1:16) (1.8/s, eta: 1:05) in 3:28 (1.8/s, eta: 1:04)  ▁▃▅ 409/500 [82%] in 3:45 (1.8/s, eta: 51s)  ▅▃▁ 417/500 [83%] in 3:49 (1.8/s, eta: 46s) █▆▄ 433/500 [87%] in 3:58 (1.8/s, eta: 37s)  ▂▄▆ 476/500 [95%] in 4:22 (1.8/s, eta: 14s) ▄▆█ 476/500 [95%] in 4:22 (1.8/s, eta: 14s)  ▂▄▆ 484/500 [97%] in 4:27 (1.8/s, eta: 9s)                                   \n"
     ]
    }
   ],
   "source": [
    "gen_net = QuantumGenerator(n_qubits = n_qubits, ancillary_qubits = ancillary_qubits, \n",
    "                           gen_n_layers = gen_n_layers, n_generators = n_generators).to(device)\n",
    "disc_net = Discriminator(64).to(device)\n",
    "\n",
    "runs = 10\n",
    "\n",
    "loss_g_mean = []\n",
    "loss_d_mean = []\n",
    "fid_mean = []\n",
    "\n",
    "for run in range(runs): \n",
    "\n",
    "    qgan = QGAN(dataloader = dataloader, gen_net = gen_net, disc_net = disc_net, n_qubits = n_qubits, image_size = image_size, \n",
    "            batch_size = batch_size, lrG = lrG, lrD = lrD, gen_loss = loss, disc_loss = loss)\n",
    "\n",
    "    qgan.learn(epochs)\n",
    "    \n",
    "    loss_g_mean.append(qgan.loss_g)\n",
    "    loss_d_mean.append(qgan.loss_d)\n",
    "    fid_mean.append(qgan.total_fid)\n",
    "    \n",
    "    torch.save(loss_g_mean, save_path + 'gen_loss.pt') \n",
    "    torch.save(loss_d_mean, save_path + 'disc_loss.pt') \n",
    "    torch.save(fid_mean, save_path + 'fid.pt') "
   ]
  },
  {
   "cell_type": "code",
   "execution_count": null,
   "metadata": {},
   "outputs": [],
   "source": []
  }
 ],
 "metadata": {
  "kernelspec": {
   "display_name": "Python 3.9.12 ('base')",
   "language": "python",
   "name": "python3"
  },
  "language_info": {
   "codemirror_mode": {
    "name": "ipython",
    "version": 3
   },
   "file_extension": ".py",
   "mimetype": "text/x-python",
   "name": "python",
   "nbconvert_exporter": "python",
   "pygments_lexer": "ipython3",
   "version": "3.9.12"
  },
  "orig_nbformat": 4,
  "vscode": {
   "interpreter": {
    "hash": "41b44beeb6ae1f78ee853589a4fc9a204ef8b2c5ec7d95e779faecfadf9e001f"
   }
  }
 },
 "nbformat": 4,
 "nbformat_minor": 2
}
