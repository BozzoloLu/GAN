{
 "cells": [
  {
   "cell_type": "code",
   "execution_count": 1,
   "metadata": {},
   "outputs": [],
   "source": [
    "import torch\n",
    "import torch.nn as nn\n",
    "import numpy as np\n",
    "import random\n",
    "from GAN_utils import *\n",
    "from torchvision import models\n",
    "from torchsummary import summary"
   ]
  },
  {
   "cell_type": "code",
   "execution_count": 2,
   "metadata": {},
   "outputs": [],
   "source": [
    "seed = 42\n",
    "torch.manual_seed(seed)\n",
    "np.random.seed(seed)\n",
    "random.seed(seed)\n",
    "\n",
    "device = torch.device(\"cpu\")"
   ]
  },
  {
   "cell_type": "code",
   "execution_count": 3,
   "metadata": {},
   "outputs": [
    {
     "name": "stderr",
     "output_type": "stream",
     "text": [
      "2023-02-02 17:05:08.401124: W tensorflow/stream_executor/platform/default/dso_loader.cc:64] Could not load dynamic library 'libcuda.so.1'; dlerror: libcuda.so.1: cannot open shared object file: No such file or directory\n",
      "2023-02-02 17:05:08.401177: W tensorflow/stream_executor/cuda/cuda_driver.cc:269] failed call to cuInit: UNKNOWN ERROR (303)\n",
      "2023-02-02 17:05:08.401195: I tensorflow/stream_executor/cuda/cuda_diagnostics.cc:156] kernel driver does not appear to be running on this host (vt-bozzololu): /proc/driver/nvidia/version does not exist\n",
      "2023-02-02 17:05:08.401465: I tensorflow/core/platform/cpu_feature_guard.cc:151] This TensorFlow binary is optimized with oneAPI Deep Neural Network Library (oneDNN) to use the following CPU instructions in performance-critical operations:  AVX2 AVX512F FMA\n",
      "To enable them in other operations, rebuild TensorFlow with the appropriate compiler flags.\n",
      "100%|██████████| 3/3 [00:00<00:00,  7.42it/s, Generator loss=0.875, Discriminator loss=1.09]\n"
     ]
    }
   ],
   "source": [
    "labels = [4]\n",
    "runs = 1\n",
    "epochs = 3\n",
    "batch_size = 1\n",
    "noise_dim = 5\n",
    "image_size = 8\n",
    "loss = nn.BCELoss()\n",
    "lr_gen = 0.3#0.03# 0.001\n",
    "lr_disc = 0.01#0.001\n",
    "n_qubits = 5 \n",
    "ancillary_qubits = 1  \n",
    "gen_n_layers = 6  \n",
    "n_generators = 4 \n",
    "model_type = ['Classical_linear', 'Quantum_linear']\n",
    "\n",
    "\n",
    "digits, targets = datasets.load_digits(return_X_y=True)\n",
    "rd, _ = resize_data(digits, targets, label = labels, image_size = image_size)\n",
    "dataloader = torch.utils.data.DataLoader(rd, batch_size=batch_size, shuffle=True, drop_last=True)\n",
    "\n",
    "\n",
    "discriminator = Discriminator(image_size).to(device)\n",
    "qgenerator = QuantumGenerator(n_qubits, ancillary_qubits, gen_n_layers, n_generators, device).to(device)\n",
    "generator = Generator(noise_dim).to(device)\n",
    "\n",
    "results = run_model(dataloader, generator, discriminator, noise_dim, image_size, batch_size, loss, lr_gen, lr_disc, \n",
    "                    device, epochs, model_type[0])\n",
    "results"
   ]
  },
  {
   "cell_type": "code",
   "execution_count": null,
   "metadata": {},
   "outputs": [],
   "source": [
    "def generated_images(results):\n",
    "\n",
    "    fig = plt.figure(figsize=(20, 10))\n",
    "    outer = gridspec.GridSpec(len(results)//2, 2, wspace=0.1)\n",
    "\n",
    "    for i, images in enumerate(results):\n",
    "        inner = gridspec.GridSpecFromSubplotSpec(1, images.size(0), subplot_spec=outer[i])\n",
    "        \n",
    "        images = torch.squeeze(images, dim=1)\n",
    "        for j, im in enumerate(images):\n",
    "\n",
    "            ax = plt.Subplot(fig, inner[j])\n",
    "            ax.imshow(im.numpy(), cmap=\"gray\")\n",
    "            ax.set_xticks([])\n",
    "            ax.set_yticks([])\n",
    "            if j==0:\n",
    "                ax.set_title(f'Run {i+1}', loc='left', color = 'White')\n",
    "            fig.add_subplot(ax)\n",
    "\n",
    "    plt.show()"
   ]
  },
  {
   "cell_type": "code",
   "execution_count": null,
   "metadata": {},
   "outputs": [],
   "source": [
    "generated_images(results[2])"
   ]
  },
  {
   "cell_type": "code",
   "execution_count": null,
   "metadata": {},
   "outputs": [],
   "source": []
  }
 ],
 "metadata": {
  "kernelspec": {
   "display_name": "base",
   "language": "python",
   "name": "python3"
  },
  "language_info": {
   "codemirror_mode": {
    "name": "ipython",
    "version": 3
   },
   "file_extension": ".py",
   "mimetype": "text/x-python",
   "name": "python",
   "nbconvert_exporter": "python",
   "pygments_lexer": "ipython3",
   "version": "3.9.12"
  },
  "orig_nbformat": 4,
  "vscode": {
   "interpreter": {
    "hash": "41b44beeb6ae1f78ee853589a4fc9a204ef8b2c5ec7d95e779faecfadf9e001f"
   }
  }
 },
 "nbformat": 4,
 "nbformat_minor": 2
}
