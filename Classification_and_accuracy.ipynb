{
 "cells": [
  {
   "attachments": {},
   "cell_type": "markdown",
   "metadata": {},
   "source": [
    "## Data analysis"
   ]
  },
  {
   "cell_type": "code",
   "execution_count": 1,
   "metadata": {},
   "outputs": [],
   "source": [
    "import torch\n",
    "import torch.nn as nn\n",
    "import tensorflow as tf\n",
    "import numpy as np\n",
    "import pandas as pd\n",
    "from scipy.stats import f\n",
    "import matplotlib.pyplot as plt\n",
    "import seaborn as sns\n",
    "import os\n",
    "import random\n",
    "import time\n",
    "import datetime\n",
    "from tqdm import tqdm\n",
    "from sklearn import datasets\n",
    "from torch.utils.data import Dataset, DataLoader\n",
    "from Classification_task_utils import *"
   ]
  },
  {
   "cell_type": "code",
   "execution_count": 2,
   "metadata": {},
   "outputs": [
    {
     "name": "stdout",
     "output_type": "stream",
     "text": [
      "Real data sample:\n"
     ]
    },
    {
     "data": {
      "image/png": "[encoded data removed]",
      "text/plain": [
       "<Figure size 576x144 with 8 Axes>"
      ]
     },
     "metadata": {
      "needs_background": "light"
     },
     "output_type": "display_data"
    },
    {
     "data": {
      "text/plain": [
       "(640, 640, 640)"
      ]
     },
     "execution_count": 2,
     "metadata": {},
     "output_type": "execute_result"
    }
   ],
   "source": [
    "#-------------------------------------------------------- Setting model parameters --------------------------------------------------------#\n",
    "noise_dim = 5\n",
    "image_size = 8\n",
    "model_type = ['Classical_linear', 'Quantum_linear']\n",
    "labels = [0,1,2,3]\n",
    "num_classes = len(labels)\n",
    "runs = 10\n",
    "epochs = 20\n",
    "batch_size = 4\n",
    "learning_rate = 0.01\n",
    "n_samples = 160 # number of samples for inference\n",
    "\n",
    "\n",
    "#-------------------------------------------------------- Handling real data --------------------------------------------------------#\n",
    "\n",
    "# Showing real data\n",
    "digits, targets = datasets.load_digits(return_X_y =True)\n",
    "digits = digits.reshape(len(digits), 8, 8)\n",
    "\n",
    "# Selecting only specific labels\n",
    "real_data, real_img, test_labels = resize_data_one_hot(digits, targets, label=labels, image_size=image_size, num_classes=num_classes)\n",
    "\n",
    "# Splitting train-test data (one-hot encoding included)\n",
    "idx = int(len(real_data)*0.7)\n",
    "train_data, test_data = split_train_test(real_data, idx)\n",
    "test_label = targets[:idx]\n",
    "\n",
    "print('Real data sample:')\n",
    "show_images(real_data, 8)\n",
    "\n",
    "\n",
    "#-------------------------------------------------------- Making inference --------------------------------------------------------#\n",
    "len_real_data = len(real_data)\n",
    "\n",
    "# Bulding synthetic classical dataset (one-hot encoding included)\n",
    "path = \"torch_results/GAN/GAN_linear/\"\n",
    "GAN_imgs, synthetic_classical_data = build_dataset(model_type[0], noise_dim, path, labels, num_classes, n_samples)\n",
    "\n",
    "# # Bulding synthetic quantum dataset (one-hot encoding included)\n",
    "q_path = \"torch_results/QGAN/QGAN_linear/\"\n",
    "QGAN_imgs, synthetic_quantum_data = build_dataset(model_type[1], noise_dim, q_path, labels, num_classes, n_samples)\n",
    "\n",
    "# len(synthetic_classical_data), len(synthetic_quantum_data)\n",
    "# plt.imshow(synthetic_quantum_data[2000][0]), synthetic_quantum_data[2000][1]\n",
    "# plt.imshow(synthetic_classical_data[2000][0]), synthetic_classical_data[2000][1]\n",
    "len(QGAN_imgs), len(GAN_imgs), len(synthetic_classical_data)"
   ]
  },
  {
   "attachments": {},
   "cell_type": "markdown",
   "metadata": {},
   "source": [
    "### Accuracy score"
   ]
  },
  {
   "cell_type": "code",
   "execution_count": 3,
   "metadata": {},
   "outputs": [
    {
     "data": {
      "text/plain": [
       "(720, 503, 217)"
      ]
     },
     "execution_count": 3,
     "metadata": {},
     "output_type": "execute_result"
    }
   ],
   "source": [
    "len(real_data), len(train_data), len(test_data)"
   ]
  },
  {
   "cell_type": "code",
   "execution_count": 4,
   "metadata": {},
   "outputs": [],
   "source": [
    "synthetic_classical_data_copy = synthetic_classical_data.copy()\n",
    "synthetic_quantum_data_copy = synthetic_quantum_data.copy()\n",
    "\n",
    "for i in train_data :\n",
    "    synthetic_classical_data_copy.append(i)\n",
    "\n",
    "for i in train_data :\n",
    "    synthetic_quantum_data_copy.append(i)\n",
    "\n",
    "#synthetic_classical_data_copy"
   ]
  },
  {
   "cell_type": "code",
   "execution_count": 5,
   "metadata": {},
   "outputs": [
    {
     "data": {
      "text/plain": [
       "(1143, 640, 1143, 640)"
      ]
     },
     "execution_count": 5,
     "metadata": {},
     "output_type": "execute_result"
    }
   ],
   "source": [
    "len(synthetic_classical_data_copy), len(synthetic_classical_data), len(synthetic_quantum_data_copy), len(synthetic_classical_data)"
   ]
  },
  {
   "cell_type": "code",
   "execution_count": 6,
   "metadata": {},
   "outputs": [
    {
     "name": "stdout",
     "output_type": "stream",
     "text": [
      "REAL DATA CLASSIFICATION: \n"
     ]
    },
    {
     "name": "stderr",
     "output_type": "stream",
     "text": [
      "100%|██████████| 20/20 [00:07<00:00,  2.55it/s, Classificator loss=0.766]\n",
      "2023-02-09 17:47:32.975545: W tensorflow/stream_executor/platform/default/dso_loader.cc:64] Could not load dynamic library 'libcuda.so.1'; dlerror: libcuda.so.1: cannot open shared object file: No such file or directory\n",
      "2023-02-09 17:47:32.975584: W tensorflow/stream_executor/cuda/cuda_driver.cc:269] failed call to cuInit: UNKNOWN ERROR (303)\n",
      "2023-02-09 17:47:32.975598: I tensorflow/stream_executor/cuda/cuda_diagnostics.cc:156] kernel driver does not appear to be running on this host (vt-bozzololu): /proc/driver/nvidia/version does not exist\n",
      "2023-02-09 17:47:32.975844: I tensorflow/core/platform/cpu_feature_guard.cc:151] This TensorFlow binary is optimized with oneAPI Deep Neural Network Library (oneDNN) to use the following CPU instructions in performance-critical operations:  AVX2 AVX512F FMA\n",
      "To enable them in other operations, rebuild TensorFlow with the appropriate compiler flags.\n"
     ]
    },
    {
     "name": "stdout",
     "output_type": "stream",
     "text": [
      "Accuracy score:  0.8525345622119815\n",
      "\n",
      "SYNTHETIC DATA CLASSIFICATION: \n",
      "---------------------------------------- RUN 1 ----------------------------------------\n",
      "Classical GAN training: \n"
     ]
    },
    {
     "name": "stderr",
     "output_type": "stream",
     "text": [
      "100%|██████████| 20/20 [00:18<00:00,  1.06it/s, Classificator loss=0.744]\n"
     ]
    },
    {
     "name": "stdout",
     "output_type": "stream",
     "text": [
      "Accuracy score:  0.8571428571428571\n",
      "Quantum GAN training: \n"
     ]
    },
    {
     "name": "stderr",
     "output_type": "stream",
     "text": [
      "100%|██████████| 20/20 [00:18<00:00,  1.07it/s, Classificator loss=0.754]\n"
     ]
    },
    {
     "name": "stdout",
     "output_type": "stream",
     "text": [
      "Accuracy score:  0.8202764976958525\n",
      "---------------------------------------- RUN 2 ----------------------------------------\n",
      "Classical GAN training: \n"
     ]
    },
    {
     "name": "stderr",
     "output_type": "stream",
     "text": [
      "100%|██████████| 20/20 [00:19<00:00,  1.02it/s, Classificator loss=0.758]\n"
     ]
    },
    {
     "name": "stdout",
     "output_type": "stream",
     "text": [
      "Accuracy score:  0.8387096774193549\n",
      "Quantum GAN training: \n"
     ]
    },
    {
     "name": "stderr",
     "output_type": "stream",
     "text": [
      "100%|██████████| 20/20 [00:19<00:00,  1.00it/s, Classificator loss=0.77] \n"
     ]
    },
    {
     "name": "stdout",
     "output_type": "stream",
     "text": [
      "Accuracy score:  0.7880184331797235\n",
      "---------------------------------------- RUN 3 ----------------------------------------\n",
      "Classical GAN training: \n"
     ]
    },
    {
     "name": "stderr",
     "output_type": "stream",
     "text": [
      "100%|██████████| 20/20 [00:22<00:00,  1.12s/it, Classificator loss=0.744]\n"
     ]
    },
    {
     "name": "stdout",
     "output_type": "stream",
     "text": [
      "Accuracy score:  0.847926267281106\n",
      "Quantum GAN training: \n"
     ]
    },
    {
     "name": "stderr",
     "output_type": "stream",
     "text": [
      "100%|██████████| 20/20 [00:23<00:00,  1.19s/it, Classificator loss=0.816]\n"
     ]
    },
    {
     "name": "stdout",
     "output_type": "stream",
     "text": [
      "Accuracy score:  0.8709677419354839\n",
      "---------------------------------------- RUN 4 ----------------------------------------\n",
      "Classical GAN training: \n"
     ]
    },
    {
     "name": "stderr",
     "output_type": "stream",
     "text": [
      "100%|██████████| 20/20 [00:23<00:00,  1.19s/it, Classificator loss=0.745]\n"
     ]
    },
    {
     "name": "stdout",
     "output_type": "stream",
     "text": [
      "Accuracy score:  0.8433179723502304\n",
      "Quantum GAN training: \n"
     ]
    },
    {
     "name": "stderr",
     "output_type": "stream",
     "text": [
      "100%|██████████| 20/20 [00:27<00:00,  1.39s/it, Classificator loss=0.759]\n"
     ]
    },
    {
     "name": "stdout",
     "output_type": "stream",
     "text": [
      "Accuracy score:  0.8018433179723502\n",
      "---------------------------------------- RUN 5 ----------------------------------------\n",
      "Classical GAN training: \n"
     ]
    },
    {
     "name": "stderr",
     "output_type": "stream",
     "text": [
      "100%|██████████| 20/20 [00:23<00:00,  1.19s/it, Classificator loss=0.85] \n"
     ]
    },
    {
     "name": "stdout",
     "output_type": "stream",
     "text": [
      "Accuracy score:  0.847926267281106\n",
      "Quantum GAN training: \n"
     ]
    },
    {
     "name": "stderr",
     "output_type": "stream",
     "text": [
      "100%|██████████| 20/20 [00:23<00:00,  1.16s/it, Classificator loss=0.776]\n"
     ]
    },
    {
     "name": "stdout",
     "output_type": "stream",
     "text": [
      "Accuracy score:  0.815668202764977\n",
      "---------------------------------------- RUN 6 ----------------------------------------\n",
      "Classical GAN training: \n"
     ]
    },
    {
     "name": "stderr",
     "output_type": "stream",
     "text": [
      "100%|██████████| 20/20 [00:23<00:00,  1.19s/it, Classificator loss=0.744]\n"
     ]
    },
    {
     "name": "stdout",
     "output_type": "stream",
     "text": [
      "Accuracy score:  0.847926267281106\n",
      "Quantum GAN training: \n"
     ]
    },
    {
     "name": "stderr",
     "output_type": "stream",
     "text": [
      "100%|██████████| 20/20 [00:23<00:00,  1.17s/it, Classificator loss=0.767]\n"
     ]
    },
    {
     "name": "stdout",
     "output_type": "stream",
     "text": [
      "Accuracy score:  0.8018433179723502\n",
      "---------------------------------------- RUN 7 ----------------------------------------\n",
      "Classical GAN training: \n"
     ]
    },
    {
     "name": "stderr",
     "output_type": "stream",
     "text": [
      "100%|██████████| 20/20 [00:23<00:00,  1.15s/it, Classificator loss=0.771]\n"
     ]
    },
    {
     "name": "stdout",
     "output_type": "stream",
     "text": [
      "Accuracy score:  0.8341013824884793\n",
      "Quantum GAN training: \n"
     ]
    },
    {
     "name": "stderr",
     "output_type": "stream",
     "text": [
      "100%|██████████| 20/20 [00:24<00:00,  1.22s/it, Classificator loss=0.764]\n"
     ]
    },
    {
     "name": "stdout",
     "output_type": "stream",
     "text": [
      "Accuracy score:  0.815668202764977\n",
      "---------------------------------------- RUN 8 ----------------------------------------\n",
      "Classical GAN training: \n"
     ]
    },
    {
     "name": "stderr",
     "output_type": "stream",
     "text": [
      "100%|██████████| 20/20 [00:25<00:00,  1.27s/it, Classificator loss=0.749]\n"
     ]
    },
    {
     "name": "stdout",
     "output_type": "stream",
     "text": [
      "Accuracy score:  0.847926267281106\n",
      "Quantum GAN training: \n"
     ]
    },
    {
     "name": "stderr",
     "output_type": "stream",
     "text": [
      "100%|██████████| 20/20 [00:26<00:00,  1.31s/it, Classificator loss=0.77] \n"
     ]
    },
    {
     "name": "stdout",
     "output_type": "stream",
     "text": [
      "Accuracy score:  0.8525345622119815\n",
      "---------------------------------------- RUN 9 ----------------------------------------\n",
      "Classical GAN training: \n"
     ]
    },
    {
     "name": "stderr",
     "output_type": "stream",
     "text": [
      "100%|██████████| 20/20 [00:24<00:00,  1.24s/it, Classificator loss=0.746]\n"
     ]
    },
    {
     "name": "stdout",
     "output_type": "stream",
     "text": [
      "Accuracy score:  0.8525345622119815\n",
      "Quantum GAN training: \n"
     ]
    },
    {
     "name": "stderr",
     "output_type": "stream",
     "text": [
      "100%|██████████| 20/20 [00:25<00:00,  1.30s/it, Classificator loss=0.796]\n"
     ]
    },
    {
     "name": "stdout",
     "output_type": "stream",
     "text": [
      "Accuracy score:  0.8202764976958525\n",
      "---------------------------------------- RUN 10 ----------------------------------------\n",
      "Classical GAN training: \n"
     ]
    },
    {
     "name": "stderr",
     "output_type": "stream",
     "text": [
      "100%|██████████| 20/20 [00:36<00:00,  1.82s/it, Classificator loss=0.744]\n"
     ]
    },
    {
     "name": "stdout",
     "output_type": "stream",
     "text": [
      "Accuracy score:  0.8571428571428571\n",
      "Quantum GAN training: \n"
     ]
    },
    {
     "name": "stderr",
     "output_type": "stream",
     "text": [
      "100%|██████████| 20/20 [00:31<00:00,  1.58s/it, Classificator loss=0.753]\n"
     ]
    },
    {
     "name": "stdout",
     "output_type": "stream",
     "text": [
      "Accuracy score:  0.8433179723502304\n"
     ]
    }
   ],
   "source": [
    "#-------------------------------------------------------- Defining dataloaders --------------------------------------------------------#\n",
    "synthetic_dataloader_0 = DataLoader(synthetic_classical_data_copy, batch_size=batch_size, shuffle=True, drop_last=True)\n",
    "q_synthetic_dataloader_0 = DataLoader(synthetic_quantum_data_copy, batch_size=batch_size, shuffle=True, drop_last=True)\n",
    "synthetic_dataloader = DataLoader(synthetic_classical_data, batch_size=batch_size, shuffle=True, drop_last=True)\n",
    "q_synthetic_dataloader = DataLoader(synthetic_quantum_data, batch_size=batch_size, shuffle=True, drop_last=True)\n",
    "real_dataloader = DataLoader(real_data, shuffle=True)\n",
    "train_dataloader = DataLoader(train_data, batch_size = batch_size, shuffle=True, drop_last=True)\n",
    "test_dataloader = DataLoader(test_data, shuffle=True)\n",
    "\n",
    "\n",
    "#-------------------------------------------------------- Initializing classificator models --------------------------------------------------------#\n",
    "r_classificator = Classificator(num_classes)\n",
    "c_classificator = Classificator(num_classes)\n",
    "q_classificator = Classificator(num_classes)\n",
    "\n",
    "\n",
    "#-------------------------------------------------------- Running the classification --------------------------------------------------------#\n",
    "print('REAL DATA CLASSIFICATION: ')\n",
    "r_path = \"torch_results/Classificator/Real_data/\"\n",
    "r_loss = training_classification(r_classificator, train_dataloader, epochs, learning_rate, batch_size, r_path)\n",
    "evaluate_accuracy(r_classificator, test_dataloader, r_path)\n",
    "\n",
    "print('\\nSYNTHETIC DATA CLASSIFICATION: ')\n",
    "acc_tot, q_acc_tot, c_loss, q_loss = multiple_runs(runs, model_type, c_classificator, q_classificator, synthetic_dataloader_0, q_synthetic_dataloader_0,\n",
    "                                                    test_dataloader, num_classes, learning_rate, epochs, batch_size, reset_parameters=True) "
   ]
  },
  {
   "cell_type": "code",
   "execution_count": 7,
   "metadata": {},
   "outputs": [
    {
     "data": {
      "image/png": "[encoded data removed]",
      "text/plain": [
       "<Figure size 432x288 with 1 Axes>"
      ]
     },
     "metadata": {
      "needs_background": "light"
     },
     "output_type": "display_data"
    }
   ],
   "source": [
    "#----------------------- Plotting losses -----------------------#\n",
    "plt.plot(np.arange(len(c_loss)), q_loss, label='QGAN data')\n",
    "plt.plot(np.arange(len(c_loss)), c_loss, label='GAN data')\n",
    "plt.title('Training loss')\n",
    "plt.ylabel('Cross entropy')\n",
    "plt.xlabel('Epochs')\n",
    "plt.legend()\n",
    "plt.show()"
   ]
  },
  {
   "cell_type": "code",
   "execution_count": 8,
   "metadata": {},
   "outputs": [
    {
     "data": {
      "text/plain": [
       "([0.8571428571428571,\n",
       "  0.8387096774193549,\n",
       "  0.847926267281106,\n",
       "  0.8433179723502304,\n",
       "  0.847926267281106,\n",
       "  0.847926267281106,\n",
       "  0.8341013824884793,\n",
       "  0.847926267281106,\n",
       "  0.8525345622119815,\n",
       "  0.8571428571428571],\n",
       " [0.8202764976958525,\n",
       "  0.7880184331797235,\n",
       "  0.8709677419354839,\n",
       "  0.8018433179723502,\n",
       "  0.815668202764977,\n",
       "  0.8018433179723502,\n",
       "  0.815668202764977,\n",
       "  0.8525345622119815,\n",
       "  0.8202764976958525,\n",
       "  0.8433179723502304])"
      ]
     },
     "execution_count": 8,
     "metadata": {},
     "output_type": "execute_result"
    }
   ],
   "source": [
    "acc_tot, q_acc_tot"
   ]
  },
  {
   "cell_type": "code",
   "execution_count": 9,
   "metadata": {},
   "outputs": [],
   "source": [
    "c_acc_2_features = [0.9724770642201835,0.963302752293578,0.9724770642201835,0.9724770642201835,0.9724770642201835,0.963302752293578,0.963302752293578,0.9541284403669725,0.9724770642201835,\n",
    "0.9724770642201835]\n",
    "\n",
    "q_acc_2_features = [0.9724770642201835,0.981651376146789,0.9724770642201835,0.9724770642201835,0.981651376146789,0.963302752293578,0.981651376146789,0.9724770642201835,0.9724770642201835,\n",
    "0.9724770642201835]\n",
    "\n",
    "c_acc_3_features = [0.9197530864197531,0.9382716049382716,0.9629629629629629,0.9567901234567902,0.9506172839506173,0.9382716049382716,0.9382716049382716,0.9506172839506173,0.9691358024691358,\n",
    "0.9506172839506173]\n",
    "\n",
    "q_acc_3_features = [0.9197530864197531,0.9197530864197531,0.9074074074074074,0.9320987654320988,0.9259259259259259,0.9259259259259259,0.9320987654320988,0.9012345679012346,0.9074074074074074,\n",
    "0.9012345679012346]\n",
    "\n",
    "c_acc_4_features = [0.8571428571428571,0.8387096774193549,0.847926267281106,0.8433179723502304,0.847926267281106,0.847926267281106,0.8341013824884793,0.847926267281106,0.8525345622119815,\n",
    "0.8571428571428571]\n",
    "\n",
    "q_acc_4_features = [0.8202764976958525,0.7880184331797235,0.8709677419354839,0.8018433179723502,0.815668202764977,0.8018433179723502,0.815668202764977,0.8525345622119815,0.8202764976958525,\n",
    "0.8433179723502304]"
   ]
  },
  {
   "cell_type": "code",
   "execution_count": 10,
   "metadata": {},
   "outputs": [
    {
     "data": {
      "image/png": "[encoded data removed]",
      "text/plain": [
       "<Figure size 864x432 with 1 Axes>"
      ]
     },
     "metadata": {},
     "output_type": "display_data"
    }
   ],
   "source": [
    "#-------------------------------------------------------- Plotting multiple run results on multiple labels --------------------------------------------------------#\n",
    "\n",
    "# c_acc_2_features = [0.9777777777777777,0.9583333333333334,0.975,0.9777777777777777,0.975,0.9805555555555555,0.9638888888888889,0.9694444444444444,0.9805555555555555,0.9861111111111112]\n",
    "\n",
    "# q_acc_2_features = [0.9861111111111112,0.9833333333333333,0.9944444444444445,0.9888888888888889,0.9888888888888889,0.9861111111111112,0.9916666666666667,0.9861111111111112,0.9833333333333333,\n",
    "# 0.9861111111111112]\n",
    "\n",
    "# c_acc_3_features = [0.9590316573556797,0.957169459962756,0.9702048417132216,0.957169459962756,0.9590316573556797,0.9422718808193669,0.9422718808193669,0.9646182495344506,0.962756052141527,\n",
    "# 0.9050279329608939]\n",
    "\n",
    "# q_acc_3_features = [0.7579143389199255,0.7541899441340782,0.7318435754189944,0.7318435754189944,0.7430167597765364,0.8100558659217877,0.7635009310986964,0.7057728119180633,0.8081936685288641,\n",
    "# 0.7690875232774674]\n",
    "\n",
    "# c_acc_4_features = [0.8680555555555556,0.8694444444444445,0.9013888888888889,0.8819444444444444,0.8777777777777778,0.9027777777777778,0.8986111111111111,0.9069444444444444,0.8861111111111111,\n",
    "# 0.8555555555555555]\n",
    "\n",
    "# q_acc_4_features = [0.4708333333333333,0.4986111111111111,0.4083333333333333,0.4166666666666667,0.4097222222222222,0.40555555555555556,0.3888888888888889,0.4125,0.40555555555555556,0.43333333333333335]\n",
    "\n",
    "c_acc_5_features = [0.9089900110987791,0.9123196448390677,0.9178690344062154,0.8956714761376249,0.8612652608213096,0.8990011098779135,0.8679245283018868,0.876803551609323,0.9223085460599334,\n",
    "0.897891231964484]\n",
    "\n",
    "q_acc_5_features = [0.30965593784683687,0.3129855715871254,0.31520532741398444,0.34850166481687017,0.3052164261931188,0.32075471698113206,0.35294117647058826,0.33296337402885684,0.3196448390677026,\n",
    "0.3174250832408435]\n",
    "\n",
    "c_acc_final = [c_acc_2_features, c_acc_3_features, c_acc_4_features, c_acc_5_features]\n",
    "q_acc_final = [q_acc_2_features, q_acc_3_features, q_acc_4_features, q_acc_5_features]\n",
    "\n",
    "boxplot = accuracy_boxplot(c_acc_final, q_acc_final, [2,3,4,5])\n",
    "boxplot"
   ]
  },
  {
   "cell_type": "code",
   "execution_count": 11,
   "metadata": {},
   "outputs": [
    {
     "name": "stderr",
     "output_type": "stream",
     "text": [
      "/tmp/ipykernel_3081/2216260577.py:17: FutureWarning: In a future version of pandas all arguments of concat except for the argument 'objs' will be keyword-only.\n",
      "  df = pd.concat([df1, df2, df3], 1)\n"
     ]
    },
    {
     "data": {
      "text/plain": [
       "<seaborn.axisgrid.FacetGrid at 0x7f9faceea940>"
      ]
     },
     "execution_count": 11,
     "metadata": {},
     "output_type": "execute_result"
    },
    {
     "data": {
      "image/png": "[encoded data removed]",
      "text/plain": [
       "<Figure size 443.125x360 with 1 Axes>"
      ]
     },
     "metadata": {
      "needs_background": "light"
     },
     "output_type": "display_data"
    }
   ],
   "source": [
    "# Plotting kernel density estimation. they're necessary a comparable number iof sample for each group of data (real, GAN, QGAN)\n",
    "\n",
    "GAN_imgs, _ = build_dataset(model_type[0], noise_dim, path, labels, num_classes, 180)\n",
    "QGAN_imgs, _ = build_dataset(model_type[1], noise_dim, q_path, labels, num_classes, 180)\n",
    "\n",
    "linear_gan_synthetic = np.concatenate(GAN_imgs).reshape(len(GAN_imgs), 8, 8)\n",
    "reshaped_linear_gan_synthetic = linear_gan_synthetic.reshape(len(GAN_imgs)*64)\n",
    "linear_qgan_synthetic = np.concatenate(QGAN_imgs).reshape(len(QGAN_imgs), 8, 8)\n",
    "reshaped_linear_qgan_synthetic = linear_qgan_synthetic.reshape(len(QGAN_imgs)*64)\n",
    "real_data = np.concatenate(real_img).reshape(len(real_img), 8, 8)\n",
    "reshaped_real_data = real_data.reshape(len(real_data)*64)\n",
    "\n",
    "empty_dataframe = pd.DataFrame(columns=['Real data','GAN', 'QGAN'])\n",
    "df1 = pd.DataFrame(reshaped_real_data)\n",
    "df2 = pd.DataFrame(reshaped_linear_gan_synthetic)\n",
    "df3 = pd.DataFrame(reshaped_linear_qgan_synthetic)\n",
    "df = pd.concat([df1, df2, df3], 1)\n",
    "df.columns = ['Real data','GAN', 'QGAN']\n",
    "\n",
    "sns.displot(data = df, kind = 'kde')"
   ]
  },
  {
   "cell_type": "code",
   "execution_count": null,
   "metadata": {},
   "outputs": [],
   "source": []
  }
 ],
 "metadata": {
  "kernelspec": {
   "display_name": "base",
   "language": "python",
   "name": "python3"
  },
  "language_info": {
   "codemirror_mode": {
    "name": "ipython",
    "version": 3
   },
   "file_extension": ".py",
   "mimetype": "text/x-python",
   "name": "python",
   "nbconvert_exporter": "python",
   "pygments_lexer": "ipython3",
   "version": "3.9.12"
  },
  "orig_nbformat": 4,
  "vscode": {
   "interpreter": {
    "hash": "41b44beeb6ae1f78ee853589a4fc9a204ef8b2c5ec7d95e779faecfadf9e001f"
   }
  }
 },
 "nbformat": 4,
 "nbformat_minor": 2
}
