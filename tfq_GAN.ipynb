{
 "cells": [
  {
   "cell_type": "code",
   "execution_count": 1,
   "metadata": {},
   "outputs": [
    {
     "name": "stderr",
     "output_type": "stream",
     "text": [
      "2023-02-17 16:18:39.937157: W tensorflow/stream_executor/platform/default/dso_loader.cc:64] Could not load dynamic library 'libcudart.so.11.0'; dlerror: libcudart.so.11.0: cannot open shared object file: No such file or directory\n",
      "2023-02-17 16:18:39.937194: I tensorflow/stream_executor/cuda/cudart_stub.cc:29] Ignore above cudart dlerror if you do not have a GPU set up on your machine.\n",
      "2023-02-17 16:18:41.949317: W tensorflow/stream_executor/platform/default/dso_loader.cc:64] Could not load dynamic library 'libcuda.so.1'; dlerror: libcuda.so.1: cannot open shared object file: No such file or directory\n",
      "2023-02-17 16:18:41.949357: W tensorflow/stream_executor/cuda/cuda_driver.cc:269] failed call to cuInit: UNKNOWN ERROR (303)\n",
      "2023-02-17 16:18:41.949368: I tensorflow/stream_executor/cuda/cuda_diagnostics.cc:156] kernel driver does not appear to be running on this host (vt-bozzololu): /proc/driver/nvidia/version does not exist\n",
      "2023-02-17 16:18:41.949544: I tensorflow/core/platform/cpu_feature_guard.cc:151] This TensorFlow binary is optimized with oneAPI Deep Neural Network Library (oneDNN) to use the following CPU instructions in performance-critical operations:  AVX2 AVX512F FMA\n",
      "To enable them in other operations, rebuild TensorFlow with the appropriate compiler flags.\n"
     ]
    }
   ],
   "source": [
    "import numpy as np\n",
    "import tensorflow as tf\n",
    "import tensorflow_quantum as tfq\n",
    "import cirq\n",
    "from cirq.contrib.svg import SVGCircuit\n",
    "from tensorflow.keras import Model\n",
    "from tensorflow.keras.models import Sequential\n",
    "from tensorflow.keras.layers import Input, Dense, Conv2DTranspose, Conv2D, Layer, Reshape, Dropout, LeakyReLU, BatchNormalization, Flatten\n",
    "from tensorflow.keras.optimizers import Adam\n",
    "from keras.initializers import RandomNormal\n",
    "from sklearn import datasets\n",
    "import sympy\n",
    "import tqdm\n",
    "\n",
    "# visualization tools\n",
    "%matplotlib inline\n",
    "import matplotlib.pyplot as plt\n",
    "\n",
    "from IPython import display\n",
    "import glob\n",
    "from PIL import Image\n",
    "import datetime"
   ]
  },
  {
   "cell_type": "code",
   "execution_count": 2,
   "metadata": {},
   "outputs": [
    {
     "name": "stdout",
     "output_type": "stream",
     "text": [
      "Number of original training examples: 60000\n",
      "Number of original test examples: 10000\n"
     ]
    }
   ],
   "source": [
    "(x_train, y_train), (x_test, y_test) = tf.keras.datasets.mnist.load_data()\n",
    "\n",
    "# Rescale the images from [0,255] to the [0.0,1.0] range.\n",
    "x_train, x_test = x_train[..., np.newaxis]/255.0, x_test[..., np.newaxis]/255.0\n",
    "\n",
    "print(\"Number of original training examples:\", len(x_train))\n",
    "print(\"Number of original test examples:\", len(x_test))"
   ]
  },
  {
   "cell_type": "code",
   "execution_count": 3,
   "metadata": {},
   "outputs": [],
   "source": [
    "def filter_36(x, y):\n",
    "    keep = (y == 3) | (y == 6)\n",
    "    x, y = x[keep], y[keep]\n",
    "    y = y == 3\n",
    "    return x,y"
   ]
  },
  {
   "cell_type": "code",
   "execution_count": 4,
   "metadata": {},
   "outputs": [
    {
     "name": "stdout",
     "output_type": "stream",
     "text": [
      "5\n"
     ]
    },
    {
     "data": {
      "text/plain": [
       "<matplotlib.colorbar.Colorbar at 0x7fd3a7e13760>"
      ]
     },
     "execution_count": 4,
     "metadata": {},
     "output_type": "execute_result"
    },
    {
     "data": {
      "image/png": "[encoded data removed]",
      "text/plain": [
       "<Figure size 432x288 with 2 Axes>"
      ]
     },
     "metadata": {
      "needs_background": "light"
     },
     "output_type": "display_data"
    }
   ],
   "source": [
    "print(y_train[0])\n",
    "\n",
    "plt.imshow(x_train[0, :, :, 0])\n",
    "plt.colorbar()"
   ]
  },
  {
   "cell_type": "code",
   "execution_count": 5,
   "metadata": {},
   "outputs": [],
   "source": [
    "x_train_small = tf.image.resize(x_train, (2,2)).numpy()\n",
    "x_test_small = tf.image.resize(x_test, (2,2)).numpy()"
   ]
  },
  {
   "cell_type": "code",
   "execution_count": 6,
   "metadata": {},
   "outputs": [
    {
     "name": "stdout",
     "output_type": "stream",
     "text": [
      "5\n"
     ]
    },
    {
     "data": {
      "text/plain": [
       "<matplotlib.colorbar.Colorbar at 0x7fd38c7491f0>"
      ]
     },
     "execution_count": 6,
     "metadata": {},
     "output_type": "execute_result"
    },
    {
     "data": {
      "image/png": "[encoded data removed]",
      "text/plain": [
       "<Figure size 432x288 with 2 Axes>"
      ]
     },
     "metadata": {
      "needs_background": "light"
     },
     "output_type": "display_data"
    }
   ],
   "source": [
    "print(y_train[0])\n",
    "\n",
    "plt.imshow(x_train_small[0,:,:,0], vmin=0, vmax=1)\n",
    "plt.colorbar()"
   ]
  },
  {
   "cell_type": "code",
   "execution_count": 7,
   "metadata": {},
   "outputs": [],
   "source": [
    "def resize_data(x, y, label, image_size):\n",
    "\n",
    "    ''' Function scaling real data.\n",
    "        \n",
    "        Input:  image array, label array, image size, number of classes.    \n",
    "        Output : list of tuple (image torch tensor, label torch tensor), \n",
    "                 list of image tensor. '''\n",
    "\n",
    "    images_tuple = []\n",
    "    images = []\n",
    "\n",
    "    for t, l in zip(x, y):\n",
    "        if l in label:\n",
    "            t = tf.reshape(t, (image_size, image_size))\n",
    "            t = t/16\n",
    "            images_tuple.append((t, tf.convert_to_tensor(l, 1)))\n",
    "            images.append(t)\n",
    "    return images_tuple, images"
   ]
  },
  {
   "cell_type": "code",
   "execution_count": 8,
   "metadata": {},
   "outputs": [],
   "source": [
    "_, imgs = resize_data(x_train_small, y_train, label = (0,), image_size = 2)"
   ]
  },
  {
   "cell_type": "code",
   "execution_count": 9,
   "metadata": {},
   "outputs": [],
   "source": [
    "qubits = cirq.GridQubit.rect(1,5)\n",
    "gen_n_layers = 4\n",
    "observables = [cirq.Z(q) for q in qubits]"
   ]
  },
  {
   "cell_type": "code",
   "execution_count": 10,
   "metadata": {},
   "outputs": [],
   "source": [
    "def real(qubits, symb):\n",
    "    #symb = sympy.symbols('theta_1 theta_2 theta_3 theta_4 theta_5 theta_6 theta_7 theta_8 theta_9')\n",
    "\n",
    "    u = cirq.Circuit() \n",
    "    u.append(cirq.H(qubits[0]))\n",
    "    u.append(cirq.rx(symb[0]).on(qubits[0])) \n",
    "    u.append(cirq.ry(symb[2]).on(qubits[0]))\n",
    "    u.append(cirq.rz(symb[2]).on(qubits[0]))\n",
    "\n",
    "    return u"
   ]
  },
  {
   "cell_type": "code",
   "execution_count": 11,
   "metadata": {},
   "outputs": [],
   "source": [
    "def one_qubit_rotation(qubit, symbols):\n",
    "    '''\n",
    "    Returns Cirq gates that apply a rotation of the bloch sphere about the X,\n",
    "    Y and Z axis, specified by the values in `symbols`.\n",
    "    '''\n",
    "    return [cirq.rx(symbols[0])(qubit),\n",
    "            cirq.ry(symbols[1])(qubit),\n",
    "            cirq.rz(symbols[2])(qubit)]\n",
    "\n",
    "def entangling_layer(qubits):\n",
    "    '''\n",
    "    Returns a layer of CZ entangling gates on `qubits` (arranged in a circular topology).\n",
    "    '''\n",
    "    cnot_ops = [cirq.CNOT(q0, q1) for q0, q1 in zip(qubits, qubits[1:])]\n",
    "    return cnot_ops\n",
    "\n",
    "def generator_circuit(qubits, n_layers):\n",
    "    '''\n",
    "    First qubit is ancillary.\n",
    "    First layer represents quantum noise state vector |z>.\n",
    "\n",
    "    p.s. We could add random rotation regarding to the encoding layer.\n",
    "    '''\n",
    "\n",
    "    # Number of qubits\n",
    "    n_qubits = len(qubits)    \n",
    "\n",
    "    # Sympy symbols for encoding layer\n",
    "    enc_symbs = sympy.symbols(f'phi(0:{1})'+f'_(0:{n_qubits})')\n",
    "    enc_symbs = np.asarray(enc_symbs).reshape((1, n_qubits))\n",
    "\n",
    "    # Sympy symbols for variational layers\n",
    "    var_symbs = sympy.symbols(f'theta(0:{3*(n_layers)*n_qubits})')\n",
    "    var_symbs = np.asarray(var_symbs).reshape((n_layers, n_qubits, 3))\n",
    "\n",
    "    # Define circuit\n",
    "    circuit = cirq.Circuit()\n",
    "    for l in range(n_layers):\n",
    "        if l == 0:\n",
    "            #encoding layer\n",
    "            circuit += cirq.Circuit(cirq.rx(enc_symbs[l, i])(q) for i, q in enumerate(qubits))\n",
    "\n",
    "        # Variational layer\n",
    "        circuit += cirq.Circuit(one_qubit_rotation(q, var_symbs[l, i]) for i, q in enumerate(qubits))\n",
    "        circuit += entangling_layer(qubits)\n",
    "\n",
    "    return circuit, list(var_symbs.flat), list(enc_symbs.flat)"
   ]
  },
  {
   "cell_type": "code",
   "execution_count": 12,
   "metadata": {},
   "outputs": [
    {
     "name": "stderr",
     "output_type": "stream",
     "text": [
      "findfont: Font family ['Arial'] not found. Falling back to DejaVu Sans.\n"
     ]
    },
    {
     "data": {
      "image/svg+xml": "<svg xmlns=\"http://www.w3.org/2000/svg\" width=\"1928.1868359375003\" height=\"250.0\"><line x1=\"34.7588671875\" x2=\"1898.1868359375003\" y1=\"25.0\" y2=\"25.0\" stroke=\"#1967d2\" stroke-width=\"1\" /><line x1=\"34.7588671875\" x2=\"1898.1868359375003\" y1=\"75.0\" y2=\"75.0\" stroke=\"#1967d2\" stroke-width=\"1\" /><line x1=\"34.7588671875\" x2=\"1898.1868359375003\" y1=\"125.0\" y2=\"125.0\" stroke=\"#1967d2\" stroke-width=\"1\" /><line x1=\"34.7588671875\" x2=\"1898.1868359375003\" y1=\"175.0\" y2=\"175.0\" stroke=\"#1967d2\" stroke-width=\"1\" /><line x1=\"34.7588671875\" x2=\"1898.1868359375003\" y1=\"225.0\" y2=\"225.0\" stroke=\"#1967d2\" stroke-width=\"1\" /><line x1=\"534.2899609375\" x2=\"534.2899609375\" y1=\"25.0\" y2=\"75.0\" stroke=\"black\" stroke-width=\"3\" /><line x1=\"594.2899609375\" x2=\"594.2899609375\" y1=\"75.0\" y2=\"125.0\" stroke=\"black\" stroke-width=\"3\" /><line x1=\"654.2899609375\" x2=\"654.2899609375\" y1=\"125.0\" y2=\"175.0\" stroke=\"black\" stroke-width=\"3\" /><line x1=\"714.2899609375\" x2=\"714.2899609375\" y1=\"175.0\" y2=\"225.0\" stroke=\"black\" stroke-width=\"3\" /><line x1=\"1106.2383984375\" x2=\"1106.2383984375\" y1=\"25.0\" y2=\"75.0\" stroke=\"black\" stroke-width=\"3\" /><line x1=\"1166.2383984375\" x2=\"1166.2383984375\" y1=\"75.0\" y2=\"125.0\" stroke=\"black\" stroke-width=\"3\" /><line x1=\"1226.2383984375\" x2=\"1226.2383984375\" y1=\"125.0\" y2=\"175.0\" stroke=\"black\" stroke-width=\"3\" /><line x1=\"1286.2383984375\" x2=\"1286.2383984375\" y1=\"175.0\" y2=\"225.0\" stroke=\"black\" stroke-width=\"3\" /><line x1=\"1678.1868359375003\" x2=\"1678.1868359375003\" y1=\"25.0\" y2=\"75.0\" stroke=\"black\" stroke-width=\"3\" /><line x1=\"1738.1868359375003\" x2=\"1738.1868359375003\" y1=\"75.0\" y2=\"125.0\" stroke=\"black\" stroke-width=\"3\" /><line x1=\"1798.1868359375003\" x2=\"1798.1868359375003\" y1=\"125.0\" y2=\"175.0\" stroke=\"black\" stroke-width=\"3\" /><line x1=\"1858.1868359375003\" x2=\"1858.1868359375003\" y1=\"175.0\" y2=\"225.0\" stroke=\"black\" stroke-width=\"3\" /><rect x=\"10.0\" y=\"5.0\" width=\"49.517734375\" height=\"40\" stroke=\"black\" fill=\"white\" stroke-width=\"0\" /><text x=\"34.7588671875\" y=\"25.0\" dominant-baseline=\"middle\" text-anchor=\"middle\" font-size=\"14px\" font-family=\"Arial\">(0, 0): </text><rect x=\"10.0\" y=\"55.0\" width=\"49.517734375\" height=\"40\" stroke=\"black\" fill=\"white\" stroke-width=\"0\" /><text x=\"34.7588671875\" y=\"75.0\" dominant-baseline=\"middle\" text-anchor=\"middle\" font-size=\"14px\" font-family=\"Arial\">(0, 1): </text><rect x=\"10.0\" y=\"105.0\" width=\"49.517734375\" height=\"40\" stroke=\"black\" fill=\"white\" stroke-width=\"0\" /><text x=\"34.7588671875\" y=\"125.0\" dominant-baseline=\"middle\" text-anchor=\"middle\" font-size=\"14px\" font-family=\"Arial\">(0, 2): </text><rect x=\"10.0\" y=\"155.0\" width=\"49.517734375\" height=\"40\" stroke=\"black\" fill=\"white\" stroke-width=\"0\" /><text x=\"34.7588671875\" y=\"175.0\" dominant-baseline=\"middle\" text-anchor=\"middle\" font-size=\"14px\" font-family=\"Arial\">(0, 3): </text><rect x=\"10.0\" y=\"205.0\" width=\"49.517734375\" height=\"40\" stroke=\"black\" fill=\"white\" stroke-width=\"0\" /><text x=\"34.7588671875\" y=\"225.0\" dominant-baseline=\"middle\" text-anchor=\"middle\" font-size=\"14px\" font-family=\"Arial\">(0, 4): </text><rect x=\"79.517734375\" y=\"5.0\" width=\"82.82378906250001\" height=\"40\" stroke=\"black\" fill=\"white\" stroke-width=\"1\" /><text x=\"120.92962890625\" y=\"25.0\" dominant-baseline=\"middle\" text-anchor=\"middle\" font-size=\"14px\" font-family=\"Arial\">Rx(phi0_0)</text><rect x=\"79.517734375\" y=\"55.0\" width=\"82.82378906250001\" height=\"40\" stroke=\"black\" fill=\"white\" stroke-width=\"1\" /><text x=\"120.92962890625\" y=\"75.0\" dominant-baseline=\"middle\" text-anchor=\"middle\" font-size=\"14px\" font-family=\"Arial\">Rx(phi0_1)</text><rect x=\"79.517734375\" y=\"105.0\" width=\"82.82378906250001\" height=\"40\" stroke=\"black\" fill=\"white\" stroke-width=\"1\" /><text x=\"120.92962890625\" y=\"125.0\" dominant-baseline=\"middle\" text-anchor=\"middle\" font-size=\"14px\" font-family=\"Arial\">Rx(phi0_2)</text><rect x=\"79.517734375\" y=\"155.0\" width=\"82.82378906250001\" height=\"40\" stroke=\"black\" fill=\"white\" stroke-width=\"1\" /><text x=\"120.92962890625\" y=\"175.0\" dominant-baseline=\"middle\" text-anchor=\"middle\" font-size=\"14px\" font-family=\"Arial\">Rx(phi0_3)</text><rect x=\"79.517734375\" y=\"205.0\" width=\"82.82378906250001\" height=\"40\" stroke=\"black\" fill=\"white\" stroke-width=\"1\" /><text x=\"120.92962890625\" y=\"225.0\" dominant-baseline=\"middle\" text-anchor=\"middle\" font-size=\"14px\" font-family=\"Arial\">Rx(phi0_4)</text><rect x=\"182.34152343750003\" y=\"5.0\" width=\"91.21832031250001\" height=\"40\" stroke=\"black\" fill=\"white\" stroke-width=\"1\" /><text x=\"227.95068359375003\" y=\"25.0\" dominant-baseline=\"middle\" text-anchor=\"middle\" font-size=\"14px\" font-family=\"Arial\">Rx(theta0)</text><rect x=\"182.34152343750003\" y=\"55.0\" width=\"91.21832031250001\" height=\"40\" stroke=\"black\" fill=\"white\" stroke-width=\"1\" /><text x=\"227.95068359375003\" y=\"75.0\" dominant-baseline=\"middle\" text-anchor=\"middle\" font-size=\"14px\" font-family=\"Arial\">Rx(theta3)</text><rect x=\"182.34152343750003\" y=\"105.0\" width=\"91.21832031250001\" height=\"40\" stroke=\"black\" fill=\"white\" stroke-width=\"1\" /><text x=\"227.95068359375003\" y=\"125.0\" dominant-baseline=\"middle\" text-anchor=\"middle\" font-size=\"14px\" font-family=\"Arial\">Rx(theta6)</text><rect x=\"182.34152343750003\" y=\"155.0\" width=\"91.21832031250001\" height=\"40\" stroke=\"black\" fill=\"white\" stroke-width=\"1\" /><text x=\"227.95068359375003\" y=\"175.0\" dominant-baseline=\"middle\" text-anchor=\"middle\" font-size=\"14px\" font-family=\"Arial\">Rx(theta9)</text><rect x=\"182.34152343750003\" y=\"205.0\" width=\"91.21832031250001\" height=\"40\" stroke=\"black\" fill=\"white\" stroke-width=\"1\" /><text x=\"227.95068359375003\" y=\"225.0\" dominant-baseline=\"middle\" text-anchor=\"middle\" font-size=\"14px\" font-family=\"Arial\">Rx(theta12)</text><rect x=\"293.55984375\" y=\"5.0\" width=\"90.4483203125\" height=\"40\" stroke=\"black\" fill=\"white\" stroke-width=\"1\" /><text x=\"338.78400390625\" y=\"25.0\" dominant-baseline=\"middle\" text-anchor=\"middle\" font-size=\"14px\" font-family=\"Arial\">Ry(theta1)</text><rect x=\"293.55984375\" y=\"55.0\" width=\"90.4483203125\" height=\"40\" stroke=\"black\" fill=\"white\" stroke-width=\"1\" /><text x=\"338.78400390625\" y=\"75.0\" dominant-baseline=\"middle\" text-anchor=\"middle\" font-size=\"14px\" font-family=\"Arial\">Ry(theta4)</text><rect x=\"293.55984375\" y=\"105.0\" width=\"90.4483203125\" height=\"40\" stroke=\"black\" fill=\"white\" stroke-width=\"1\" /><text x=\"338.78400390625\" y=\"125.0\" dominant-baseline=\"middle\" text-anchor=\"middle\" font-size=\"14px\" font-family=\"Arial\">Ry(theta7)</text><rect x=\"293.55984375\" y=\"155.0\" width=\"90.4483203125\" height=\"40\" stroke=\"black\" fill=\"white\" stroke-width=\"1\" /><text x=\"338.78400390625\" y=\"175.0\" dominant-baseline=\"middle\" text-anchor=\"middle\" font-size=\"14px\" font-family=\"Arial\">Ry(theta10)</text><rect x=\"293.55984375\" y=\"205.0\" width=\"90.4483203125\" height=\"40\" stroke=\"black\" fill=\"white\" stroke-width=\"1\" /><text x=\"338.78400390625\" y=\"225.0\" dominant-baseline=\"middle\" text-anchor=\"middle\" font-size=\"14px\" font-family=\"Arial\">Ry(theta13)</text><rect x=\"404.00816406250004\" y=\"5.0\" width=\"90.28179687500001\" height=\"40\" stroke=\"black\" fill=\"white\" stroke-width=\"1\" /><text x=\"449.14906250000007\" y=\"25.0\" dominant-baseline=\"middle\" text-anchor=\"middle\" font-size=\"14px\" font-family=\"Arial\">Rz(theta2)</text><rect x=\"404.00816406250004\" y=\"55.0\" width=\"90.28179687500001\" height=\"40\" stroke=\"black\" fill=\"white\" stroke-width=\"1\" /><text x=\"449.14906250000007\" y=\"75.0\" dominant-baseline=\"middle\" text-anchor=\"middle\" font-size=\"14px\" font-family=\"Arial\">Rz(theta5)</text><rect x=\"404.00816406250004\" y=\"105.0\" width=\"90.28179687500001\" height=\"40\" stroke=\"black\" fill=\"white\" stroke-width=\"1\" /><text x=\"449.14906250000007\" y=\"125.0\" dominant-baseline=\"middle\" text-anchor=\"middle\" font-size=\"14px\" font-family=\"Arial\">Rz(theta8)</text><rect x=\"404.00816406250004\" y=\"155.0\" width=\"90.28179687500001\" height=\"40\" stroke=\"black\" fill=\"white\" stroke-width=\"1\" /><text x=\"449.14906250000007\" y=\"175.0\" dominant-baseline=\"middle\" text-anchor=\"middle\" font-size=\"14px\" font-family=\"Arial\">Rz(theta11)</text><rect x=\"404.00816406250004\" y=\"205.0\" width=\"90.28179687500001\" height=\"40\" stroke=\"black\" fill=\"white\" stroke-width=\"1\" /><text x=\"449.14906250000007\" y=\"225.0\" dominant-baseline=\"middle\" text-anchor=\"middle\" font-size=\"14px\" font-family=\"Arial\">Rz(theta14)</text><circle cx=\"534.2899609375\" cy=\"25.0\" r=\"10.0\" /><rect x=\"514.2899609375\" y=\"55.0\" width=\"40\" height=\"40\" stroke=\"black\" fill=\"white\" stroke-width=\"1\" /><text x=\"534.2899609375\" y=\"75.0\" dominant-baseline=\"middle\" text-anchor=\"middle\" font-size=\"18px\" font-family=\"Arial\">X</text><circle cx=\"594.2899609375\" cy=\"75.0\" r=\"10.0\" /><rect x=\"574.2899609375\" y=\"105.0\" width=\"40\" height=\"40\" stroke=\"black\" fill=\"white\" stroke-width=\"1\" /><text x=\"594.2899609375\" y=\"125.0\" dominant-baseline=\"middle\" text-anchor=\"middle\" font-size=\"18px\" font-family=\"Arial\">X</text><circle cx=\"654.2899609375\" cy=\"125.0\" r=\"10.0\" /><rect x=\"634.2899609375\" y=\"155.0\" width=\"40\" height=\"40\" stroke=\"black\" fill=\"white\" stroke-width=\"1\" /><text x=\"654.2899609375\" y=\"175.0\" dominant-baseline=\"middle\" text-anchor=\"middle\" font-size=\"18px\" font-family=\"Arial\">X</text><circle cx=\"714.2899609375\" cy=\"175.0\" r=\"10.0\" /><rect x=\"694.2899609375\" y=\"205.0\" width=\"40\" height=\"40\" stroke=\"black\" fill=\"white\" stroke-width=\"1\" /><text x=\"714.2899609375\" y=\"225.0\" dominant-baseline=\"middle\" text-anchor=\"middle\" font-size=\"18px\" font-family=\"Arial\">X</text><rect x=\"754.2899609375\" y=\"5.0\" width=\"91.21832031250001\" height=\"40\" stroke=\"black\" fill=\"white\" stroke-width=\"1\" /><text x=\"799.8991210937501\" y=\"25.0\" dominant-baseline=\"middle\" text-anchor=\"middle\" font-size=\"14px\" font-family=\"Arial\">Rx(theta15)</text><rect x=\"754.2899609375\" y=\"55.0\" width=\"91.21832031250001\" height=\"40\" stroke=\"black\" fill=\"white\" stroke-width=\"1\" /><text x=\"799.8991210937501\" y=\"75.0\" dominant-baseline=\"middle\" text-anchor=\"middle\" font-size=\"14px\" font-family=\"Arial\">Rx(theta18)</text><rect x=\"754.2899609375\" y=\"105.0\" width=\"91.21832031250001\" height=\"40\" stroke=\"black\" fill=\"white\" stroke-width=\"1\" /><text x=\"799.8991210937501\" y=\"125.0\" dominant-baseline=\"middle\" text-anchor=\"middle\" font-size=\"14px\" font-family=\"Arial\">Rx(theta21)</text><rect x=\"754.2899609375\" y=\"155.0\" width=\"91.21832031250001\" height=\"40\" stroke=\"black\" fill=\"white\" stroke-width=\"1\" /><text x=\"799.8991210937501\" y=\"175.0\" dominant-baseline=\"middle\" text-anchor=\"middle\" font-size=\"14px\" font-family=\"Arial\">Rx(theta24)</text><rect x=\"754.2899609375\" y=\"205.0\" width=\"91.21832031250001\" height=\"40\" stroke=\"black\" fill=\"white\" stroke-width=\"1\" /><text x=\"799.8991210937501\" y=\"225.0\" dominant-baseline=\"middle\" text-anchor=\"middle\" font-size=\"14px\" font-family=\"Arial\">Rx(theta27)</text><rect x=\"865.5082812500001\" y=\"5.0\" width=\"90.4483203125\" height=\"40\" stroke=\"black\" fill=\"white\" stroke-width=\"1\" /><text x=\"910.7324414062501\" y=\"25.0\" dominant-baseline=\"middle\" text-anchor=\"middle\" font-size=\"14px\" font-family=\"Arial\">Ry(theta16)</text><rect x=\"865.5082812500001\" y=\"55.0\" width=\"90.4483203125\" height=\"40\" stroke=\"black\" fill=\"white\" stroke-width=\"1\" /><text x=\"910.7324414062501\" y=\"75.0\" dominant-baseline=\"middle\" text-anchor=\"middle\" font-size=\"14px\" font-family=\"Arial\">Ry(theta19)</text><rect x=\"865.5082812500001\" y=\"105.0\" width=\"90.4483203125\" height=\"40\" stroke=\"black\" fill=\"white\" stroke-width=\"1\" /><text x=\"910.7324414062501\" y=\"125.0\" dominant-baseline=\"middle\" text-anchor=\"middle\" font-size=\"14px\" font-family=\"Arial\">Ry(theta22)</text><rect x=\"865.5082812500001\" y=\"155.0\" width=\"90.4483203125\" height=\"40\" stroke=\"black\" fill=\"white\" stroke-width=\"1\" /><text x=\"910.7324414062501\" y=\"175.0\" dominant-baseline=\"middle\" text-anchor=\"middle\" font-size=\"14px\" font-family=\"Arial\">Ry(theta25)</text><rect x=\"865.5082812500001\" y=\"205.0\" width=\"90.4483203125\" height=\"40\" stroke=\"black\" fill=\"white\" stroke-width=\"1\" /><text x=\"910.7324414062501\" y=\"225.0\" dominant-baseline=\"middle\" text-anchor=\"middle\" font-size=\"14px\" font-family=\"Arial\">Ry(theta28)</text><rect x=\"975.9566015625\" y=\"5.0\" width=\"90.28179687500001\" height=\"40\" stroke=\"black\" fill=\"white\" stroke-width=\"1\" /><text x=\"1021.0975000000001\" y=\"25.0\" dominant-baseline=\"middle\" text-anchor=\"middle\" font-size=\"14px\" font-family=\"Arial\">Rz(theta17)</text><rect x=\"975.9566015625\" y=\"55.0\" width=\"90.28179687500001\" height=\"40\" stroke=\"black\" fill=\"white\" stroke-width=\"1\" /><text x=\"1021.0975000000001\" y=\"75.0\" dominant-baseline=\"middle\" text-anchor=\"middle\" font-size=\"14px\" font-family=\"Arial\">Rz(theta20)</text><rect x=\"975.9566015625\" y=\"105.0\" width=\"90.28179687500001\" height=\"40\" stroke=\"black\" fill=\"white\" stroke-width=\"1\" /><text x=\"1021.0975000000001\" y=\"125.0\" dominant-baseline=\"middle\" text-anchor=\"middle\" font-size=\"14px\" font-family=\"Arial\">Rz(theta23)</text><rect x=\"975.9566015625\" y=\"155.0\" width=\"90.28179687500001\" height=\"40\" stroke=\"black\" fill=\"white\" stroke-width=\"1\" /><text x=\"1021.0975000000001\" y=\"175.0\" dominant-baseline=\"middle\" text-anchor=\"middle\" font-size=\"14px\" font-family=\"Arial\">Rz(theta26)</text><rect x=\"975.9566015625\" y=\"205.0\" width=\"90.28179687500001\" height=\"40\" stroke=\"black\" fill=\"white\" stroke-width=\"1\" /><text x=\"1021.0975000000001\" y=\"225.0\" dominant-baseline=\"middle\" text-anchor=\"middle\" font-size=\"14px\" font-family=\"Arial\">Rz(theta29)</text><circle cx=\"1106.2383984375\" cy=\"25.0\" r=\"10.0\" /><rect x=\"1086.2383984375\" y=\"55.0\" width=\"40\" height=\"40\" stroke=\"black\" fill=\"white\" stroke-width=\"1\" /><text x=\"1106.2383984375\" y=\"75.0\" dominant-baseline=\"middle\" text-anchor=\"middle\" font-size=\"18px\" font-family=\"Arial\">X</text><circle cx=\"1166.2383984375\" cy=\"75.0\" r=\"10.0\" /><rect x=\"1146.2383984375\" y=\"105.0\" width=\"40\" height=\"40\" stroke=\"black\" fill=\"white\" stroke-width=\"1\" /><text x=\"1166.2383984375\" y=\"125.0\" dominant-baseline=\"middle\" text-anchor=\"middle\" font-size=\"18px\" font-family=\"Arial\">X</text><circle cx=\"1226.2383984375\" cy=\"125.0\" r=\"10.0\" /><rect x=\"1206.2383984375\" y=\"155.0\" width=\"40\" height=\"40\" stroke=\"black\" fill=\"white\" stroke-width=\"1\" /><text x=\"1226.2383984375\" y=\"175.0\" dominant-baseline=\"middle\" text-anchor=\"middle\" font-size=\"18px\" font-family=\"Arial\">X</text><circle cx=\"1286.2383984375\" cy=\"175.0\" r=\"10.0\" /><rect x=\"1266.2383984375\" y=\"205.0\" width=\"40\" height=\"40\" stroke=\"black\" fill=\"white\" stroke-width=\"1\" /><text x=\"1286.2383984375\" y=\"225.0\" dominant-baseline=\"middle\" text-anchor=\"middle\" font-size=\"18px\" font-family=\"Arial\">X</text><rect x=\"1326.2383984375\" y=\"5.0\" width=\"91.21832031250001\" height=\"40\" stroke=\"black\" fill=\"white\" stroke-width=\"1\" /><text x=\"1371.8475585937501\" y=\"25.0\" dominant-baseline=\"middle\" text-anchor=\"middle\" font-size=\"14px\" font-family=\"Arial\">Rx(theta30)</text><rect x=\"1326.2383984375\" y=\"55.0\" width=\"91.21832031250001\" height=\"40\" stroke=\"black\" fill=\"white\" stroke-width=\"1\" /><text x=\"1371.8475585937501\" y=\"75.0\" dominant-baseline=\"middle\" text-anchor=\"middle\" font-size=\"14px\" font-family=\"Arial\">Rx(theta33)</text><rect x=\"1326.2383984375\" y=\"105.0\" width=\"91.21832031250001\" height=\"40\" stroke=\"black\" fill=\"white\" stroke-width=\"1\" /><text x=\"1371.8475585937501\" y=\"125.0\" dominant-baseline=\"middle\" text-anchor=\"middle\" font-size=\"14px\" font-family=\"Arial\">Rx(theta36)</text><rect x=\"1326.2383984375\" y=\"155.0\" width=\"91.21832031250001\" height=\"40\" stroke=\"black\" fill=\"white\" stroke-width=\"1\" /><text x=\"1371.8475585937501\" y=\"175.0\" dominant-baseline=\"middle\" text-anchor=\"middle\" font-size=\"14px\" font-family=\"Arial\">Rx(theta39)</text><rect x=\"1326.2383984375\" y=\"205.0\" width=\"91.21832031250001\" height=\"40\" stroke=\"black\" fill=\"white\" stroke-width=\"1\" /><text x=\"1371.8475585937501\" y=\"225.0\" dominant-baseline=\"middle\" text-anchor=\"middle\" font-size=\"14px\" font-family=\"Arial\">Rx(theta42)</text><rect x=\"1437.4567187500002\" y=\"5.0\" width=\"90.4483203125\" height=\"40\" stroke=\"black\" fill=\"white\" stroke-width=\"1\" /><text x=\"1482.6808789062502\" y=\"25.0\" dominant-baseline=\"middle\" text-anchor=\"middle\" font-size=\"14px\" font-family=\"Arial\">Ry(theta31)</text><rect x=\"1437.4567187500002\" y=\"55.0\" width=\"90.4483203125\" height=\"40\" stroke=\"black\" fill=\"white\" stroke-width=\"1\" /><text x=\"1482.6808789062502\" y=\"75.0\" dominant-baseline=\"middle\" text-anchor=\"middle\" font-size=\"14px\" font-family=\"Arial\">Ry(theta34)</text><rect x=\"1437.4567187500002\" y=\"105.0\" width=\"90.4483203125\" height=\"40\" stroke=\"black\" fill=\"white\" stroke-width=\"1\" /><text x=\"1482.6808789062502\" y=\"125.0\" dominant-baseline=\"middle\" text-anchor=\"middle\" font-size=\"14px\" font-family=\"Arial\">Ry(theta37)</text><rect x=\"1437.4567187500002\" y=\"155.0\" width=\"90.4483203125\" height=\"40\" stroke=\"black\" fill=\"white\" stroke-width=\"1\" /><text x=\"1482.6808789062502\" y=\"175.0\" dominant-baseline=\"middle\" text-anchor=\"middle\" font-size=\"14px\" font-family=\"Arial\">Ry(theta40)</text><rect x=\"1437.4567187500002\" y=\"205.0\" width=\"90.4483203125\" height=\"40\" stroke=\"black\" fill=\"white\" stroke-width=\"1\" /><text x=\"1482.6808789062502\" y=\"225.0\" dominant-baseline=\"middle\" text-anchor=\"middle\" font-size=\"14px\" font-family=\"Arial\">Ry(theta43)</text><rect x=\"1547.9050390625002\" y=\"5.0\" width=\"90.28179687500001\" height=\"40\" stroke=\"black\" fill=\"white\" stroke-width=\"1\" /><text x=\"1593.0459375000003\" y=\"25.0\" dominant-baseline=\"middle\" text-anchor=\"middle\" font-size=\"14px\" font-family=\"Arial\">Rz(theta32)</text><rect x=\"1547.9050390625002\" y=\"55.0\" width=\"90.28179687500001\" height=\"40\" stroke=\"black\" fill=\"white\" stroke-width=\"1\" /><text x=\"1593.0459375000003\" y=\"75.0\" dominant-baseline=\"middle\" text-anchor=\"middle\" font-size=\"14px\" font-family=\"Arial\">Rz(theta35)</text><rect x=\"1547.9050390625002\" y=\"105.0\" width=\"90.28179687500001\" height=\"40\" stroke=\"black\" fill=\"white\" stroke-width=\"1\" /><text x=\"1593.0459375000003\" y=\"125.0\" dominant-baseline=\"middle\" text-anchor=\"middle\" font-size=\"14px\" font-family=\"Arial\">Rz(theta38)</text><rect x=\"1547.9050390625002\" y=\"155.0\" width=\"90.28179687500001\" height=\"40\" stroke=\"black\" fill=\"white\" stroke-width=\"1\" /><text x=\"1593.0459375000003\" y=\"175.0\" dominant-baseline=\"middle\" text-anchor=\"middle\" font-size=\"14px\" font-family=\"Arial\">Rz(theta41)</text><rect x=\"1547.9050390625002\" y=\"205.0\" width=\"90.28179687500001\" height=\"40\" stroke=\"black\" fill=\"white\" stroke-width=\"1\" /><text x=\"1593.0459375000003\" y=\"225.0\" dominant-baseline=\"middle\" text-anchor=\"middle\" font-size=\"14px\" font-family=\"Arial\">Rz(theta44)</text><circle cx=\"1678.1868359375003\" cy=\"25.0\" r=\"10.0\" /><rect x=\"1658.1868359375003\" y=\"55.0\" width=\"40\" height=\"40\" stroke=\"black\" fill=\"white\" stroke-width=\"1\" /><text x=\"1678.1868359375003\" y=\"75.0\" dominant-baseline=\"middle\" text-anchor=\"middle\" font-size=\"18px\" font-family=\"Arial\">X</text><circle cx=\"1738.1868359375003\" cy=\"75.0\" r=\"10.0\" /><rect x=\"1718.1868359375003\" y=\"105.0\" width=\"40\" height=\"40\" stroke=\"black\" fill=\"white\" stroke-width=\"1\" /><text x=\"1738.1868359375003\" y=\"125.0\" dominant-baseline=\"middle\" text-anchor=\"middle\" font-size=\"18px\" font-family=\"Arial\">X</text><circle cx=\"1798.1868359375003\" cy=\"125.0\" r=\"10.0\" /><rect x=\"1778.1868359375003\" y=\"155.0\" width=\"40\" height=\"40\" stroke=\"black\" fill=\"white\" stroke-width=\"1\" /><text x=\"1798.1868359375003\" y=\"175.0\" dominant-baseline=\"middle\" text-anchor=\"middle\" font-size=\"18px\" font-family=\"Arial\">X</text><circle cx=\"1858.1868359375003\" cy=\"175.0\" r=\"10.0\" /><rect x=\"1838.1868359375003\" y=\"205.0\" width=\"40\" height=\"40\" stroke=\"black\" fill=\"white\" stroke-width=\"1\" /><text x=\"1858.1868359375003\" y=\"225.0\" dominant-baseline=\"middle\" text-anchor=\"middle\" font-size=\"18px\" font-family=\"Arial\">X</text></svg>",
      "text/plain": [
       "<cirq.contrib.svg.svg.SVGCircuit at 0x7fd38c4a1400>"
      ]
     },
     "execution_count": 12,
     "metadata": {},
     "output_type": "execute_result"
    }
   ],
   "source": [
    "g, variational_params, encoder_params = generator_circuit(qubits = qubits, n_layers = 3) \n",
    "SVGCircuit(g)"
   ]
  },
  {
   "cell_type": "code",
   "execution_count": 13,
   "metadata": {},
   "outputs": [],
   "source": [
    "class Generator(Layer):\n",
    "\n",
    "    def __init__(self, qubits, gen_n_layers, observables, noise_batch_size, activation = 'linear', name = \"Generator\"):\n",
    "        super(Generator, self).__init__()\n",
    "        self.gen_n_layers = gen_n_layers\n",
    "        self.qubits = qubits\n",
    "        self.observables = observables\n",
    "        self.activation = activation\n",
    "        self.noise_batch_size = noise_batch_size\n",
    "\n",
    "        self.circuit, self.var_symb, self.enc_symb = generator_circuit(qubits, self.gen_n_layers)\n",
    "        \n",
    "        self.tens_circuit = tfq.convert_to_tensor([self.circuit])\n",
    "\n",
    "        self.symbols = [str(symb) for symb in self.enc_symb + self.var_symb]\n",
    "        self.indices = tf.constant([self.symbols.index(a) for a in sorted(self.symbols)]) \n",
    "\n",
    "        #self.scaled_input = []\n",
    "\n",
    "        self.state_layer = tfq.layers.State()\n",
    "        self.expectation_layer = tfq.layers.Expectation()\n",
    "\n",
    "        theta_init = tf.random_uniform_initializer(minval = 0.0, maxval = np.pi)\n",
    "        self.theta = tf.Variable(initial_value=theta_init(shape=(1, len(self.var_symb)), dtype=\"float32\"), trainable=True, name=\"thetas\")\n",
    "\n",
    "    # def build(self, input_shape):\n",
    "        \n",
    "        \n",
    "    #     #print(theta_init)\n",
    "    #     phi_init = tf.keras.initializers.ones()\n",
    "    #     #print(phi_init)\n",
    "\n",
    "    #     self.theta = self.add_weight(shape = (len(self.var_symb),), initializer = theta_init, name = \"theta\")\n",
    "    #     self.phi = self.add_weight(shape = (len(self.enc_symb),), initializer = phi_init, name = \"phi\")    \n",
    "       \n",
    "    def call(self, inputs):\n",
    "\n",
    "        #print(inputs)\n",
    "        #print(self.theta)\n",
    "\n",
    "        #inputs = tf.convert_to_tensor(inputs)\n",
    "        #print('input: ', inputs)\n",
    "        #batch_size = tf.gather(tf.shape(inputs), 0)\n",
    "        #print('data:', batch_size)\n",
    "        #params = tf.concat([self.phi, self.theta], axis = 0)\n",
    "        #print('parameters:', self.params)\n",
    "        #tiled_up_params = tf.tile(tf.expand_dims(self.theta, 0), [batch_size, 1])\n",
    "        #print('tiled up params:', tiled_up_params)\n",
    "        #for i in range(batch_size):\n",
    "        #scaled_inputs = tf.einsum(\"i,ji->ji\", self.phi, inputs)\n",
    "        #print('scaled input:', scaled_inputs)\n",
    "        #    self.scaled_input.append(scaled_inputs)\n",
    "\n",
    "        #scaled_input_tensor = tf.convert_to_tensor(self.scaled_input), tf.squeeze(scaled_input_tensor, 1)\n",
    "\n",
    "        #squashed_inputs = Activation(self.activation)()\n",
    "        joined_params = tf.concat([inputs, self.theta], 1)\n",
    "        #print('joined params: ', joined_params)\n",
    "        #joined_params = tf.gather(joined_params, self.indices, axis = 1)\n",
    "        #print('joined vars after', joined_params)\n",
    "\n",
    "        states = self.state_layer(self.circuit, symbol_names = self.symbols, symbol_values = joined_params)\n",
    "        #print('states: ', states)\n",
    "\n",
    "        expectations = self.expectation_layer(self.circuit, symbol_names = self.symbols,\n",
    "                                              operators = self.observables, symbol_values = joined_params)  \n",
    "        #print('Observables', expectations)\n",
    "\n",
    "        #probs = list(abs(x)**2 for x in states)\n",
    "\n",
    "        return expectations#, probs#, self.circuit, self.symbols, joined_params       "
   ]
  },
  {
   "cell_type": "code",
   "execution_count": 14,
   "metadata": {},
   "outputs": [],
   "source": [
    "# input_circuit_tensor = tfq.convert_to_tensor([g])\n",
    "# y_appender = tfq.layers.AddCircuit()\n",
    "# output_circuit_tensor = y_appender(input_circuit_tensor, append=g)"
   ]
  },
  {
   "cell_type": "code",
   "execution_count": 15,
   "metadata": {},
   "outputs": [],
   "source": [
    "# class QuantumGen():\n",
    "\n",
    "#     def __init__(self, qubits, gen_n_layers, observables):\n",
    "#         super(QuantumGen, self).__init__()\n",
    "        \n",
    "#         self.gen_n_layers = gen_n_layers\n",
    "#         self.qubits = qubits\n",
    "#         self.observables = observables\n",
    "#         self.noise_batch_size = 1\n",
    "#         optimizer = Adam(0.001)        \n",
    "\n",
    "#     def build_gen(self):\n",
    "#         signal_input = Input(shape=(1, len(self.qubits)), dtype=tf.dtypes.float32, name = 'input')\n",
    "#         gen_out = Generator(self.qubits, self.gen_n_layers, self.observables, self.noise_batch_size)([signal_input])\n",
    "\n",
    "#         return Model(inputs = signal_input, outputs = gen_out)"
   ]
  },
  {
   "cell_type": "code",
   "execution_count": 16,
   "metadata": {},
   "outputs": [
    {
     "name": "stdout",
     "output_type": "stream",
     "text": [
      "Model: \"model\"\n",
      "_________________________________________________________________\n",
      " Layer (type)                Output Shape              Param #   \n",
      "=================================================================\n",
      " input_1 (InputLayer)        [(None, 4)]               0         \n",
      "                                                                 \n",
      " generator (Generator)       (1, 4)                    48        \n",
      "                                                                 \n",
      "=================================================================\n",
      "Total params: 48\n",
      "Trainable params: 48\n",
      "Non-trainable params: 0\n",
      "_________________________________________________________________\n"
     ]
    }
   ],
   "source": [
    "n_qubits = 2\n",
    "qubits = cirq.GridQubit.rect(n_qubits,n_qubits)\n",
    "n_a_qubits = 1\n",
    "gen_n_layers = 4\n",
    "observables = [cirq.Z(q) for q in qubits]\n",
    "n_generators = 4\n",
    "batch_size = 8\n",
    "noise_batch_size = 1\n",
    "\n",
    "# Testing generator quantum circuit\n",
    "inp = Input(shape=(n_qubits*n_qubits,))\n",
    "z_noise = tf.random.normal([1,n_qubits*n_qubits]) * np.pi / 2\n",
    "#print('Z noise: ', z_noise)\n",
    "\n",
    "exp = Generator(qubits = qubits, gen_n_layers = gen_n_layers, observables = observables, noise_batch_size = noise_batch_size)(inp)\n",
    "\n",
    "gen_model = Model(inp, exp)\n",
    "gen_model.summary()"
   ]
  },
  {
   "cell_type": "code",
   "execution_count": 17,
   "metadata": {},
   "outputs": [],
   "source": [
    "#gen_model.compile(optimizer=tf.keras.optimizers.Adam(learning_rate=1e-3), loss=tf.keras.losses.BinaryCrossentropy())"
   ]
  },
  {
   "cell_type": "code",
   "execution_count": 18,
   "metadata": {},
   "outputs": [],
   "source": [
    "# non_diff_op = tfq.get_expectation_op()\n",
    "# linear_differentiator = tfq.differentiators.ParameterShift()\n",
    "# # Get an expectation op, with this differentiator attached.\n",
    "# op = linear_differentiator.generate_differentiable_op(analytic_op=non_diff_op)\n",
    "\n",
    "#psums = tfq.convert_to_tensor([[cirq.Z(q) for q in qubits]])\n",
    "with tf.GradientTape() as g:\n",
    "    \n",
    "    exp = Generator(qubits = qubits, gen_n_layers = gen_n_layers, observables = observables, noise_batch_size = noise_batch_size)(inp)\n",
    "\n",
    "    gen_model = Model(inp, exp)\n",
    "\n",
    "    #gen_model= Generator(qubits = qubits, gen_n_layers = gen_n_layers, observables = observables, noise_batch_size = noise_batch_size)\n",
    "    expectations = gen_model(z_noise)\n",
    "    # g.watch(values)\n",
    "    # print('exp:', exp)\n",
    "    # c = tfq.convert_to_tensor([circ])\n",
    "    # symbol_names = tf.convert_to_tensor(symbols)   \n",
    "    \n",
    "    #expectations = op(c, symbol_names, values, psums)\n",
    "    #print('expectation: ', expectations)\n",
    "# This value is now computed via the ParameterShift rule\n",
    "grads = g.gradient(expectations, gen_model.trainable_variables)\n",
    "#grads"
   ]
  },
  {
   "cell_type": "code",
   "execution_count": 19,
   "metadata": {},
   "outputs": [],
   "source": [
    "class discriminator(Model):\n",
    "    def __init__(self):\n",
    "        \n",
    "        super(discriminator, self).__init__() \n",
    "        #self.disc_input_shape = disc_input_shape\n",
    "        #self.disc_weight = RandomNormal(mean = 0., stddev = 1.) \n",
    "        #self.input = Input(shape=self.disc_input_shape) \n",
    "\n",
    "        self.conv1 = Conv2D(5, (1,1), strides = (2, 2), padding = 'same')  \n",
    "        self.conv2 = Conv2D(128, (1,1), strides = (2, 2), padding = 'same')\n",
    "        self.dense = Dense(1)\n",
    "              \n",
    "\n",
    "    def call(self, input):\n",
    "        \n",
    "        #print('inp', input)\n",
    "        \n",
    "        x = self.conv1(input)\n",
    "        #print('1', x)\n",
    "        x = LeakyReLU()(x)\n",
    "        x = Dropout(0.3)(x)\n",
    "        x = self.conv2(x)\n",
    "        x = LeakyReLU()(x)\n",
    "        x = Dropout(0.3)(x)\n",
    "        x = Flatten()(x)\n",
    "        x = self.dense(x)\n",
    "        #print('fin', x)\n",
    "\n",
    "        return tf.keras.activations.sigmoid(x)"
   ]
  },
  {
   "cell_type": "code",
   "execution_count": 20,
   "metadata": {},
   "outputs": [
    {
     "name": "stdout",
     "output_type": "stream",
     "text": [
      "Model: \"discriminator\"\n",
      "_________________________________________________________________\n",
      " Layer (type)                Output Shape              Param #   \n",
      "=================================================================\n",
      " conv2d (Conv2D)             multiple                  10        \n",
      "                                                                 \n",
      " conv2d_1 (Conv2D)           multiple                  768       \n",
      "                                                                 \n",
      " dense (Dense)               multiple                  129       \n",
      "                                                                 \n",
      "=================================================================\n",
      "Total params: 907\n",
      "Trainable params: 907\n",
      "Non-trainable params: 0\n",
      "_________________________________________________________________\n"
     ]
    }
   ],
   "source": [
    "inppp = tf.random.normal([1, 16, 1, 1])\n",
    "\n",
    "disc = discriminator()\n",
    "\n",
    "# a = x_train[0]\n",
    "# a = tf.expand_dims(a, axis = 0)\n",
    "# print(disc_net(a))\n",
    "disc.build(input_shape=(1,n_qubits*n_qubits,1,1))\n",
    "disc.summary()"
   ]
  },
  {
   "cell_type": "code",
   "execution_count": 21,
   "metadata": {},
   "outputs": [],
   "source": [
    "class Trainer():\n",
    "\n",
    "    def __init__(self, x_train, gen_net, disc_net, gen_init_layer_size, z_dim, disc_input_shape, batch_size):\n",
    "        super(Trainer, self).__init__()\n",
    "        self.x_train = x_train\n",
    "        self.gen_init_layer_size = gen_init_layer_size\n",
    "        self.z_dim = z_dim\n",
    "        self.disc_input_shape = disc_input_shape\n",
    "        self.gen_opt = tf.keras.optimizers.SGD(3e-1)\n",
    "        self.disc_opt = tf.keras.optimizers.SGD(1e-2) \n",
    "        self.batch_size = batch_size      \n",
    "        self.loss = tf.keras.losses.BinaryCrossentropy(from_logits = False) \n",
    "        self.gen_net = gen_net \n",
    "        self.disc_net = disc_net  \n",
    "        #self.writer = writer  \n",
    "        #self.logging= logging  \n",
    "        #self.log_dir = log_dir\n",
    "\n",
    "        \n",
    "    \n",
    "    def gen_loss(self, fake_out):\n",
    "        return self.loss(tf.ones_like(fake_out), fake_out)\n",
    "\n",
    "\n",
    "    def disc_loss(self, img, fake_out):\n",
    "\n",
    "        real_loss = self.loss(tf.ones_like(img), img)\n",
    "        fake_loss = self.loss(tf.zeros_like(fake_out), fake_out)\n",
    "\n",
    "        total_loss = real_loss + fake_loss\n",
    "        return total_loss   \n",
    "\n",
    "\n",
    "    def generate_and_save_images(self, model, epoch, test_input):\n",
    "        \n",
    "        predictions = model(test_input, training=False)\n",
    "\n",
    "        plt.figure(figsize=(8, 8))\n",
    "\n",
    "        for i, image in enumerate(predictions, 1):\n",
    "            try:\n",
    "                plt.subplot(4, 4, i)\n",
    "                plt.imshow(image[:, :, 0], cmap='gray')\n",
    "            except ValueError:\n",
    "                break       \n",
    "        \n",
    "        plt.savefig(self.log_dir + 'image_at_epoch_{:04d}.png'.format(epoch))\n",
    "        plt.show()\n",
    "\n",
    "\n",
    "    def train_step(self, image):\n",
    "\n",
    "        noise = tf.random.normal([self.batch_size, self.z_dim])\n",
    "        #print(noise.shape)\n",
    "        #image = tf.reshape(image, (1,self.z_dim,1,1))\n",
    "\n",
    "        with tf.GradientTape() as gen_tape, tf.GradientTape() as disc_tape:\n",
    "            \n",
    "            generated_images = self.gen_net(noise, training=True)\n",
    "\n",
    "            real_out = self.disc_net(tf.reshape(image, (1,self.z_dim,1,1)), training = True)\n",
    "            fake_out = self.disc_net(tf.reshape(generated_images, (1,self.z_dim,1,1)), training = True)\n",
    "\n",
    "            gen_loss = self.gen_loss(fake_out)\n",
    "            disc_loss = self.disc_loss(real_out, fake_out)\n",
    "\n",
    "        gradients_of_generator = gen_tape.gradient(gen_loss, self.gen_net.trainable_variables)\n",
    "        gradients_of_discriminator = disc_tape.gradient(disc_loss, self.disc_net.trainable_variables)\n",
    "\n",
    "        #print('Grad gen: ', gradients_of_generator)\n",
    "        #print('Grad disc: ', gradients_of_discriminator)\n",
    "\n",
    "        self.gen_opt.apply_gradients(zip(gradients_of_generator, self.gen_net.trainable_variables))\n",
    "        self.disc_opt.apply_gradients(zip(gradients_of_discriminator, self.disc_net.trainable_variables))\n",
    "            \n",
    "        return gen_loss, disc_loss\n",
    "\n",
    "\n",
    "    def learn(self, epochs):\n",
    "\n",
    "        self.g_loss = []\n",
    "        self.d_loss = []\n",
    "        self.g_loss_tot, self.d_loss_tot = [], []\n",
    "\n",
    "\n",
    "        for epoch in range(epochs):\n",
    "\n",
    "            print(f'EPOCH {epoch+1}')\n",
    "\n",
    "            i = 0\n",
    "\n",
    "            for _, batch_img in enumerate(self.x_train):\n",
    "\n",
    "                gl, dl = self.train_step(batch_img)                \n",
    "\n",
    "                i += 1\n",
    "\n",
    "                self.g_loss.append(gl)\n",
    "                \n",
    "                self.d_loss.append(dl)\n",
    "\n",
    "            self.g_loss_tot.append(np.mean(self.g_loss))\n",
    "            self.d_loss_tot.append(np.mean(self.d_loss))\n",
    "\n",
    "\n",
    "        \n",
    "            # produce images \n",
    "            #display.clear_output(wait=True)\n",
    "            #self.generate_and_save_images(self.gen_net, epoch + 1, tf.random.normal([self.batch_size, self.z_dim]))  \n",
    "\n",
    "            \n",
    "            \n",
    "        \n",
    "        # print(len(self.g_loss))\n",
    "        # plt.figure(figsize=(15, 8))\n",
    "        # plt.plot(np.arange(len(self.g_loss)), self.g_loss, color = 'Red', label = 'Generator Loss')\n",
    "        # plt.plot(np.arange(len(self.d_loss)), self.d_loss, color = 'Blue', label = 'Discriminator Loss')\n",
    "        # plt.xlabel('Epochs')\n",
    "        # plt.ylabel('Loss')\n",
    "        # plt.legend(loc = 'upper right')\n",
    "        # plt.show()"
   ]
  },
  {
   "cell_type": "code",
   "execution_count": 22,
   "metadata": {},
   "outputs": [],
   "source": [
    "z_dim = 4\n",
    "batch_size = 1\n",
    "buffer_size = 360\n",
    "train_dataset = tf.data.Dataset.from_tensor_slices(imgs[:300]).shuffle(buffer_size).batch(batch_size)\n",
    "epochs = 20\n",
    "\n",
    "# for elem in train_dataset:\n",
    "#     #print(elem.shape)"
   ]
  },
  {
   "cell_type": "code",
   "execution_count": 23,
   "metadata": {},
   "outputs": [
    {
     "name": "stdout",
     "output_type": "stream",
     "text": [
      "EPOCH 1\n",
      "EPOCH 2\n",
      "EPOCH 3\n",
      "EPOCH 4\n",
      "EPOCH 5\n",
      "EPOCH 6\n",
      "EPOCH 7\n",
      "EPOCH 8\n",
      "EPOCH 9\n",
      "EPOCH 10\n",
      "EPOCH 11\n",
      "EPOCH 12\n",
      "EPOCH 13\n",
      "EPOCH 14\n",
      "EPOCH 15\n",
      "EPOCH 16\n",
      "EPOCH 17\n",
      "EPOCH 18\n",
      "EPOCH 19\n",
      "EPOCH 20\n"
     ]
    }
   ],
   "source": [
    "exp = Generator(qubits = qubits, gen_n_layers = gen_n_layers, observables = observables, noise_batch_size = noise_batch_size)(inp)\n",
    "\n",
    "gen_net = Model(inp, exp)\n",
    "disc_net = discriminator()\n",
    "\n",
    "trainer = Trainer(x_train=train_dataset, gen_net=gen_net, disc_net=disc_net, gen_init_layer_size=(1,4), z_dim=z_dim, disc_input_shape=(1,4,1,1), batch_size=batch_size)\n",
    "\n",
    "trainer.learn(epochs)"
   ]
  },
  {
   "cell_type": "code",
   "execution_count": 24,
   "metadata": {},
   "outputs": [
    {
     "data": {
      "image/png": "[encoded data removed]",
      "text/plain": [
       "<Figure size 720x504 with 2 Axes>"
      ]
     },
     "metadata": {
      "needs_background": "light"
     },
     "output_type": "display_data"
    }
   ],
   "source": [
    "figure, axis = plt.subplots(2,1, figsize=(10,7))\n",
    "\n",
    "axis[0].plot(np.arange(len(trainer.g_loss_tot)), trainer.g_loss_tot)\n",
    "axis[0].set_title('Generator loss')\n",
    "axis[1].plot(np.arange(len(trainer.d_loss_tot)), trainer.d_loss_tot, label='Disc loss', color='red')\n",
    "axis[1].set_title(\"Discriminator loss\")\n",
    "\n",
    "figure.tight_layout()\n",
    "plt.show()"
   ]
  },
  {
   "cell_type": "code",
   "execution_count": null,
   "metadata": {},
   "outputs": [],
   "source": []
  }
 ],
 "metadata": {
  "kernelspec": {
   "display_name": "base",
   "language": "python",
   "name": "python3"
  },
  "language_info": {
   "codemirror_mode": {
    "name": "ipython",
    "version": 3
   },
   "file_extension": ".py",
   "mimetype": "text/x-python",
   "name": "python",
   "nbconvert_exporter": "python",
   "pygments_lexer": "ipython3",
   "version": "3.9.12"
  },
  "orig_nbformat": 4,
  "vscode": {
   "interpreter": {
    "hash": "41b44beeb6ae1f78ee853589a4fc9a204ef8b2c5ec7d95e779faecfadf9e001f"
   }
  }
 },
 "nbformat": 4,
 "nbformat_minor": 2
}
